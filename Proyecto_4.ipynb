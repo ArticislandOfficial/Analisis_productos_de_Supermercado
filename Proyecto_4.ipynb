{
 "cells": [
  {
   "cell_type": "markdown",
   "id": "a0a6a044",
   "metadata": {},
   "source": [
    "<b>¡Hola Cesar!</b>\n",
    "\n",
    "Mi nombre es Alejandro Abia y tengo el gusto de revisar tu proyecto.\n",
    "\n",
    "A continuación, encontrarás mis comentarios en celdas pintadas de tres colores (verde, amarillo y rojo), a manera de semáforo. Por favor, <b>no las borres ni muevas de posición</b> mientras dure el proceso de revisión.\n",
    "\n",
    "<div class=\"alert alert-block alert-success\">\n",
    "<b>Éxito</b> <a class=\"tocSkip\"></a>\n",
    "En celdas verdes encontrarás comentarios en relación a tus aciertos y fortalezas.\n",
    "</div>\n",
    "<div class=\"alert alert-block alert-warning\">\n",
    "<b>Antención</b> <a class=\"tocSkip\"></a>\n",
    "Utilizaré el color amarillo para llamar tu atención, expresar algo importante o compartirte alguna idea de valor.\n",
    "</div>\n",
    "<div class=\"alert alert-block alert-danger\">\n",
    "<b>A resolver</b> <a class=\"tocSkip\"></a>\n",
    "En rojo emitiré aquellos puntos que deberás atender para aprobar la revisión.\n",
    "</div>\n",
    "<div class=\"alert alert-block alert-info\">\n",
    "<b>Comentario estudiante</b><a class=\"tocSkip\"></a>\n",
    "Es factible que, a lo largo del proceso de revisión, quieras dejarme comentarios. Si es el caso, por favor realízalo dentro de celdas azules como esta.\n",
    "</div>\n",
    "Respecto del proceso de revisión, tu proyecto será aceptado una vez que los comentarios en rojo hayan sido atendidos.\n",
    "¡Empecemos!"
   ]
  },
  {
   "cell_type": "markdown",
   "id": "3Xg_RQfnafXz",
   "metadata": {
    "id": "3Xg_RQfnafXz"
   },
   "source": [
    "# ¡Llena ese carrito!"
   ]
  },
  {
   "cell_type": "markdown",
   "id": "mhIvmmkW414q",
   "metadata": {
    "id": "mhIvmmkW414q"
   },
   "source": [
    "# Introducción\n",
    "\n",
    "Instacart es una plataforma de entregas de comestibles donde la clientela puede registrar un pedido y hacer que se lo entreguen, similar a Uber Eats y Door Dash.\n",
    "El conjunto de datos que te hemos proporcionado tiene modificaciones del original. Redujimos el tamaño del conjunto para que tus cálculos se hicieran más rápido e introdujimos valores ausentes y duplicados. Tuvimos cuidado de conservar las distribuciones de los datos originales cuando hicimos los cambios.\n",
    "\n",
    "Debes completar tres pasos. Para cada uno de ellos, escribe una breve introducción que refleje con claridad cómo pretendes resolver cada paso, y escribe párrafos explicatorios que justifiquen tus decisiones al tiempo que avanzas en tu solución.  También escribe una conclusión que resuma tus hallazgos y elecciones.\n"
   ]
  },
  {
   "cell_type": "markdown",
   "id": "3MbyzpOQZ5Or",
   "metadata": {
    "id": "3MbyzpOQZ5Or"
   },
   "source": [
    "## Diccionario de datos\n",
    "\n",
    "Hay cinco tablas en el conjunto de datos, y tendrás que usarlas todas para hacer el preprocesamiento de datos y el análisis exploratorio de datos. A continuación se muestra un diccionario de datos que enumera las columnas de cada tabla y describe los datos que contienen.\n",
    "\n",
    "- `instacart_orders.csv`: cada fila corresponde a un pedido en la aplicación Instacart.\n",
    "    - `'order_id'`: número de ID que identifica de manera única cada pedido.\n",
    "    - `'user_id'`: número de ID que identifica de manera única la cuenta de cada cliente.\n",
    "    - `'order_number'`: el número de veces que este cliente ha hecho un pedido.\n",
    "    - `'order_dow'`: día de la semana en que se hizo el pedido (0 si es domingo).\n",
    "    - `'order_hour_of_day'`: hora del día en que se hizo el pedido.\n",
    "    - `'days_since_prior_order'`: número de días transcurridos desde que este cliente hizo su pedido anterior.\n",
    "- `products.csv`: cada fila corresponde a un producto único que pueden comprar los clientes.\n",
    "    - `'product_id'`: número ID que identifica de manera única cada producto.\n",
    "    - `'product_name'`: nombre del producto.\n",
    "    - `'aisle_id'`: número ID que identifica de manera única cada categoría de pasillo de víveres.\n",
    "    - `'department_id'`: número ID que identifica de manera única cada departamento de víveres.\n",
    "- `order_products.csv`: cada fila corresponde a un artículo pedido en un pedido.\n",
    "    - `'order_id'`: número de ID que identifica de manera única cada pedido.\n",
    "    - `'product_id'`: número ID que identifica de manera única cada producto.\n",
    "    - `'add_to_cart_order'`: el orden secuencial en el que se añadió cada artículo en el carrito.\n",
    "    - `'reordered'`: 0 si el cliente nunca ha pedido este producto antes, 1 si lo ha pedido.\n",
    "- `aisles.csv`\n",
    "    - `'aisle_id'`: número ID que identifica de manera única cada categoría de pasillo de víveres.\n",
    "    - `'aisle'`: nombre del pasillo.\n",
    "- `departments.csv`\n",
    "    - `'department_id'`: número ID que identifica de manera única cada departamento de víveres.\n",
    "    - `'department'`: nombre del departamento."
   ]
  },
  {
   "cell_type": "markdown",
   "id": "n3Ha_cNSZ8lK",
   "metadata": {
    "id": "n3Ha_cNSZ8lK"
   },
   "source": [
    "# Paso 1. Descripción de los datos\n",
    "\n",
    "Lee los archivos de datos (`/datasets/instacart_orders.csv`, `/datasets/products.csv`, `/datasets/aisles.csv`, `/datasets/departments.csv` y `/datasets/order_products.csv`) con `pd.read_csv()` usando los parámetros adecuados para leer los datos correctamente. Verifica la información para cada DataFrame creado.\n"
   ]
  },
  {
   "cell_type": "markdown",
   "id": "OmlQPLlyaAfR",
   "metadata": {
    "id": "OmlQPLlyaAfR"
   },
   "source": [
    "## Plan de solución\n",
    "\n",
    "Escribe aquí tu plan de solución para el Paso 1. Descripción de los datos.\n",
    "\n",
    "1. Hay que importar de primera instancia nuestra libreria `pandas` , `numpy`\n",
    "1. Lo primero que hay que hacer es convertir/leer en DataFrames  todos nuestros archivos csv para poder trabajar maas rapido con todos los datos.\n",
    "2. Hay que utilizar el metodo `info()` con el respectivo nombre del DataFrame por archivo para poder vizualisar todos los tipos de datos y si hay algun tipo de dato nulo, utilizar los parametros necesarios para una buena extracion de ese tipo de informacion "
   ]
  },
  {
   "cell_type": "code",
   "execution_count": 564,
   "id": "fbf1adab",
   "metadata": {
    "id": "fbf1adab"
   },
   "outputs": [],
   "source": [
    "# importar librerías\n",
    "import pandas as pd\n",
    "\n",
    "import matplotlib.pyplot as plt"
   ]
  },
  {
   "cell_type": "code",
   "execution_count": 565,
   "id": "ad36396d",
   "metadata": {
    "id": "ad36396d"
   },
   "outputs": [],
   "source": [
    "# leer conjuntos de datos en los DataFrames\n",
    "instacart=pd.read_csv('./datasets/instacart_orders.csv', sep=';')\n",
    "products=pd.read_csv('./datasets/products.csv',sep=';')\n",
    "order_products=pd.read_csv('./datasets/order_products.csv',sep=';')\n",
    "aisles=pd.read_csv('./datasets/aisles.csv',sep=';')\n",
    "departments=pd.read_csv('./datasets/departments.csv',sep=';')"
   ]
  },
  {
   "cell_type": "code",
   "execution_count": 566,
   "id": "ad6a1efa",
   "metadata": {
    "id": "ad6a1efa"
   },
   "outputs": [
    {
     "name": "stdout",
     "output_type": "stream",
     "text": [
      "<class 'pandas.core.frame.DataFrame'>\n",
      "RangeIndex: 478967 entries, 0 to 478966\n",
      "Data columns (total 6 columns):\n",
      " #   Column                  Non-Null Count   Dtype  \n",
      "---  ------                  --------------   -----  \n",
      " 0   order_id                478967 non-null  int64  \n",
      " 1   user_id                 478967 non-null  int64  \n",
      " 2   order_number            478967 non-null  int64  \n",
      " 3   order_dow               478967 non-null  int64  \n",
      " 4   order_hour_of_day       478967 non-null  int64  \n",
      " 5   days_since_prior_order  450148 non-null  float64\n",
      "dtypes: float64(1), int64(5)\n",
      "memory usage: 21.9 MB\n"
     ]
    }
   ],
   "source": [
    "# mostrar información del DataFrame\n",
    "instacart.info()"
   ]
  },
  {
   "cell_type": "code",
   "execution_count": 567,
   "id": "5130e05e",
   "metadata": {
    "id": "5130e05e"
   },
   "outputs": [
    {
     "name": "stdout",
     "output_type": "stream",
     "text": [
      "<class 'pandas.core.frame.DataFrame'>\n",
      "RangeIndex: 49694 entries, 0 to 49693\n",
      "Data columns (total 4 columns):\n",
      " #   Column         Non-Null Count  Dtype \n",
      "---  ------         --------------  ----- \n",
      " 0   product_id     49694 non-null  int64 \n",
      " 1   product_name   48436 non-null  object\n",
      " 2   aisle_id       49694 non-null  int64 \n",
      " 3   department_id  49694 non-null  int64 \n",
      "dtypes: int64(3), object(1)\n",
      "memory usage: 1.5+ MB\n"
     ]
    }
   ],
   "source": [
    "# mostrar información del DataFrame\n",
    "products.info()"
   ]
  },
  {
   "cell_type": "code",
   "execution_count": 568,
   "id": "d8370c05",
   "metadata": {
    "id": "d8370c05"
   },
   "outputs": [
    {
     "name": "stdout",
     "output_type": "stream",
     "text": [
      "<class 'pandas.core.frame.DataFrame'>\n",
      "RangeIndex: 4545007 entries, 0 to 4545006\n",
      "Data columns (total 4 columns):\n",
      " #   Column             Non-Null Count    Dtype  \n",
      "---  ------             --------------    -----  \n",
      " 0   order_id           4545007 non-null  int64  \n",
      " 1   product_id         4545007 non-null  int64  \n",
      " 2   add_to_cart_order  4544171 non-null  float64\n",
      " 3   reordered          4545007 non-null  int64  \n",
      "dtypes: float64(1), int64(3)\n",
      "memory usage: 138.7 MB\n"
     ]
    }
   ],
   "source": [
    "# mostrar información del DataFrame\n",
    "order_products.info(show_counts=True)"
   ]
  },
  {
   "cell_type": "code",
   "execution_count": 569,
   "id": "59e2090f",
   "metadata": {
    "id": "59e2090f"
   },
   "outputs": [
    {
     "name": "stdout",
     "output_type": "stream",
     "text": [
      "   aisle_id                  aisle\n",
      "0         1  prepared soups salads\n",
      "1         2      specialty cheeses\n",
      "2         3    energy granola bars\n",
      "<class 'pandas.core.frame.DataFrame'>\n",
      "RangeIndex: 134 entries, 0 to 133\n",
      "Data columns (total 2 columns):\n",
      " #   Column    Non-Null Count  Dtype \n",
      "---  ------    --------------  ----- \n",
      " 0   aisle_id  134 non-null    int64 \n",
      " 1   aisle     134 non-null    object\n",
      "dtypes: int64(1), object(1)\n",
      "memory usage: 2.2+ KB\n"
     ]
    }
   ],
   "source": [
    "# mostrar información del DataFrame\n",
    "print(aisles.head(3))\n",
    "aisles.info()"
   ]
  },
  {
   "cell_type": "code",
   "execution_count": 570,
   "id": "6fc81694",
   "metadata": {
    "id": "6fc81694"
   },
   "outputs": [
    {
     "name": "stdout",
     "output_type": "stream",
     "text": [
      "<class 'pandas.core.frame.DataFrame'>\n",
      "RangeIndex: 21 entries, 0 to 20\n",
      "Data columns (total 2 columns):\n",
      " #   Column         Non-Null Count  Dtype \n",
      "---  ------         --------------  ----- \n",
      " 0   department_id  21 non-null     int64 \n",
      " 1   department     21 non-null     object\n",
      "dtypes: int64(1), object(1)\n",
      "memory usage: 468.0+ bytes\n"
     ]
    }
   ],
   "source": [
    "# mostrar información del DataFrame\n",
    "departments.info()"
   ]
  },
  {
   "cell_type": "markdown",
   "id": "t75BD19oaR5f",
   "metadata": {
    "id": "t75BD19oaR5f"
   },
   "source": [
    "## Conclusiones\n",
    "\n",
    "Escribe aquí tus conclusiones intermedias sobre el Paso 1. Descripción de los datos.\n",
    "\n",
    "Podemos observar que algunos archivos estaban separados por  “ ;” , se tuvo que utilizar el método `sep=;` para poder leer y visualizar de una manera adecuada las filas.\n",
    "También tenemos archivos nullos en varios de ellos : \n",
    "- instacart\n",
    "- products\n",
    "- order_products\n",
    "\n"
   ]
  },
  {
   "cell_type": "markdown",
   "id": "ab3628cb",
   "metadata": {},
   "source": [
    "Con esto podemos darnos cuenta que aunque apliquemos en el método info() es necesario comprobar cuales son los valores nulos para ver cómo podemos trabajarlos y como los podemos remplazar"
   ]
  },
  {
   "cell_type": "markdown",
   "id": "debfc33c",
   "metadata": {},
   "source": [
    "<div class=\"alert alert-block alert-success\">\n",
    "<b>Éxito</b> <a class=\"tocSkip\"></a>\n",
    "César, has comenzado bien al separar la importación de librerías de la carga de los datasets, lo cual es una buena práctica para mantener el código organizado. Utilizaste `info()` y `head()` correctamente para explorar la estructura de los datos en cada DataFrame, asegurándote de revisar tanto los tipos de datos como los valores nulos. Sin embargo, es importante recordar que al aplicar `info()` a `order_products`, el parámetro `show_counts=True` debe ser utilizado para obtener un conteo más preciso de valores nulos. ¡Buen inicio en la exploración de los datos!\n",
    "</div>"
   ]
  },
  {
   "cell_type": "markdown",
   "id": "8RJHqxVmaVsF",
   "metadata": {
    "id": "8RJHqxVmaVsF"
   },
   "source": [
    "# Paso 2. Preprocesamiento de los datos\n",
    "\n",
    "Preprocesa los datos de la siguiente manera:\n",
    "\n",
    "- Verifica y corrige los tipos de datos (por ejemplo, asegúrate de que las columnas de ID sean números enteros).\n",
    "- Identifica y completa los valores ausentes.\n",
    "- Identifica y elimina los valores duplicados.\n",
    "\n",
    "Asegúrate de explicar qué tipos de valores ausentes y duplicados encontraste, cómo los completaste o eliminaste y por qué usaste esos métodos. ¿Por qué crees que estos valores ausentes y duplicados pueden haber estado presentes en el conjunto de datos?"
   ]
  },
  {
   "cell_type": "markdown",
   "id": "p6poABZQaZYb",
   "metadata": {
    "id": "p6poABZQaZYb"
   },
   "source": [
    "## Plan de solución\n",
    "\n",
    "Escribe aquí tu plan para el Paso 2. Preprocesamiento de los datos."
   ]
  },
  {
   "cell_type": "markdown",
   "id": "2a20db39",
   "metadata": {},
   "source": [
    "La manera en  que voy  abordar la  problemática del pre-procesamiento de datos es:\n",
    "1. Primero encontrare los valores duplicados explícitos \n",
    "2. Después los implícitos  \n",
    "3. Posteriormente quitar `NaN` o remplazar  y no utilizar procesamiento de más  para rellenar esas filas que no utilizare . "
   ]
  },
  {
   "cell_type": "markdown",
   "id": "07357848-dc64-4156-9cc3-01ff4365226d",
   "metadata": {
    "id": "07357848-dc64-4156-9cc3-01ff4365226d"
   },
   "source": [
    "## Encuentra y elimina los valores duplicados (y describe cómo tomaste tus decisiones)."
   ]
  },
  {
   "cell_type": "markdown",
   "id": "f179f0a9",
   "metadata": {
    "id": "f179f0a9"
   },
   "source": [
    "### `instacart_orders` data frame"
   ]
  },
  {
   "cell_type": "code",
   "execution_count": 571,
   "id": "b99297a5-405a-463d-8535-9adc3da4ad74",
   "metadata": {
    "id": "b99297a5-405a-463d-8535-9adc3da4ad74"
   },
   "outputs": [
    {
     "name": "stdout",
     "output_type": "stream",
     "text": [
      "15\n",
      "-------------\n"
     ]
    },
    {
     "data": {
      "text/html": [
       "<div>\n",
       "<style scoped>\n",
       "    .dataframe tbody tr th:only-of-type {\n",
       "        vertical-align: middle;\n",
       "    }\n",
       "\n",
       "    .dataframe tbody tr th {\n",
       "        vertical-align: top;\n",
       "    }\n",
       "\n",
       "    .dataframe thead th {\n",
       "        text-align: right;\n",
       "    }\n",
       "</style>\n",
       "<table border=\"1\" class=\"dataframe\">\n",
       "  <thead>\n",
       "    <tr style=\"text-align: right;\">\n",
       "      <th></th>\n",
       "      <th>order_id</th>\n",
       "      <th>user_id</th>\n",
       "      <th>order_number</th>\n",
       "      <th>order_dow</th>\n",
       "      <th>order_hour_of_day</th>\n",
       "      <th>days_since_prior_order</th>\n",
       "    </tr>\n",
       "  </thead>\n",
       "  <tbody>\n",
       "    <tr>\n",
       "      <th>145574</th>\n",
       "      <td>794638</td>\n",
       "      <td>50898</td>\n",
       "      <td>24</td>\n",
       "      <td>3</td>\n",
       "      <td>2</td>\n",
       "      <td>2.0</td>\n",
       "    </tr>\n",
       "    <tr>\n",
       "      <th>223105</th>\n",
       "      <td>2160484</td>\n",
       "      <td>107525</td>\n",
       "      <td>16</td>\n",
       "      <td>3</td>\n",
       "      <td>2</td>\n",
       "      <td>30.0</td>\n",
       "    </tr>\n",
       "    <tr>\n",
       "      <th>230807</th>\n",
       "      <td>1918001</td>\n",
       "      <td>188546</td>\n",
       "      <td>14</td>\n",
       "      <td>3</td>\n",
       "      <td>2</td>\n",
       "      <td>16.0</td>\n",
       "    </tr>\n",
       "    <tr>\n",
       "      <th>266232</th>\n",
       "      <td>1782114</td>\n",
       "      <td>106752</td>\n",
       "      <td>1</td>\n",
       "      <td>3</td>\n",
       "      <td>2</td>\n",
       "      <td>NaN</td>\n",
       "    </tr>\n",
       "    <tr>\n",
       "      <th>273805</th>\n",
       "      <td>1112182</td>\n",
       "      <td>202304</td>\n",
       "      <td>84</td>\n",
       "      <td>3</td>\n",
       "      <td>2</td>\n",
       "      <td>6.0</td>\n",
       "    </tr>\n",
       "    <tr>\n",
       "      <th>284038</th>\n",
       "      <td>2845099</td>\n",
       "      <td>31189</td>\n",
       "      <td>11</td>\n",
       "      <td>3</td>\n",
       "      <td>2</td>\n",
       "      <td>7.0</td>\n",
       "    </tr>\n",
       "    <tr>\n",
       "      <th>311713</th>\n",
       "      <td>1021560</td>\n",
       "      <td>53767</td>\n",
       "      <td>3</td>\n",
       "      <td>3</td>\n",
       "      <td>2</td>\n",
       "      <td>9.0</td>\n",
       "    </tr>\n",
       "    <tr>\n",
       "      <th>321100</th>\n",
       "      <td>408114</td>\n",
       "      <td>68324</td>\n",
       "      <td>4</td>\n",
       "      <td>3</td>\n",
       "      <td>2</td>\n",
       "      <td>18.0</td>\n",
       "    </tr>\n",
       "    <tr>\n",
       "      <th>323900</th>\n",
       "      <td>1919531</td>\n",
       "      <td>191501</td>\n",
       "      <td>32</td>\n",
       "      <td>3</td>\n",
       "      <td>2</td>\n",
       "      <td>7.0</td>\n",
       "    </tr>\n",
       "    <tr>\n",
       "      <th>345917</th>\n",
       "      <td>2232988</td>\n",
       "      <td>82565</td>\n",
       "      <td>1</td>\n",
       "      <td>3</td>\n",
       "      <td>2</td>\n",
       "      <td>NaN</td>\n",
       "    </tr>\n",
       "    <tr>\n",
       "      <th>371905</th>\n",
       "      <td>391768</td>\n",
       "      <td>57671</td>\n",
       "      <td>19</td>\n",
       "      <td>3</td>\n",
       "      <td>2</td>\n",
       "      <td>10.0</td>\n",
       "    </tr>\n",
       "    <tr>\n",
       "      <th>394347</th>\n",
       "      <td>467134</td>\n",
       "      <td>63189</td>\n",
       "      <td>21</td>\n",
       "      <td>3</td>\n",
       "      <td>2</td>\n",
       "      <td>2.0</td>\n",
       "    </tr>\n",
       "    <tr>\n",
       "      <th>411408</th>\n",
       "      <td>1286742</td>\n",
       "      <td>183220</td>\n",
       "      <td>48</td>\n",
       "      <td>3</td>\n",
       "      <td>2</td>\n",
       "      <td>4.0</td>\n",
       "    </tr>\n",
       "    <tr>\n",
       "      <th>415163</th>\n",
       "      <td>2282673</td>\n",
       "      <td>86751</td>\n",
       "      <td>49</td>\n",
       "      <td>3</td>\n",
       "      <td>2</td>\n",
       "      <td>2.0</td>\n",
       "    </tr>\n",
       "    <tr>\n",
       "      <th>441599</th>\n",
       "      <td>2125197</td>\n",
       "      <td>14050</td>\n",
       "      <td>48</td>\n",
       "      <td>3</td>\n",
       "      <td>2</td>\n",
       "      <td>3.0</td>\n",
       "    </tr>\n",
       "  </tbody>\n",
       "</table>\n",
       "</div>"
      ],
      "text/plain": [
       "        order_id  user_id  order_number  order_dow  order_hour_of_day  \\\n",
       "145574    794638    50898            24          3                  2   \n",
       "223105   2160484   107525            16          3                  2   \n",
       "230807   1918001   188546            14          3                  2   \n",
       "266232   1782114   106752             1          3                  2   \n",
       "273805   1112182   202304            84          3                  2   \n",
       "284038   2845099    31189            11          3                  2   \n",
       "311713   1021560    53767             3          3                  2   \n",
       "321100    408114    68324             4          3                  2   \n",
       "323900   1919531   191501            32          3                  2   \n",
       "345917   2232988    82565             1          3                  2   \n",
       "371905    391768    57671            19          3                  2   \n",
       "394347    467134    63189            21          3                  2   \n",
       "411408   1286742   183220            48          3                  2   \n",
       "415163   2282673    86751            49          3                  2   \n",
       "441599   2125197    14050            48          3                  2   \n",
       "\n",
       "        days_since_prior_order  \n",
       "145574                     2.0  \n",
       "223105                    30.0  \n",
       "230807                    16.0  \n",
       "266232                     NaN  \n",
       "273805                     6.0  \n",
       "284038                     7.0  \n",
       "311713                     9.0  \n",
       "321100                    18.0  \n",
       "323900                     7.0  \n",
       "345917                     NaN  \n",
       "371905                    10.0  \n",
       "394347                     2.0  \n",
       "411408                     4.0  \n",
       "415163                     2.0  \n",
       "441599                     3.0  "
      ]
     },
     "execution_count": 571,
     "metadata": {},
     "output_type": "execute_result"
    }
   ],
   "source": [
    "# Revisa si hay pedidos duplicados\n",
    "print(instacart.duplicated().sum())\n",
    "print('-------------')\n",
    "#Filtramos y mostramos los duplicados\n",
    "instacart[instacart.duplicated()]"
   ]
  },
  {
   "cell_type": "markdown",
   "id": "PEkwUX_gvt5A",
   "metadata": {
    "id": "PEkwUX_gvt5A"
   },
   "source": [
    "¿Tienes líneas duplicadas? Si sí, ¿qué tienen en común?\n",
    "\n",
    "Lo que se tiene en comun es que en la columna `order_dow` es el dia  miercoles cuando hay este tipo de duplicados en la hora 2 que se observa en la columna `order_hour_of_day`"
   ]
  },
  {
   "cell_type": "code",
   "execution_count": 572,
   "id": "0d44de5d",
   "metadata": {
    "id": "0d44de5d"
   },
   "outputs": [
    {
     "data": {
      "text/html": [
       "<div>\n",
       "<style scoped>\n",
       "    .dataframe tbody tr th:only-of-type {\n",
       "        vertical-align: middle;\n",
       "    }\n",
       "\n",
       "    .dataframe tbody tr th {\n",
       "        vertical-align: top;\n",
       "    }\n",
       "\n",
       "    .dataframe thead th {\n",
       "        text-align: right;\n",
       "    }\n",
       "</style>\n",
       "<table border=\"1\" class=\"dataframe\">\n",
       "  <thead>\n",
       "    <tr style=\"text-align: right;\">\n",
       "      <th></th>\n",
       "      <th>order_id</th>\n",
       "      <th>user_id</th>\n",
       "      <th>order_number</th>\n",
       "      <th>order_dow</th>\n",
       "      <th>order_hour_of_day</th>\n",
       "      <th>days_since_prior_order</th>\n",
       "    </tr>\n",
       "  </thead>\n",
       "  <tbody>\n",
       "    <tr>\n",
       "      <th>4838</th>\n",
       "      <td>2766110</td>\n",
       "      <td>162084</td>\n",
       "      <td>41</td>\n",
       "      <td>3</td>\n",
       "      <td>2</td>\n",
       "      <td>16.0</td>\n",
       "    </tr>\n",
       "    <tr>\n",
       "      <th>5156</th>\n",
       "      <td>2190225</td>\n",
       "      <td>138285</td>\n",
       "      <td>18</td>\n",
       "      <td>3</td>\n",
       "      <td>2</td>\n",
       "      <td>11.0</td>\n",
       "    </tr>\n",
       "    <tr>\n",
       "      <th>15506</th>\n",
       "      <td>553049</td>\n",
       "      <td>58599</td>\n",
       "      <td>13</td>\n",
       "      <td>3</td>\n",
       "      <td>2</td>\n",
       "      <td>7.0</td>\n",
       "    </tr>\n",
       "    <tr>\n",
       "      <th>18420</th>\n",
       "      <td>382357</td>\n",
       "      <td>120200</td>\n",
       "      <td>19</td>\n",
       "      <td>3</td>\n",
       "      <td>2</td>\n",
       "      <td>11.0</td>\n",
       "    </tr>\n",
       "    <tr>\n",
       "      <th>24691</th>\n",
       "      <td>690242</td>\n",
       "      <td>77357</td>\n",
       "      <td>2</td>\n",
       "      <td>3</td>\n",
       "      <td>2</td>\n",
       "      <td>9.0</td>\n",
       "    </tr>\n",
       "    <tr>\n",
       "      <th>...</th>\n",
       "      <td>...</td>\n",
       "      <td>...</td>\n",
       "      <td>...</td>\n",
       "      <td>...</td>\n",
       "      <td>...</td>\n",
       "      <td>...</td>\n",
       "    </tr>\n",
       "    <tr>\n",
       "      <th>457013</th>\n",
       "      <td>3384021</td>\n",
       "      <td>14881</td>\n",
       "      <td>6</td>\n",
       "      <td>3</td>\n",
       "      <td>2</td>\n",
       "      <td>30.0</td>\n",
       "    </tr>\n",
       "    <tr>\n",
       "      <th>458816</th>\n",
       "      <td>910166</td>\n",
       "      <td>164782</td>\n",
       "      <td>18</td>\n",
       "      <td>3</td>\n",
       "      <td>2</td>\n",
       "      <td>4.0</td>\n",
       "    </tr>\n",
       "    <tr>\n",
       "      <th>459635</th>\n",
       "      <td>1680532</td>\n",
       "      <td>106435</td>\n",
       "      <td>6</td>\n",
       "      <td>3</td>\n",
       "      <td>2</td>\n",
       "      <td>21.0</td>\n",
       "    </tr>\n",
       "    <tr>\n",
       "      <th>468324</th>\n",
       "      <td>222962</td>\n",
       "      <td>54979</td>\n",
       "      <td>59</td>\n",
       "      <td>3</td>\n",
       "      <td>2</td>\n",
       "      <td>3.0</td>\n",
       "    </tr>\n",
       "    <tr>\n",
       "      <th>477526</th>\n",
       "      <td>2592344</td>\n",
       "      <td>46860</td>\n",
       "      <td>38</td>\n",
       "      <td>3</td>\n",
       "      <td>2</td>\n",
       "      <td>3.0</td>\n",
       "    </tr>\n",
       "  </tbody>\n",
       "</table>\n",
       "<p>121 rows × 6 columns</p>\n",
       "</div>"
      ],
      "text/plain": [
       "        order_id  user_id  order_number  order_dow  order_hour_of_day  \\\n",
       "4838     2766110   162084            41          3                  2   \n",
       "5156     2190225   138285            18          3                  2   \n",
       "15506     553049    58599            13          3                  2   \n",
       "18420     382357   120200            19          3                  2   \n",
       "24691     690242    77357             2          3                  2   \n",
       "...          ...      ...           ...        ...                ...   \n",
       "457013   3384021    14881             6          3                  2   \n",
       "458816    910166   164782            18          3                  2   \n",
       "459635   1680532   106435             6          3                  2   \n",
       "468324    222962    54979            59          3                  2   \n",
       "477526   2592344    46860            38          3                  2   \n",
       "\n",
       "        days_since_prior_order  \n",
       "4838                      16.0  \n",
       "5156                      11.0  \n",
       "15506                      7.0  \n",
       "18420                     11.0  \n",
       "24691                      9.0  \n",
       "...                        ...  \n",
       "457013                    30.0  \n",
       "458816                     4.0  \n",
       "459635                    21.0  \n",
       "468324                     3.0  \n",
       "477526                     3.0  \n",
       "\n",
       "[121 rows x 6 columns]"
      ]
     },
     "execution_count": 572,
     "metadata": {},
     "output_type": "execute_result"
    }
   ],
   "source": [
    "# Basándote en tus hallazgos,\n",
    "# Verifica todos los pedidos que se hicieron el miércoles a las 2:00 a.m.\n",
    "instacart[(instacart['order_hour_of_day'] == 2)&(instacart['order_dow'] == 3)]\n",
    "                   \n"
   ]
  },
  {
   "cell_type": "markdown",
   "id": "vu2OWyoqwOx5",
   "metadata": {
    "id": "vu2OWyoqwOx5"
   },
   "source": [
    "¿Qué sugiere este resultado?\n",
    "Podemos notar que en este filtro es donde se encuentran los duplicados\n",
    "\n",
    "Se puede apreciar que hay personas que son clientes frecuentes o piden mucha comida a domicilio ya que en el `order_number`son mas de una vez los que han pedido en ese día\n",
    "Pero son hipotesis que no tienen respuesta aun "
   ]
  },
  {
   "cell_type": "code",
   "execution_count": 573,
   "id": "480563c7",
   "metadata": {
    "id": "480563c7"
   },
   "outputs": [],
   "source": [
    "# Elimina los pedidos duplicados y se asigna al mismo archivo\n",
    "instacart.drop_duplicates(inplace=True)"
   ]
  },
  {
   "cell_type": "code",
   "execution_count": 574,
   "id": "0b2396a2",
   "metadata": {
    "id": "0b2396a2"
   },
   "outputs": [
    {
     "name": "stdout",
     "output_type": "stream",
     "text": [
      "0\n"
     ]
    }
   ],
   "source": [
    "# Vuelve a verificar si hay filas duplicadas\n",
    "print(instacart.duplicated().sum())"
   ]
  },
  {
   "cell_type": "code",
   "execution_count": 575,
   "id": "6b3f8555",
   "metadata": {},
   "outputs": [],
   "source": [
    "#Reseteamos indices y asignamos a la misma base \n",
    "instacart = instacart.reset_index(drop=True)"
   ]
  },
  {
   "cell_type": "code",
   "execution_count": 576,
   "id": "f6113ef1",
   "metadata": {
    "id": "f6113ef1"
   },
   "outputs": [
    {
     "name": "stdout",
     "output_type": "stream",
     "text": [
      "0\n"
     ]
    }
   ],
   "source": [
    "# Vuelve a verificar si hay IDs duplicados de pedidos\n",
    "\n",
    "#duplicated_order_id=instacart.duplicated(subset='order_id').sum()\n",
    "#duplicated_user_id=instacart.duplicated(subset='user_id').sum()\n",
    "#print(f\"duplicados en order_id:{duplicated_order_id} , duplicados en user_id:{duplicated_user_id}\")\n",
    "duplicated_order_id=instacart['order_id'].duplicated().sum()\n",
    "print(duplicated_order_id)"
   ]
  },
  {
   "cell_type": "markdown",
   "id": "400e571b",
   "metadata": {},
   "source": [
    "#### Aqui podemos ver que no tenemos duplicados implicitos , ya que el `order_id` nos da id unicos que no se pueden repetir y hubiese sido difeerente 0 el valor "
   ]
  },
  {
   "cell_type": "markdown",
   "id": "79a59a8d",
   "metadata": {},
   "source": [
    "Recordemos las descripciones de cada columnas:\n",
    "- 'order_id': número de ID que identifica de manera única cada pedido.\n",
    "- 'user_id': número de ID que identifica de manera única la cuenta de cada cliente"
   ]
  },
  {
   "cell_type": "markdown",
   "id": "5e8905ae",
   "metadata": {
    "id": "5e8905ae"
   },
   "source": [
    "Describe brevemente tus hallazgos y lo que hiciste con ellos\n",
    "Podemos observar y cocluir que los duplicados que encontramos en `user_id` no son duplicados explicitos porque nos indica que son las mismas personas que piden en la plataforma , ya que los duplicados de las `order_id` son 0.\n",
    "\n",
    "Esto responderia una hipotesis de quienes serian los clientes mas frecuentes \n"
   ]
  },
  {
   "cell_type": "markdown",
   "id": "45e6bc46",
   "metadata": {
    "id": "45e6bc46"
   },
   "source": [
    "### `products` data frame"
   ]
  },
  {
   "cell_type": "code",
   "execution_count": 577,
   "id": "5f526b5b-8175-46fa-a0fd-441767d50e64",
   "metadata": {
    "id": "5f526b5b-8175-46fa-a0fd-441767d50e64"
   },
   "outputs": [
    {
     "data": {
      "text/html": [
       "<div>\n",
       "<style scoped>\n",
       "    .dataframe tbody tr th:only-of-type {\n",
       "        vertical-align: middle;\n",
       "    }\n",
       "\n",
       "    .dataframe tbody tr th {\n",
       "        vertical-align: top;\n",
       "    }\n",
       "\n",
       "    .dataframe thead th {\n",
       "        text-align: right;\n",
       "    }\n",
       "</style>\n",
       "<table border=\"1\" class=\"dataframe\">\n",
       "  <thead>\n",
       "    <tr style=\"text-align: right;\">\n",
       "      <th></th>\n",
       "      <th>product_id</th>\n",
       "      <th>product_name</th>\n",
       "      <th>aisle_id</th>\n",
       "      <th>department_id</th>\n",
       "    </tr>\n",
       "  </thead>\n",
       "  <tbody>\n",
       "  </tbody>\n",
       "</table>\n",
       "</div>"
      ],
      "text/plain": [
       "Empty DataFrame\n",
       "Columns: [product_id, product_name, aisle_id, department_id]\n",
       "Index: []"
      ]
     },
     "execution_count": 577,
     "metadata": {},
     "output_type": "execute_result"
    }
   ],
   "source": [
    "# Verifica si hay filas totalmente duplicadas\n",
    "products[products.duplicated()]\n"
   ]
  },
  {
   "cell_type": "code",
   "execution_count": 578,
   "id": "88daa4f4",
   "metadata": {
    "id": "88daa4f4"
   },
   "outputs": [
    {
     "name": "stdout",
     "output_type": "stream",
     "text": [
      "0\n"
     ]
    }
   ],
   "source": [
    "# Verifica si hay IDs duplicadas de productos\n",
    "\n",
    "#dd_product_id =products.duplicated(subset='product_id').sum()\n",
    "#print(f\"Duplicados en product_id:{dd_product_id}\")\n",
    "dd_product_id = products['product_id'].duplicated().sum()\n",
    "print(dd_product_id)"
   ]
  },
  {
   "cell_type": "code",
   "execution_count": 579,
   "id": "c773f0bf",
   "metadata": {
    "id": "c773f0bf"
   },
   "outputs": [
    {
     "name": "stdout",
     "output_type": "stream",
     "text": [
      "1361\n"
     ]
    }
   ],
   "source": [
    "# Revisa si hay nombres duplicados de productos \n",
    "#(convierte los nombres a letras mayúsculas para compararlos mejor)\n",
    "name_duplicates=products['product_name'].str.upper().duplicated().sum()\n",
    "print(name_duplicates)"
   ]
  },
  {
   "cell_type": "code",
   "execution_count": 580,
   "id": "35cf542e",
   "metadata": {},
   "outputs": [
    {
     "data": {
      "text/html": [
       "<div>\n",
       "<style scoped>\n",
       "    .dataframe tbody tr th:only-of-type {\n",
       "        vertical-align: middle;\n",
       "    }\n",
       "\n",
       "    .dataframe tbody tr th {\n",
       "        vertical-align: top;\n",
       "    }\n",
       "\n",
       "    .dataframe thead th {\n",
       "        text-align: right;\n",
       "    }\n",
       "</style>\n",
       "<table border=\"1\" class=\"dataframe\">\n",
       "  <thead>\n",
       "    <tr style=\"text-align: right;\">\n",
       "      <th></th>\n",
       "      <th>product_id</th>\n",
       "      <th>product_name</th>\n",
       "      <th>aisle_id</th>\n",
       "      <th>department_id</th>\n",
       "    </tr>\n",
       "  </thead>\n",
       "  <tbody>\n",
       "    <tr>\n",
       "      <th>71</th>\n",
       "      <td>72</td>\n",
       "      <td>NaN</td>\n",
       "      <td>100</td>\n",
       "      <td>21</td>\n",
       "    </tr>\n",
       "    <tr>\n",
       "      <th>109</th>\n",
       "      <td>110</td>\n",
       "      <td>NaN</td>\n",
       "      <td>100</td>\n",
       "      <td>21</td>\n",
       "    </tr>\n",
       "    <tr>\n",
       "      <th>296</th>\n",
       "      <td>297</td>\n",
       "      <td>NaN</td>\n",
       "      <td>100</td>\n",
       "      <td>21</td>\n",
       "    </tr>\n",
       "    <tr>\n",
       "      <th>416</th>\n",
       "      <td>417</td>\n",
       "      <td>NaN</td>\n",
       "      <td>100</td>\n",
       "      <td>21</td>\n",
       "    </tr>\n",
       "    <tr>\n",
       "      <th>436</th>\n",
       "      <td>437</td>\n",
       "      <td>NaN</td>\n",
       "      <td>100</td>\n",
       "      <td>21</td>\n",
       "    </tr>\n",
       "    <tr>\n",
       "      <th>...</th>\n",
       "      <td>...</td>\n",
       "      <td>...</td>\n",
       "      <td>...</td>\n",
       "      <td>...</td>\n",
       "    </tr>\n",
       "    <tr>\n",
       "      <th>49552</th>\n",
       "      <td>49553</td>\n",
       "      <td>NaN</td>\n",
       "      <td>100</td>\n",
       "      <td>21</td>\n",
       "    </tr>\n",
       "    <tr>\n",
       "      <th>49574</th>\n",
       "      <td>49575</td>\n",
       "      <td>NaN</td>\n",
       "      <td>100</td>\n",
       "      <td>21</td>\n",
       "    </tr>\n",
       "    <tr>\n",
       "      <th>49640</th>\n",
       "      <td>49641</td>\n",
       "      <td>NaN</td>\n",
       "      <td>100</td>\n",
       "      <td>21</td>\n",
       "    </tr>\n",
       "    <tr>\n",
       "      <th>49663</th>\n",
       "      <td>49664</td>\n",
       "      <td>NaN</td>\n",
       "      <td>100</td>\n",
       "      <td>21</td>\n",
       "    </tr>\n",
       "    <tr>\n",
       "      <th>49668</th>\n",
       "      <td>49669</td>\n",
       "      <td>NaN</td>\n",
       "      <td>100</td>\n",
       "      <td>21</td>\n",
       "    </tr>\n",
       "  </tbody>\n",
       "</table>\n",
       "<p>1257 rows × 4 columns</p>\n",
       "</div>"
      ],
      "text/plain": [
       "       product_id product_name  aisle_id  department_id\n",
       "71             72          NaN       100             21\n",
       "109           110          NaN       100             21\n",
       "296           297          NaN       100             21\n",
       "416           417          NaN       100             21\n",
       "436           437          NaN       100             21\n",
       "...           ...          ...       ...            ...\n",
       "49552       49553          NaN       100             21\n",
       "49574       49575          NaN       100             21\n",
       "49640       49641          NaN       100             21\n",
       "49663       49664          NaN       100             21\n",
       "49668       49669          NaN       100             21\n",
       "\n",
       "[1257 rows x 4 columns]"
      ]
     },
     "execution_count": 580,
     "metadata": {},
     "output_type": "execute_result"
    }
   ],
   "source": [
    "#filtramos valores que estan duplicados por su nombre \n",
    "products[products['product_name'].duplicated()]\n"
   ]
  },
  {
   "cell_type": "code",
   "execution_count": 581,
   "id": "01efd02e",
   "metadata": {
    "id": "01efd02e"
   },
   "outputs": [
    {
     "name": "stdout",
     "output_type": "stream",
     "text": [
      "104\n"
     ]
    }
   ],
   "source": [
    "# Revisa si hay nombres duplicados de productos no faltantes\n",
    "#filter_products=products[products['product_name'].duplicated() & (products['product_name'].notna())]\n",
    "filter_products= products[~products['product_name'].isna()]['product_name'].str.upper().duplicated().sum()\n",
    "print(filter_products)"
   ]
  },
  {
   "cell_type": "markdown",
   "id": "12b6bb10",
   "metadata": {},
   "source": [
    "Podemos ver que no tenemos datos duplicado en filas dentro de todo el DataFrame de `Products` que eso es bueno porque quiere decir que no hay errores de registros.\n",
    "\n",
    "En cuanto a los `product_name` No percatamos que hay 104 valores repetidos pero podria ser a que son diferentes marcas ya que solo se estan enfocando en el nombre  "
   ]
  },
  {
   "cell_type": "markdown",
   "id": "9da8d293",
   "metadata": {
    "id": "9da8d293"
   },
   "source": [
    "Describe brevemente tus hallazgos y lo que hiciste con ellos."
   ]
  },
  {
   "cell_type": "markdown",
   "id": "60f30db1",
   "metadata": {
    "id": "60f30db1"
   },
   "source": [
    "### `departments` data frame"
   ]
  },
  {
   "cell_type": "code",
   "execution_count": 582,
   "id": "fb410ad4-0fbf-4b80-bb09-23fdea79afe3",
   "metadata": {
    "id": "fb410ad4-0fbf-4b80-bb09-23fdea79afe3"
   },
   "outputs": [
    {
     "data": {
      "text/plain": [
       "np.int64(0)"
      ]
     },
     "execution_count": 582,
     "metadata": {},
     "output_type": "execute_result"
    }
   ],
   "source": [
    "# Revisa si hay filas totalmente duplicadas\n",
    "departments.duplicated().sum()"
   ]
  },
  {
   "cell_type": "code",
   "execution_count": 583,
   "id": "332b12bb",
   "metadata": {
    "id": "332b12bb"
   },
   "outputs": [
    {
     "data": {
      "text/plain": [
       "np.int64(0)"
      ]
     },
     "execution_count": 583,
     "metadata": {},
     "output_type": "execute_result"
    }
   ],
   "source": [
    "# Revisa si hay IDs duplicadas de productos\n",
    "departments['department_id'].duplicated().sum()"
   ]
  },
  {
   "cell_type": "markdown",
   "id": "bd30d78e",
   "metadata": {
    "id": "bd30d78e"
   },
   "source": [
    "Describe brevemente tus hallazgos y lo que hiciste con ellos.\n",
    "\n",
    "No tenemos filas que tengan los mismos valores "
   ]
  },
  {
   "cell_type": "markdown",
   "id": "889349c1",
   "metadata": {
    "id": "889349c1"
   },
   "source": [
    "### `aisles` data frame"
   ]
  },
  {
   "cell_type": "code",
   "execution_count": 584,
   "id": "9da89fb9-4679-40f5-ad0d-c34df753a3f8",
   "metadata": {
    "id": "9da89fb9-4679-40f5-ad0d-c34df753a3f8"
   },
   "outputs": [
    {
     "data": {
      "text/plain": [
       "np.int64(0)"
      ]
     },
     "execution_count": 584,
     "metadata": {},
     "output_type": "execute_result"
    }
   ],
   "source": [
    "# Revisa si hay filas totalmente duplicadas\n",
    "aisles.duplicated().sum()"
   ]
  },
  {
   "cell_type": "code",
   "execution_count": 585,
   "id": "da7c2822",
   "metadata": {
    "id": "da7c2822"
   },
   "outputs": [
    {
     "data": {
      "text/plain": [
       "np.int64(0)"
      ]
     },
     "execution_count": 585,
     "metadata": {},
     "output_type": "execute_result"
    }
   ],
   "source": [
    "# Revisa si hay IDs duplicadas de productos\n",
    "aisles['aisle_id'].duplicated().sum()"
   ]
  },
  {
   "cell_type": "markdown",
   "id": "ac63826f",
   "metadata": {
    "id": "ac63826f"
   },
   "source": [
    "Describe brevemente tus hallazgos y lo que hiciste con ellos.\n",
    "\n",
    "No tenemos filas que tengan los mismos valores "
   ]
  },
  {
   "cell_type": "markdown",
   "id": "bdbed1b1",
   "metadata": {},
   "source": [
    "Podemos ver que filas duplicadas , no tenemos ni tampoco `aisle_id` que eso es una buna señal \n",
    "porque no hay error humanio de registro"
   ]
  },
  {
   "cell_type": "markdown",
   "id": "274cd06a",
   "metadata": {
    "id": "274cd06a"
   },
   "source": [
    "### `order_products` data frame"
   ]
  },
  {
   "cell_type": "code",
   "execution_count": 586,
   "id": "52326689-84a8-4b8f-a881-7c68780f62c9",
   "metadata": {
    "id": "52326689-84a8-4b8f-a881-7c68780f62c9"
   },
   "outputs": [
    {
     "data": {
      "text/plain": [
       "np.int64(0)"
      ]
     },
     "execution_count": 586,
     "metadata": {},
     "output_type": "execute_result"
    }
   ],
   "source": [
    "# Revisa si hay filas totalmente duplicadas\n",
    "order_products.duplicated().sum()"
   ]
  },
  {
   "cell_type": "code",
   "execution_count": 587,
   "id": "7b861391",
   "metadata": {
    "id": "7b861391"
   },
   "outputs": [
    {
     "data": {
      "text/plain": [
       "np.int64(0)"
      ]
     },
     "execution_count": 587,
     "metadata": {},
     "output_type": "execute_result"
    }
   ],
   "source": [
    "# Vuelve a verificar si hay cualquier otro duplicado engañoso\n",
    "#Recuerda utilizar las columnas que tengan valores UNICOS\n",
    "order_products[['product_id','order_id']].duplicated().sum()\n"
   ]
  },
  {
   "cell_type": "markdown",
   "id": "0b890492",
   "metadata": {
    "id": "0b890492"
   },
   "source": [
    "Describe brevemente tus hallazgos y lo que hiciste con ellos."
   ]
  },
  {
   "cell_type": "markdown",
   "id": "35fdfc40",
   "metadata": {},
   "source": [
    "No encontramos ningun otro valor duplicado engañoso ya que dentro de las columnas que tienen valores o datos Unicos se utilizo `duplicated()` y arroja 0"
   ]
  },
  {
   "cell_type": "markdown",
   "id": "1e46de76",
   "metadata": {
    "id": "1e46de76"
   },
   "source": [
    "## Encuentra y elimina los valores ausentes\n",
    "\n",
    "Al trabajar con valores duplicados, pudimos observar que también nos falta investigar valores ausentes:\n",
    "\n",
    "* La columna `'product_name'` de la tabla products.\n",
    "* La columna `'days_since_prior_order'` de la tabla orders.\n",
    "* La columna `'add_to_cart_order'` de la tabla order_productos."
   ]
  },
  {
   "cell_type": "markdown",
   "id": "c0aebd78",
   "metadata": {
    "id": "c0aebd78"
   },
   "source": [
    "### `products` data frame"
   ]
  },
  {
   "cell_type": "code",
   "execution_count": 588,
   "id": "fe4a8b0f",
   "metadata": {
    "id": "fe4a8b0f"
   },
   "outputs": [
    {
     "name": "stdout",
     "output_type": "stream",
     "text": [
      "       product_id product_name  aisle_id  department_id\n",
      "37             38          NaN       100             21\n",
      "71             72          NaN       100             21\n",
      "109           110          NaN       100             21\n",
      "296           297          NaN       100             21\n",
      "416           417          NaN       100             21\n",
      "...           ...          ...       ...            ...\n",
      "49552       49553          NaN       100             21\n",
      "49574       49575          NaN       100             21\n",
      "49640       49641          NaN       100             21\n",
      "49663       49664          NaN       100             21\n",
      "49668       49669          NaN       100             21\n",
      "\n",
      "[1258 rows x 4 columns]\n"
     ]
    }
   ],
   "source": [
    "# Encuentra los valores ausentes en la columna 'product_name'\n",
    "products_na= products[products['product_name'].isna()]\n",
    "print(products_na)"
   ]
  },
  {
   "cell_type": "markdown",
   "id": "-A6x1AbJhjkp",
   "metadata": {
    "id": "-A6x1AbJhjkp"
   },
   "source": [
    "Parece ser que el patron que encontramos es que en el pasillo 100 y del departamento 21 son los valores ausentes "
   ]
  },
  {
   "cell_type": "code",
   "execution_count": 589,
   "id": "e96167bc",
   "metadata": {
    "id": "e96167bc"
   },
   "outputs": [
    {
     "name": "stdout",
     "output_type": "stream",
     "text": [
      "Empty DataFrame\n",
      "Columns: [product_id, product_name, aisle_id, department_id]\n",
      "Index: []\n"
     ]
    }
   ],
   "source": [
    "#  ¿Todos los nombres de productos ausentes están relacionados con el pasillo con ID 100?\n",
    "filter_products_na2 = products[products['product_name'].isna() & \n",
    "                               (products['aisle_id'] != 100)]\n",
    "print(filter_products_na2)                           "
   ]
  },
  {
   "cell_type": "markdown",
   "id": "16fc7985",
   "metadata": {},
   "source": [
    "Podemos concluir que todos los valores `NaN` tienen que ver con el pasillo `100`gracias al filtro que hicimos , ya que nos arroja un `Empty DataFrame`"
   ]
  },
  {
   "cell_type": "code",
   "execution_count": 590,
   "id": "8fd0a541",
   "metadata": {
    "id": "8fd0a541"
   },
   "outputs": [
    {
     "name": "stdout",
     "output_type": "stream",
     "text": [
      "Empty DataFrame\n",
      "Columns: [product_id, product_name, aisle_id, department_id]\n",
      "Index: []\n"
     ]
    }
   ],
   "source": [
    "# ¿Todos los nombres de productos ausentes están relacionados con el departamento con ID 21?\n",
    "filter_products_na2 = products[products['product_name'].isna() & \n",
    "                               (products['department_id'] != 21)]\n",
    "print(filter_products_na2)\n"
   ]
  },
  {
   "cell_type": "markdown",
   "id": "qDpdYn1Fht_I",
   "metadata": {
    "id": "qDpdYn1Fht_I"
   },
   "source": [
    "\n",
    "Encontramos patrones que podrían indicar que el pasillo 100 y el id del departamento 21 son los únicos que tienen valores `NaN`"
   ]
  },
  {
   "cell_type": "code",
   "execution_count": 591,
   "id": "325c3464",
   "metadata": {
    "id": "325c3464"
   },
   "outputs": [
    {
     "name": "stdout",
     "output_type": "stream",
     "text": [
      "Datos del pasillo con ID 100:\n",
      "    aisle_id    aisle\n",
      "99       100  missing\n",
      "\n",
      "Datos del departamento con ID 21:\n",
      "    department_id department\n",
      "20             21    missing\n"
     ]
    }
   ],
   "source": [
    "# Usa las tablas department y aisle para revisar los datos del pasillo con ID 100 y el departamento con ID 21.\n",
    "# Filtrar la tabla aisle para encontrar información sobre el pasillo con ID 100\n",
    "aisle_info = aisles[aisles['aisle_id'] == 100]\n",
    "print(\"Datos del pasillo con ID 100:\")\n",
    "print(aisle_info)\n",
    "\n",
    "# Filtrar la tabla department para encontrar información sobre el departamento con ID 21\n",
    "department_info = departments[departments['department_id'] == 21]\n",
    "print(\"\\nDatos del departamento con ID 21:\")\n",
    "print(department_info)"
   ]
  },
  {
   "cell_type": "markdown",
   "id": "3184566d",
   "metadata": {},
   "source": [
    "Filtramos los nombres del pasillo y departamento , efectivamente son lugares en dodnde se guardan las cosas perdidas y por eso tienen valores `NaN`"
   ]
  },
  {
   "cell_type": "code",
   "execution_count": 592,
   "id": "6b295120",
   "metadata": {
    "id": "6b295120"
   },
   "outputs": [
    {
     "name": "stdout",
     "output_type": "stream",
     "text": [
      "0\n"
     ]
    }
   ],
   "source": [
    "# Completa los nombres de productos ausentes con 'Unknown'\n",
    "# \n",
    "new_product_name= products['product_name'].fillna('Unknown')\n",
    "print(new_product_name.isna().sum())"
   ]
  },
  {
   "cell_type": "markdown",
   "id": "dd865c75",
   "metadata": {},
   "source": [
    "Una vez actualizados los voy a agregar a una variable `new_product_name` porque en el proyecto no indica que se actualice aun el DataFrame y comprobamos si tenemos valores `NaN`"
   ]
  },
  {
   "cell_type": "markdown",
   "id": "7eb45c86",
   "metadata": {
    "id": "7eb45c86"
   },
   "source": [
    "### `instacart_orders` data frame (se cambio porque decia `order`)"
   ]
  },
  {
   "cell_type": "code",
   "execution_count": 593,
   "id": "93e41d96",
   "metadata": {
    "id": "93e41d96"
   },
   "outputs": [
    {
     "name": "stdout",
     "output_type": "stream",
     "text": [
      "        order_id  user_id  order_number  order_dow  order_hour_of_day  \\\n",
      "28        133707   182261             1          3                 10   \n",
      "96        787445    25685             1          6                 18   \n",
      "100       294410   111449             1          0                 19   \n",
      "103      2869915   123958             1          4                 16   \n",
      "104      2521921    42286             1          3                 18   \n",
      "...          ...      ...           ...        ...                ...   \n",
      "478880   2589657   205028             1          0                 16   \n",
      "478881   2222353   141211             1          2                 13   \n",
      "478907   2272807   204154             1          1                 15   \n",
      "478911   2499542    68810             1          4                 19   \n",
      "478930   1387033    22496             1          5                 14   \n",
      "\n",
      "        days_since_prior_order  \n",
      "28                         NaN  \n",
      "96                         NaN  \n",
      "100                        NaN  \n",
      "103                        NaN  \n",
      "104                        NaN  \n",
      "...                        ...  \n",
      "478880                     NaN  \n",
      "478881                     NaN  \n",
      "478907                     NaN  \n",
      "478911                     NaN  \n",
      "478930                     NaN  \n",
      "\n",
      "[28817 rows x 6 columns]\n"
     ]
    }
   ],
   "source": [
    "# Encuentra los valores ausentes\n",
    "instacart_orders_na= instacart[instacart['days_since_prior_order'].isna()]\n",
    "print(instacart_orders_na)"
   ]
  },
  {
   "cell_type": "code",
   "execution_count": 594,
   "id": "166e5a86",
   "metadata": {
    "id": "166e5a86"
   },
   "outputs": [
    {
     "name": "stdout",
     "output_type": "stream",
     "text": [
      "Empty DataFrame\n",
      "Columns: [order_id, user_id, order_number, order_dow, order_hour_of_day, days_since_prior_order]\n",
      "Index: []\n"
     ]
    }
   ],
   "source": [
    "# ¿Hay algún valor ausente que no sea el primer pedido del cliente?\n",
    "filter_instacart_orders_na = instacart[instacart['days_since_prior_order'].isna() & \n",
    "                                       (instacart['order_number'] != 1)]\n",
    "print(filter_instacart_orders_na)        "
   ]
  },
  {
   "cell_type": "markdown",
   "id": "20082d29",
   "metadata": {},
   "source": [
    "En este apartado el patron que podemos encontrar es que para que se genere un valor diferente a `NaN` tienen que hacer un segundo pedido "
   ]
  },
  {
   "cell_type": "markdown",
   "id": "69dc9ca4",
   "metadata": {
    "id": "69dc9ca4"
   },
   "source": [
    "### `order_products` data frame"
   ]
  },
  {
   "cell_type": "code",
   "execution_count": 595,
   "id": "b8240253",
   "metadata": {
    "id": "b8240253"
   },
   "outputs": [
    {
     "data": {
      "text/html": [
       "<div>\n",
       "<style scoped>\n",
       "    .dataframe tbody tr th:only-of-type {\n",
       "        vertical-align: middle;\n",
       "    }\n",
       "\n",
       "    .dataframe tbody tr th {\n",
       "        vertical-align: top;\n",
       "    }\n",
       "\n",
       "    .dataframe thead th {\n",
       "        text-align: right;\n",
       "    }\n",
       "</style>\n",
       "<table border=\"1\" class=\"dataframe\">\n",
       "  <thead>\n",
       "    <tr style=\"text-align: right;\">\n",
       "      <th></th>\n",
       "      <th>order_id</th>\n",
       "      <th>product_id</th>\n",
       "      <th>add_to_cart_order</th>\n",
       "      <th>reordered</th>\n",
       "    </tr>\n",
       "  </thead>\n",
       "  <tbody>\n",
       "    <tr>\n",
       "      <th>737</th>\n",
       "      <td>2449164</td>\n",
       "      <td>5068</td>\n",
       "      <td>NaN</td>\n",
       "      <td>0</td>\n",
       "    </tr>\n",
       "    <tr>\n",
       "      <th>9926</th>\n",
       "      <td>1968313</td>\n",
       "      <td>43867</td>\n",
       "      <td>NaN</td>\n",
       "      <td>0</td>\n",
       "    </tr>\n",
       "    <tr>\n",
       "      <th>14394</th>\n",
       "      <td>2926893</td>\n",
       "      <td>11688</td>\n",
       "      <td>NaN</td>\n",
       "      <td>0</td>\n",
       "    </tr>\n",
       "    <tr>\n",
       "      <th>16418</th>\n",
       "      <td>1717990</td>\n",
       "      <td>4142</td>\n",
       "      <td>NaN</td>\n",
       "      <td>0</td>\n",
       "    </tr>\n",
       "    <tr>\n",
       "      <th>30114</th>\n",
       "      <td>1959075</td>\n",
       "      <td>42828</td>\n",
       "      <td>NaN</td>\n",
       "      <td>1</td>\n",
       "    </tr>\n",
       "    <tr>\n",
       "      <th>...</th>\n",
       "      <td>...</td>\n",
       "      <td>...</td>\n",
       "      <td>...</td>\n",
       "      <td>...</td>\n",
       "    </tr>\n",
       "    <tr>\n",
       "      <th>4505662</th>\n",
       "      <td>1800005</td>\n",
       "      <td>7411</td>\n",
       "      <td>NaN</td>\n",
       "      <td>0</td>\n",
       "    </tr>\n",
       "    <tr>\n",
       "      <th>4511400</th>\n",
       "      <td>1633337</td>\n",
       "      <td>260</td>\n",
       "      <td>NaN</td>\n",
       "      <td>0</td>\n",
       "    </tr>\n",
       "    <tr>\n",
       "      <th>4517562</th>\n",
       "      <td>404157</td>\n",
       "      <td>9517</td>\n",
       "      <td>NaN</td>\n",
       "      <td>0</td>\n",
       "    </tr>\n",
       "    <tr>\n",
       "      <th>4534112</th>\n",
       "      <td>1673227</td>\n",
       "      <td>17835</td>\n",
       "      <td>NaN</td>\n",
       "      <td>0</td>\n",
       "    </tr>\n",
       "    <tr>\n",
       "      <th>4535739</th>\n",
       "      <td>1832957</td>\n",
       "      <td>17949</td>\n",
       "      <td>NaN</td>\n",
       "      <td>1</td>\n",
       "    </tr>\n",
       "  </tbody>\n",
       "</table>\n",
       "<p>836 rows × 4 columns</p>\n",
       "</div>"
      ],
      "text/plain": [
       "         order_id  product_id  add_to_cart_order  reordered\n",
       "737       2449164        5068                NaN          0\n",
       "9926      1968313       43867                NaN          0\n",
       "14394     2926893       11688                NaN          0\n",
       "16418     1717990        4142                NaN          0\n",
       "30114     1959075       42828                NaN          1\n",
       "...           ...         ...                ...        ...\n",
       "4505662   1800005        7411                NaN          0\n",
       "4511400   1633337         260                NaN          0\n",
       "4517562    404157        9517                NaN          0\n",
       "4534112   1673227       17835                NaN          0\n",
       "4535739   1832957       17949                NaN          1\n",
       "\n",
       "[836 rows x 4 columns]"
      ]
     },
     "execution_count": 595,
     "metadata": {},
     "output_type": "execute_result"
    }
   ],
   "source": [
    "# Encuentra los valores ausentes\n",
    "order_products[order_products['add_to_cart_order'].isna()]"
   ]
  },
  {
   "cell_type": "code",
   "execution_count": 596,
   "id": "9a78e5ee",
   "metadata": {
    "id": "9a78e5ee"
   },
   "outputs": [
    {
     "name": "stdout",
     "output_type": "stream",
     "text": [
      "valores mínimos: 1.0\n",
      "valores maximos: 64.0\n"
     ]
    }
   ],
   "source": [
    "# ¿Cuáles son los valores mínimos y máximos en esta columna?\n",
    "print(f'valores mínimos:',order_products['add_to_cart_order'].min())\n",
    "print(f'valores maximos:',order_products['add_to_cart_order'].max())\n"
   ]
  },
  {
   "cell_type": "markdown",
   "id": "-Z2Ja215jW78",
   "metadata": {
    "id": "-Z2Ja215jW78"
   },
   "source": [
    "Describe brevemente cuáles son tus hallazgos.\n",
    "\n",
    "Podemos notar un patron que indica que tenemos 836 filas con valores `NaN` en `'add_to_cart_order'` en `reordered` parece que hay algunos clientes qe si han pedido el producto porque son 1 pero tambien hay \n",
    "clientes que lo han pedido 0 y tienen `NaN`\n",
    "\n",
    "Tambien observamos que va del 1 al 64 con las cantidades minimas y maximas "
   ]
  },
  {
   "cell_type": "code",
   "execution_count": 597,
   "id": "ab9d0c2b",
   "metadata": {
    "id": "ab9d0c2b"
   },
   "outputs": [
    {
     "name": "stdout",
     "output_type": "stream",
     "text": [
      "737        2449164\n",
      "9926       1968313\n",
      "14394      2926893\n",
      "16418      1717990\n",
      "30114      1959075\n",
      "            ...   \n",
      "4505662    1800005\n",
      "4511400    1633337\n",
      "4517562     404157\n",
      "4534112    1673227\n",
      "4535739    1832957\n",
      "Name: order_id, Length: 836, dtype: int64\n"
     ]
    }
   ],
   "source": [
    "# Guarda todas las IDs de pedidos que tengan un valor ausente en 'add_to_cart_order'\n",
    "order_id_products_na = order_products[order_products['add_to_cart_order'].isna()]['order_id']\n",
    "# Mostrar los order_id con valores ausentes en 'add_to_cart_order'\n",
    "print(order_id_products_na)"
   ]
  },
  {
   "cell_type": "code",
   "execution_count": 598,
   "id": "54c31695",
   "metadata": {
    "id": "54c31695"
   },
   "outputs": [
    {
     "name": "stdout",
     "output_type": "stream",
     "text": [
      "order_id\n",
      "9310        65\n",
      "61355      127\n",
      "102236      95\n",
      "129627      69\n",
      "165801      70\n",
      "          ... \n",
      "2999801     70\n",
      "3125735     86\n",
      "3308010    115\n",
      "3347453     71\n",
      "3383594     69\n",
      "Name: product_id, Length: 70, dtype: int64\n",
      "El número mínimo de 'product_id' en pedidos con valores ausentes es: 65\n",
      "El número mínimo de 'product_id' en pedidos con valores ausentes es: 127\n"
     ]
    }
   ],
   "source": [
    "# ¿Todos los pedidos con valores ausentes tienen más de 64 productos?\n",
    "# Agrupa todos los pedidos con datos ausentes por su ID de pedido.\n",
    "missing_add_to_cart_order = order_products[order_products['order_id'].isin(order_id_products_na)]\n",
    "product_count_per_order = missing_add_to_cart_order.groupby('order_id')['product_id'].count()\n",
    "print(product_count_per_order)\n",
    "# Cuenta el número de 'product_id' en cada pedido y revisa el valor mínimo del conteo.\n",
    "min_product_count = product_count_per_order.min()\n",
    "max_product_count = product_count_per_order.max()\n",
    "print(f\"El número mínimo de 'product_id' en pedidos con valores ausentes es: {min_product_count}\")\n",
    "print(f\"El número mínimo de 'product_id' en pedidos con valores ausentes es: {max_product_count}\")"
   ]
  },
  {
   "cell_type": "markdown",
   "id": "p9V6pddtjglj",
   "metadata": {
    "id": "p9V6pddtjglj"
   },
   "source": [
    "Describe brevemente cuáles son tus hallazgos."
   ]
  },
  {
   "cell_type": "markdown",
   "id": "0c92a75e",
   "metadata": {},
   "source": [
    "¿Todos los pedidos con valores ausentes tienen más de 64 productos?\n",
    "\n",
    "Si algunos, podemos ver que en la columna `'reorded'` y en el orden que se agregaron al carrito `'add_to_cart_order'` nos esta contando los valores que si han pedido por primera vez.\n",
    "\n",
    "En otras palabras, si todos los pedidos con valores ausentes tienen más de 64 productos, esto podría indicar un patrón o una limitación técnica (por ejemplo, un problema en la recopilación de datos cuando un pedido tiene muchos artículos)."
   ]
  },
  {
   "cell_type": "code",
   "execution_count": 599,
   "id": "7a987d08",
   "metadata": {
    "id": "7a987d08"
   },
   "outputs": [
    {
     "name": "stdout",
     "output_type": "stream",
     "text": [
      "<class 'pandas.core.frame.DataFrame'>\n",
      "RangeIndex: 4545007 entries, 0 to 4545006\n",
      "Data columns (total 4 columns):\n",
      " #   Column             Non-Null Count    Dtype\n",
      "---  ------             --------------    -----\n",
      " 0   order_id           4545007 non-null  int64\n",
      " 1   product_id         4545007 non-null  int64\n",
      " 2   add_to_cart_order  4545007 non-null  int64\n",
      " 3   reordered          4545007 non-null  int64\n",
      "dtypes: int64(4)\n",
      "memory usage: 138.7 MB\n",
      "None\n",
      "   order_id  product_id  add_to_cart_order  reordered\n",
      "0   2141543       11440                 17          0\n",
      "1    567889        1560                  1          1\n",
      "2   2261212       26683                  1          1\n",
      "3    491251        8670                 35          1\n",
      "4   2571142        1940                  5          1\n"
     ]
    },
    {
     "name": "stderr",
     "output_type": "stream",
     "text": [
      "C:\\Users\\Cesar Reyes Ramìrez\\AppData\\Local\\Temp\\ipykernel_19712\\388547467.py:2: FutureWarning: A value is trying to be set on a copy of a DataFrame or Series through chained assignment using an inplace method.\n",
      "The behavior will change in pandas 3.0. This inplace method will never work because the intermediate object on which we are setting values always behaves as a copy.\n",
      "\n",
      "For example, when doing 'df[col].method(value, inplace=True)', try using 'df.method({col: value}, inplace=True)' or df[col] = df[col].method(value) instead, to perform the operation inplace on the original object.\n",
      "\n",
      "\n",
      "  order_products['add_to_cart_order'].fillna(999, inplace=True)\n"
     ]
    }
   ],
   "source": [
    "# Remplaza los valores ausentes en la columna 'add_to_cart? con 999 y convierte la columna al tipo entero.\n",
    "order_products['add_to_cart_order'].fillna(999, inplace=True)\n",
    "\n",
    "# Convertir la columna 'add_to_cart_order' al tipo entero\n",
    "order_products['add_to_cart_order'] = order_products['add_to_cart_order'].astype(int)\n",
    "# Verificamos los cambios\n",
    "print(order_products.info(show_counts=True))\n",
    "print(order_products.head())"
   ]
  },
  {
   "cell_type": "markdown",
   "id": "fea4bcc7",
   "metadata": {
    "id": "fea4bcc7"
   },
   "source": [
    "Se cambiaron los valores Nulos a 999 para pder tenerlos ubicados y asi poder trabajar con los datos"
   ]
  },
  {
   "cell_type": "markdown",
   "id": "RnplPFY1gSrb",
   "metadata": {
    "id": "RnplPFY1gSrb"
   },
   "source": [
    "## Conclusiones\n",
    "\n",
    "Escribe aquí tus conclusiones intermedias sobre el Paso 2. Preprocesamiento de los datos\n",
    "\n",
    "Pudimos notar que hubo un error de llenado en cuanto pasaban los 64 productos esto podria ser por un error del sitema \n"
   ]
  },
  {
   "cell_type": "markdown",
   "id": "be798bca",
   "metadata": {},
   "source": [
    "<div class=\"alert alert-block alert-success\">\n",
    "<b>Éxito</b> <a class=\"tocSkip\"></a>\n",
    "Has demostrado una gran atención al detalle en el preprocesamiento de los datos, César. Identificaste correctamente y eliminaste los duplicados en `instacart_orders`, incluyendo la observación de que los duplicados ocurren principalmente en pedidos realizados a las 2:00 AM los miércoles, lo que sugiere un posible error en los datos originales. Además, utilizaste `reset_index(drop=True)` después de eliminar los duplicados, asegurando que el DataFrame resultante esté correctamente indexado. También manejaste los valores faltantes de manera efectiva, completando los nombres de productos faltantes con \"Unknown\" en `products`. ¡Has hecho un excelente trabajo en este paso crucial del proceso de limpieza de datos!\n",
    "</div>"
   ]
  },
  {
   "cell_type": "markdown",
   "id": "UjrOIwTcz3ri",
   "metadata": {
    "id": "UjrOIwTcz3ri"
   },
   "source": [
    "# Paso 3. Análisis de los datos\n",
    "\n",
    "Una vez los datos estén procesados y listos, haz el siguiente análisis:"
   ]
  },
  {
   "cell_type": "markdown",
   "id": "turkish-kidney",
   "metadata": {
    "id": "turkish-kidney"
   },
   "source": [
    "# [A] Fácil (deben completarse todos para aprobar)\n",
    "\n",
    "1. Verifica que los valores en las columnas `'order_hour_of_day'` y `'order_dow'` en la tabla orders sean razonables (es decir, `'order_hour_of_day'` oscile entre 0 y 23 y `'order_dow'` oscile entre 0 y 6).\n",
    "2. Crea un gráfico que muestre el número de personas que hacen pedidos dependiendo de la hora del día.\n",
    "3. Crea un gráfico que muestre qué día de la semana la gente hace sus compras.\n",
    "4. Crea un gráfico que muestre el tiempo que la gente espera hasta hacer su siguiente pedido, y comenta sobre los valores mínimos y máximos."
   ]
  },
  {
   "cell_type": "markdown",
   "id": "short-capability",
   "metadata": {
    "id": "short-capability"
   },
   "source": [
    "### [A1] Verifica que los valores sean sensibles"
   ]
  },
  {
   "cell_type": "code",
   "execution_count": 600,
   "id": "growing-fruit",
   "metadata": {
    "id": "growing-fruit"
   },
   "outputs": [
    {
     "name": "stdout",
     "output_type": "stream",
     "text": [
      "<class 'pandas.core.frame.DataFrame'>\n",
      "RangeIndex: 478952 entries, 0 to 478951\n",
      "Data columns (total 6 columns):\n",
      " #   Column                  Non-Null Count   Dtype  \n",
      "---  ------                  --------------   -----  \n",
      " 0   order_id                478952 non-null  int64  \n",
      " 1   user_id                 478952 non-null  int64  \n",
      " 2   order_number            478952 non-null  int64  \n",
      " 3   order_dow               478952 non-null  int64  \n",
      " 4   order_hour_of_day       478952 non-null  int64  \n",
      " 5   days_since_prior_order  450135 non-null  float64\n",
      "dtypes: float64(1), int64(5)\n",
      "memory usage: 21.9 MB\n"
     ]
    }
   ],
   "source": [
    "instacart.info()"
   ]
  },
  {
   "cell_type": "markdown",
   "id": "39fcca01",
   "metadata": {},
   "source": [
    "#### Verificamos que los valores de 'order_hour_of_day' esten dentro 0 a 23 "
   ]
  },
  {
   "cell_type": "code",
   "execution_count": 601,
   "id": "d4c61dfe",
   "metadata": {},
   "outputs": [
    {
     "name": "stdout",
     "output_type": "stream",
     "text": [
      "[ 0  1  2  3  4  5  6  7  8  9 10 11 12 13 14 15 16 17 18 19 20 21 22 23]\n"
     ]
    }
   ],
   "source": [
    "print(instacart['order_hour_of_day'].sort_values().unique())\n",
    "#invalid_hours = instacart[(instacart['order_hour_of_day'] < 0) | \n",
    "#                          (instacart['order_hour_of_day'] > 23)]\n",
    "#print(f\"Valores inválidos en 'order_hour_of_day':\\n{invalid_hours}\")"
   ]
  },
  {
   "cell_type": "markdown",
   "id": "5765b8db",
   "metadata": {},
   "source": [
    "#### Verificamos que los valores de 'order_dow' esten dentro 0 a 6 "
   ]
  },
  {
   "cell_type": "code",
   "execution_count": 602,
   "id": "accessory-malaysia",
   "metadata": {
    "id": "accessory-malaysia"
   },
   "outputs": [
    {
     "name": "stdout",
     "output_type": "stream",
     "text": [
      "[0 1 2 3 4 5 6]\n"
     ]
    }
   ],
   "source": [
    "#Verificamos que los valores de 'order_dow' esten dentro 0 a 23 \n",
    "print(instacart['order_dow'].sort_values().unique())\n",
    "#print(instacart['order_dow'].unique())\n",
    "#invalid_days = instacart[(instacart['order_dow'] < 0) | \n",
    "#                         (instacart['order_dow'] > 6)]\n",
    "#print(f\"Valores inválidos en 'order_dow':\\n{invalid_days}\")"
   ]
  },
  {
   "cell_type": "markdown",
   "id": "hmR2GNQ6lCsX",
   "metadata": {
    "id": "hmR2GNQ6lCsX"
   },
   "source": [
    "Escribe aquí tus conclusiones\n",
    "\n",
    "Podemos observar que todo esta dentro de los parametros asi que podremos graficar"
   ]
  },
  {
   "cell_type": "markdown",
   "id": "a6743a70",
   "metadata": {
    "id": "a6743a70"
   },
   "source": [
    "### [A2] Para cada hora del día, ¿cuántas personas hacen órdenes?"
   ]
  },
  {
   "cell_type": "code",
   "execution_count": 603,
   "id": "a36cca27",
   "metadata": {
    "id": "a36cca27"
   },
   "outputs": [
    {
     "data": {
      "image/png": "[encoded data removed]",
      "text/plain": [
       "<Figure size 1200x600 with 1 Axes>"
      ]
     },
     "metadata": {},
     "output_type": "display_data"
    }
   ],
   "source": [
    "hourly_orders = instacart['order_hour_of_day'].value_counts().sort_index()\n",
    "\n",
    "# Graficar\n",
    "plt.figure(figsize=(12, 6))\n",
    "plt.bar(hourly_orders.index, hourly_orders.values, color='skyblue')\n",
    "plt.xlabel('Hora del día')\n",
    "plt.ylabel('Número de pedidos')\n",
    "plt.title('Número de pedidos por hora del día')\n",
    "plt.xticks(range(24))  # Asegura que todos los valores de 0 a 23 estén en el eje x\n",
    "plt.grid(True)\n",
    "plt.show()\n"
   ]
  },
  {
   "cell_type": "markdown",
   "id": "a636b30f",
   "metadata": {},
   "source": [
    "### Repaso adicional Francisco Benavides"
   ]
  },
  {
   "cell_type": "code",
   "execution_count": 604,
   "id": "630c6546",
   "metadata": {},
   "outputs": [
    {
     "data": {
      "text/plain": [
       "<Axes: title={'center': 'Número de pedidos por hora del día'}, xlabel='Hora del día', ylabel='Número de pedidos'>"
      ]
     },
     "execution_count": 604,
     "metadata": {},
     "output_type": "execute_result"
    },
    {
     "data": {
      "image/png": "[encoded data removed]",
      "text/plain": [
       "<Figure size 1200x600 with 1 Axes>"
      ]
     },
     "metadata": {},
     "output_type": "display_data"
    }
   ],
   "source": [
    "#Dentro del df agrupamos con respecto de 'order_hour_of_day' y posteriormente contamos los usuarios de 'user_id' \n",
    "instacart.groupby('order_hour_of_day')['user_id'].count().plot(\n",
    "    kind='bar',\n",
    "    color='skyblue',\n",
    "    xlabel='Hora del día',\n",
    "    ylabel='Número de pedidos',\n",
    "    title='Número de pedidos por hora del día',\n",
    "    figsize=(12, 6),\n",
    "    grid=True,\n",
    "    xticks= range(24),\n",
    ")"
   ]
  },
  {
   "cell_type": "markdown",
   "id": "11270eed",
   "metadata": {
    "id": "11270eed"
   },
   "source": [
    "Escribe aquí tus conclusiones\n",
    "Se puede observar que la hora mas demandande para pedir comida son las 10am y la demanda de pedidos de comida se da de las 10am a 1pm  "
   ]
  },
  {
   "cell_type": "markdown",
   "id": "documented-command",
   "metadata": {
    "id": "documented-command"
   },
   "source": [
    "### [A3] ¿Qué día de la semana compran víveres las personas?"
   ]
  },
  {
   "cell_type": "code",
   "execution_count": 605,
   "id": "chief-digit",
   "metadata": {
    "id": "chief-digit"
   },
   "outputs": [
    {
     "name": "stdout",
     "output_type": "stream",
     "text": [
      "Index([0, 1, 2, 3, 4, 5, 6], dtype='int64', name='order_dow')\n",
      "[84090 82185 65833 60897 59810 63488 62649]\n",
      "order_dow\n",
      "0    84090\n",
      "1    82185\n",
      "2    65833\n",
      "3    60897\n",
      "4    59810\n",
      "5    63488\n",
      "6    62649\n",
      "Name: count, dtype: int64\n"
     ]
    },
    {
     "data": {
      "image/png": "[encoded data removed]",
      "text/plain": [
       "<Figure size 1200x600 with 1 Axes>"
      ]
     },
     "metadata": {},
     "output_type": "display_data"
    }
   ],
   "source": [
    "# Contar los pedidos por cada día de la semana\n",
    "weekly_orders = instacart['order_dow'].value_counts().sort_index()\n",
    "\n",
    "print(weekly_orders.index)\n",
    "print(weekly_orders.values)\n",
    "print(weekly_orders)\n",
    "# Graficar\n",
    "plt.figure(figsize=(12, 6))\n",
    "plt.bar(weekly_orders.index, weekly_orders.values, color='lightgreen')\n",
    "plt.xlabel('Día de la semana (0=Domingo, 6=Sábado)')\n",
    "plt.ylabel('Número de pedidos')\n",
    "plt.title('Número de pedidos por día de la semana')\n",
    "plt.xticks(range(7))  # Asegurar que todos los valores de 0 a 6 estén en el eje x\n",
    "plt.grid(True)\n",
    "plt.show()"
   ]
  },
  {
   "cell_type": "markdown",
   "id": "dba81b3e",
   "metadata": {},
   "source": [
    "### Repaso con el profesor Francisco benavides"
   ]
  },
  {
   "cell_type": "code",
   "execution_count": 606,
   "id": "0f2260bc",
   "metadata": {},
   "outputs": [
    {
     "data": {
      "text/plain": [
       "<Axes: title={'center': 'Número de pedidos por día de la semana'}, xlabel='Día de la semana (0=Domingo, 6=Sábado)', ylabel='Número de pedidos'>"
      ]
     },
     "execution_count": 606,
     "metadata": {},
     "output_type": "execute_result"
    },
    {
     "data": {
      "image/png": "[encoded data removed]",
      "text/plain": [
       "<Figure size 1200x600 with 1 Axes>"
      ]
     },
     "metadata": {},
     "output_type": "display_data"
    }
   ],
   "source": [
    "a = instacart.groupby('order_dow')['user_id'].count()\n",
    "a.plot(\n",
    "    figsize=(12, 6),\n",
    "    kind='bar',\n",
    "    color='lightgreen',\n",
    "    xlabel='Día de la semana (0=Domingo, 6=Sábado)',\n",
    "    ylabel='Número de pedidos',\n",
    "    title='Número de pedidos por día de la semana',\n",
    "    grid=True\n",
    ")"
   ]
  },
  {
   "cell_type": "markdown",
   "id": "dominant-lightning",
   "metadata": {
    "id": "dominant-lightning"
   },
   "source": [
    "Escribe aquí tus conclusiones \n",
    "Aqui podemos ver que el dia domingo es el dia que se utilza para poder hacer las compras esto podria ser a que muchas familias ocupan ese dia d descanso o ese mismo dia hacen de comer para su semana "
   ]
  },
  {
   "cell_type": "markdown",
   "id": "cutting-concert",
   "metadata": {
    "id": "cutting-concert"
   },
   "source": [
    "### [A4] ¿Cuánto tiempo esperan las personas hasta hacer otro pedido? Comenta sobre los valores mínimos y máximos."
   ]
  },
  {
   "cell_type": "code",
   "execution_count": 607,
   "id": "c231f523",
   "metadata": {
    "id": "c231f523"
   },
   "outputs": [
    {
     "data": {
      "image/png": "[encoded data removed]",
      "text/plain": [
       "<Figure size 1200x600 with 1 Axes>"
      ]
     },
     "metadata": {},
     "output_type": "display_data"
    },
    {
     "name": "stdout",
     "output_type": "stream",
     "text": [
      "Valor mínimo: 0.0, Valor máximo: 30.0\n"
     ]
    }
   ],
   "source": [
    "# Contar los días desde el pedido anterior\n",
    "days_since_last_order = instacart['days_since_prior_order'].value_counts().sort_index()\n",
    "\n",
    "# Graficar\n",
    "plt.figure(figsize=(12, 6))\n",
    "plt.bar(days_since_last_order.index, days_since_last_order.values, color='salmon')\n",
    "plt.xlabel('Días desde el pedido anterior')\n",
    "plt.ylabel('Número de pedidos')\n",
    "plt.title('Tiempo de espera hasta el siguiente pedido')\n",
    "plt.grid(True)\n",
    "plt.show()\n",
    "\n",
    "# Valores mínimos y máximos\n",
    "min_days = instacart['days_since_prior_order'].min()\n",
    "max_days = instacart['days_since_prior_order'].max()\n",
    "print(f\"Valor mínimo: {min_days}, Valor máximo: {max_days}\")"
   ]
  },
  {
   "cell_type": "markdown",
   "id": "fd6d35a9",
   "metadata": {},
   "source": [
    "### Repaso con el profesor"
   ]
  },
  {
   "cell_type": "code",
   "execution_count": 608,
   "id": "7dd7b4a9",
   "metadata": {},
   "outputs": [
    {
     "data": {
      "text/plain": [
       "<Axes: title={'center': 'Tiempo de espera hasta el siguiente pedido'}, xlabel='Días desde el pedido anterior', ylabel='Número de pedidos'>"
      ]
     },
     "execution_count": 608,
     "metadata": {},
     "output_type": "execute_result"
    },
    {
     "data": {
      "image/png": "[encoded data removed]",
      "text/plain": [
       "<Figure size 1200x600 with 1 Axes>"
      ]
     },
     "metadata": {},
     "output_type": "display_data"
    }
   ],
   "source": [
    "instacart.groupby('days_since_prior_order')['user_id'].count().sort_index().plot(\n",
    "kind='bar',\n",
    "figsize=(12, 6),\n",
    "color='salmon',\n",
    "xlabel='Días desde el pedido anterior',\n",
    "ylabel='Número de pedidos',\n",
    "title='Tiempo de espera hasta el siguiente pedido',\n",
    "grid=True\n",
    ")"
   ]
  },
  {
   "cell_type": "markdown",
   "id": "discrete-vertex",
   "metadata": {
    "id": "discrete-vertex"
   },
   "source": [
    "Escribe aquí tus conclusiones\n",
    "\n",
    "Podemos observar que mas de 5000 personas tratan de hacer un peido de para todo el mes asi no estan perdiendo tanto tiempo en la los fines de semana haciendo compras fisicas "
   ]
  },
  {
   "cell_type": "markdown",
   "id": "451c2cb2",
   "metadata": {},
   "source": [
    "<div class=\"alert alert-block alert-success\">\n",
    "<b>Éxito</b> <a class=\"tocSkip\"></a>\n",
    "Has realizado un análisis sólido al verificar que los valores en `order_hour_of_day` y `order_dow` estén dentro de los rangos esperados (0-23 y 0-6, respectivamente). Creaste gráficos de barras efectivos para mostrar la distribución de pedidos por hora del día y por día de la semana, destacando que la mayoría de los pedidos se realizan entre las 9 AM y las 5 PM, con picos a las 10 AM y 3 PM. Estos insights son importantes para entender el comportamiento de los usuarios, y los has comunicado de manera clara y efectiva. ¡Muy buen trabajo!\n",
    "</div>"
   ]
  },
  {
   "cell_type": "markdown",
   "id": "tight-staff",
   "metadata": {
    "id": "tight-staff"
   },
   "source": [
    "# [B] Intermedio (deben completarse todos para aprobar)\n",
    "\n",
    "1. ¿Existe alguna diferencia entre las distribuciones `'order_hour_of_day'` de los miércoles y los sábados? Traza gráficos de barra de `'order_hour_of_day'` para ambos días en la misma figura y describe las diferencias que observes.\n",
    "2. Grafica la distribución para el número de órdenes que hacen los clientes (es decir, cuántos clientes hicieron solo 1 pedido, cuántos hicieron 2, cuántos 3, y así sucesivamente...).\n",
    "3. ¿Cuáles son los 20 principales productos que se piden con más frecuencia (muestra su identificación y nombre)?"
   ]
  },
  {
   "cell_type": "markdown",
   "id": "packed-classic",
   "metadata": {
    "id": "packed-classic"
   },
   "source": [
    "### [B1] Diferencia entre miércoles y sábados para  `'order_hour_of_day'`. Traza gráficos de barra para los dos días y describe las diferencias que veas."
   ]
  },
  {
   "cell_type": "code",
   "execution_count": 609,
   "id": "d89b8403",
   "metadata": {
    "id": "d89b8403"
   },
   "outputs": [
    {
     "data": {
      "text/plain": [
       "Index(['order_id', 'user_id', 'order_number', 'order_dow', 'order_hour_of_day',\n",
       "       'days_since_prior_order'],\n",
       "      dtype='object')"
      ]
     },
     "execution_count": 609,
     "metadata": {},
     "output_type": "execute_result"
    }
   ],
   "source": [
    "instacart.columns"
   ]
  },
  {
   "cell_type": "code",
   "execution_count": 610,
   "id": "94e54e8a",
   "metadata": {
    "id": "94e54e8a"
   },
   "outputs": [],
   "source": [
    "# Filtrar pedidos para miércoles (order_dow == 3)\n",
    "wednesday_orders = instacart[instacart['order_dow'] == 3]['order_hour_of_day']"
   ]
  },
  {
   "cell_type": "code",
   "execution_count": 611,
   "id": "797c90a8",
   "metadata": {
    "id": "797c90a8"
   },
   "outputs": [],
   "source": [
    "# y sábados (order_dow == 1)\n",
    "saturday_orders = instacart[instacart['order_dow'] == 6]['order_hour_of_day']"
   ]
  },
  {
   "cell_type": "code",
   "execution_count": 612,
   "id": "35bcea30",
   "metadata": {
    "id": "35bcea30"
   },
   "outputs": [
    {
     "data": {
      "image/png": "[encoded data removed]",
      "text/plain": [
       "<Figure size 1200x600 with 1 Axes>"
      ]
     },
     "metadata": {},
     "output_type": "display_data"
    }
   ],
   "source": [
    "# Crear gráficos de barra\n",
    "plt.figure(figsize=(12, 6))\n",
    "plt.hist(wednesday_orders, bins=24, alpha=0.5, label='Miércoles', color='blue')\n",
    "plt.hist(saturday_orders, bins=24, alpha=0.5, label='Sábado', color='orange')\n",
    "plt.xlabel('Hora del Día')\n",
    "plt.ylabel('Número de Pedidos')\n",
    "plt.title('Distribución de Pedidos por Hora del Día: Miércoles vs. Sábado')\n",
    "plt.legend()\n",
    "plt.grid(True)\n",
    "plt.show()"
   ]
  },
  {
   "cell_type": "markdown",
   "id": "9b1788f0",
   "metadata": {},
   "source": [
    "### Repaso con el Profesor"
   ]
  },
  {
   "cell_type": "code",
   "execution_count": 613,
   "id": "7034aa01",
   "metadata": {},
   "outputs": [
    {
     "data": {
      "text/plain": [
       "<Axes: xlabel='order_hour_of_day'>"
      ]
     },
     "execution_count": 613,
     "metadata": {},
     "output_type": "execute_result"
    },
    {
     "data": {
      "image/png": "[encoded data removed]",
      "text/plain": [
       "<Figure size 1200x600 with 1 Axes>"
      ]
     },
     "metadata": {},
     "output_type": "display_data"
    }
   ],
   "source": [
    "#primer paso es filtrar en instacart por order_dow el dia especifico que quiero, \n",
    "data_mircoles= instacart[instacart['order_dow']==3].groupby('order_hour_of_day')['order_id'].count()\n",
    "data_sabado= instacart[instacart['order_dow']==6].groupby('order_hour_of_day')['order_id'].count()\n",
    "#juntamos los dos series y le decimos con axis que los junte por columnas\n",
    "grafico= pd.concat([data_mircoles,data_sabado],axis=1)\n",
    "grafico.columns=['miercoles','sabado']\n",
    "grafico.plot(kind='bar',figsize=(12, 6))\n",
    "#print(data_mircoles)\n"
   ]
  },
  {
   "cell_type": "code",
   "execution_count": 614,
   "id": "c4444a8d",
   "metadata": {},
   "outputs": [],
   "source": [
    "#nw= instacart[instacart['order_dow']==3]['order_hour_of_day'].value_counts().sort_index()\n",
    "#print(nw)\n",
    "#nw.plot(kind='bar')"
   ]
  },
  {
   "cell_type": "markdown",
   "id": "charitable-congo",
   "metadata": {
    "id": "charitable-congo"
   },
   "source": [
    "Escribe aquí tus conclusiones\n",
    "Lagente prefiere comprar el fin de semana que a mitad de semana "
   ]
  },
  {
   "cell_type": "markdown",
   "id": "e3891143",
   "metadata": {
    "id": "e3891143"
   },
   "source": [
    "### [B2] ¿Cuál es la distribución para el número de pedidos por cliente?"
   ]
  },
  {
   "cell_type": "code",
   "execution_count": 615,
   "id": "d8c26c23",
   "metadata": {
    "id": "d8c26c23"
   },
   "outputs": [],
   "source": [
    "# Contar el número de pedidos por cada usuario\n",
    "order_counts = instacart.groupby('user_id')['order_number'].max()"
   ]
  },
  {
   "cell_type": "code",
   "execution_count": 616,
   "id": "00e69a66",
   "metadata": {
    "id": "00e69a66"
   },
   "outputs": [
    {
     "data": {
      "image/png": "[encoded data removed]",
      "text/plain": [
       "<Figure size 1200x600 with 1 Axes>"
      ]
     },
     "metadata": {},
     "output_type": "display_data"
    }
   ],
   "source": [
    "# Graficar la distribución de los conteos de pedidos\n",
    "plt.figure(figsize=(12, 6))\n",
    "plt.hist(order_counts, bins=range(1, order_counts.max() + 1), alpha=0.75, color='purple')\n",
    "plt.xlabel('Número de Pedidos')\n",
    "plt.ylabel('Número de Clientes')\n",
    "plt.title('Distribución del Número de Pedidos por Cliente')\n",
    "plt.show()"
   ]
  },
  {
   "cell_type": "markdown",
   "id": "9d5442ae",
   "metadata": {},
   "source": [
    "### Repaso con el profesor"
   ]
  },
  {
   "cell_type": "code",
   "execution_count": 617,
   "id": "69a5669e",
   "metadata": {},
   "outputs": [
    {
     "data": {
      "text/plain": [
       "<Axes: ylabel='Frequency'>"
      ]
     },
     "execution_count": 617,
     "metadata": {},
     "output_type": "execute_result"
    },
    {
     "data": {
      "image/png": "[encoded data removed]",
      "text/plain": [
       "<Figure size 640x480 with 1 Axes>"
      ]
     },
     "metadata": {},
     "output_type": "display_data"
    }
   ],
   "source": [
    "instacart.groupby('user_id')['order_id'].count().plot(kind='hist')"
   ]
  },
  {
   "cell_type": "code",
   "execution_count": 618,
   "id": "da43b45f",
   "metadata": {},
   "outputs": [],
   "source": [
    "#instacart[instacart['order_id']]['user_id'].count().plot(kind='hist')"
   ]
  },
  {
   "cell_type": "markdown",
   "id": "d2eff7d5",
   "metadata": {
    "id": "d2eff7d5"
   },
   "source": [
    "Escribe aquí tus conclusiones"
   ]
  },
  {
   "cell_type": "markdown",
   "id": "54a0319c",
   "metadata": {
    "id": "54a0319c"
   },
   "source": [
    "### [B3] ¿Cuáles son los 20 productos más populares (muestra su ID y nombre)?"
   ]
  },
  {
   "cell_type": "code",
   "execution_count": 619,
   "id": "exterior-arizona",
   "metadata": {
    "id": "exterior-arizona",
    "scrolled": true
   },
   "outputs": [],
   "source": [
    "# Contar el número de veces que se pide cada producto\n",
    "product_counts = order_products['product_id'].value_counts().head(20)"
   ]
  },
  {
   "cell_type": "code",
   "execution_count": 620,
   "id": "universal-facial",
   "metadata": {
    "id": "universal-facial"
   },
   "outputs": [],
   "source": [
    "# Obtener los nombres de los productos más pedidos\n",
    "top_products = product_counts.index\n",
    "top_product_names = products[products['product_id'].isin(top_products)]"
   ]
  },
  {
   "cell_type": "code",
   "execution_count": 621,
   "id": "bbcdd20b",
   "metadata": {
    "id": "bbcdd20b"
   },
   "outputs": [
    {
     "name": "stdout",
     "output_type": "stream",
     "text": [
      "       product_id              product_name  aisle_id  department_id  count\n",
      "24851       24852                    Banana        24              4  66050\n",
      "13175       13176    Bag of Organic Bananas        24              4  53297\n",
      "21136       21137      Organic Strawberries        24              4  37039\n",
      "21902       21903      Organic Baby Spinach       123              4  33971\n",
      "47208       47209      Organic Hass Avocado        24              4  29773\n",
      "47765       47766           Organic Avocado        24              4  24689\n",
      "47625       47626               Large Lemon        24              4  21495\n",
      "16796       16797              Strawberries        24              4  20018\n",
      "26208       26209                     Limes        24              4  19690\n",
      "27844       27845        Organic Whole Milk        84             16  19600\n",
      "27965       27966       Organic Raspberries       123              4  19197\n",
      "22934       22935      Organic Yellow Onion        83              4  15898\n",
      "24963       24964            Organic Garlic        83              4  15292\n",
      "45006       45007          Organic Zucchini        83              4  14584\n",
      "39274       39275       Organic Blueberries       123              4  13879\n",
      "49682       49683            Cucumber Kirby        83              4  13675\n",
      "28203       28204        Organic Fuji Apple        24              4  12544\n",
      "5875         5876             Organic Lemon        24              4  12232\n",
      "8276         8277  Apple Honeycrisp Organic        24              4  11993\n",
      "40705       40706    Organic Grape Tomatoes       123              4  11781\n"
     ]
    }
   ],
   "source": [
    "# Mostrar los 20 productos más pedidos junto con su nombre\n",
    "top_product_info = top_product_names.merge(product_counts.rename('count'), left_on='product_id', right_index=True)\n",
    "print(top_product_info.sort_values(by='count', ascending=False))"
   ]
  },
  {
   "cell_type": "markdown",
   "id": "ad13f776",
   "metadata": {},
   "source": [
    "### Repaso con el Porfesor francisco\n"
   ]
  },
  {
   "cell_type": "code",
   "execution_count": 622,
   "id": "a905ab00",
   "metadata": {},
   "outputs": [
    {
     "data": {
      "text/html": [
       "<div>\n",
       "<style scoped>\n",
       "    .dataframe tbody tr th:only-of-type {\n",
       "        vertical-align: middle;\n",
       "    }\n",
       "\n",
       "    .dataframe tbody tr th {\n",
       "        vertical-align: top;\n",
       "    }\n",
       "\n",
       "    .dataframe thead th {\n",
       "        text-align: right;\n",
       "    }\n",
       "</style>\n",
       "<table border=\"1\" class=\"dataframe\">\n",
       "  <thead>\n",
       "    <tr style=\"text-align: right;\">\n",
       "      <th></th>\n",
       "      <th>order_id</th>\n",
       "      <th>product_id</th>\n",
       "      <th>add_to_cart_order</th>\n",
       "      <th>reordered</th>\n",
       "    </tr>\n",
       "  </thead>\n",
       "  <tbody>\n",
       "    <tr>\n",
       "      <th>0</th>\n",
       "      <td>2141543</td>\n",
       "      <td>11440</td>\n",
       "      <td>17</td>\n",
       "      <td>0</td>\n",
       "    </tr>\n",
       "    <tr>\n",
       "      <th>1</th>\n",
       "      <td>567889</td>\n",
       "      <td>1560</td>\n",
       "      <td>1</td>\n",
       "      <td>1</td>\n",
       "    </tr>\n",
       "    <tr>\n",
       "      <th>2</th>\n",
       "      <td>2261212</td>\n",
       "      <td>26683</td>\n",
       "      <td>1</td>\n",
       "      <td>1</td>\n",
       "    </tr>\n",
       "    <tr>\n",
       "      <th>3</th>\n",
       "      <td>491251</td>\n",
       "      <td>8670</td>\n",
       "      <td>35</td>\n",
       "      <td>1</td>\n",
       "    </tr>\n",
       "    <tr>\n",
       "      <th>4</th>\n",
       "      <td>2571142</td>\n",
       "      <td>1940</td>\n",
       "      <td>5</td>\n",
       "      <td>1</td>\n",
       "    </tr>\n",
       "  </tbody>\n",
       "</table>\n",
       "</div>"
      ],
      "text/plain": [
       "   order_id  product_id  add_to_cart_order  reordered\n",
       "0   2141543       11440                 17          0\n",
       "1    567889        1560                  1          1\n",
       "2   2261212       26683                  1          1\n",
       "3    491251        8670                 35          1\n",
       "4   2571142        1940                  5          1"
      ]
     },
     "execution_count": 622,
     "metadata": {},
     "output_type": "execute_result"
    }
   ],
   "source": [
    "order_products.head()"
   ]
  },
  {
   "cell_type": "code",
   "execution_count": 623,
   "id": "b842f9ba",
   "metadata": {},
   "outputs": [
    {
     "data": {
      "text/html": [
       "<div>\n",
       "<style scoped>\n",
       "    .dataframe tbody tr th:only-of-type {\n",
       "        vertical-align: middle;\n",
       "    }\n",
       "\n",
       "    .dataframe tbody tr th {\n",
       "        vertical-align: top;\n",
       "    }\n",
       "\n",
       "    .dataframe thead th {\n",
       "        text-align: right;\n",
       "    }\n",
       "</style>\n",
       "<table border=\"1\" class=\"dataframe\">\n",
       "  <thead>\n",
       "    <tr style=\"text-align: right;\">\n",
       "      <th></th>\n",
       "      <th>product_id</th>\n",
       "      <th>product_name</th>\n",
       "      <th>aisle_id</th>\n",
       "      <th>department_id</th>\n",
       "    </tr>\n",
       "  </thead>\n",
       "  <tbody>\n",
       "    <tr>\n",
       "      <th>0</th>\n",
       "      <td>1</td>\n",
       "      <td>Chocolate Sandwich Cookies</td>\n",
       "      <td>61</td>\n",
       "      <td>19</td>\n",
       "    </tr>\n",
       "    <tr>\n",
       "      <th>1</th>\n",
       "      <td>2</td>\n",
       "      <td>All-Seasons Salt</td>\n",
       "      <td>104</td>\n",
       "      <td>13</td>\n",
       "    </tr>\n",
       "    <tr>\n",
       "      <th>2</th>\n",
       "      <td>3</td>\n",
       "      <td>Robust Golden Unsweetened Oolong Tea</td>\n",
       "      <td>94</td>\n",
       "      <td>7</td>\n",
       "    </tr>\n",
       "    <tr>\n",
       "      <th>3</th>\n",
       "      <td>4</td>\n",
       "      <td>Smart Ones Classic Favorites Mini Rigatoni Wit...</td>\n",
       "      <td>38</td>\n",
       "      <td>1</td>\n",
       "    </tr>\n",
       "    <tr>\n",
       "      <th>4</th>\n",
       "      <td>5</td>\n",
       "      <td>Green Chile Anytime Sauce</td>\n",
       "      <td>5</td>\n",
       "      <td>13</td>\n",
       "    </tr>\n",
       "  </tbody>\n",
       "</table>\n",
       "</div>"
      ],
      "text/plain": [
       "   product_id                                       product_name  aisle_id  \\\n",
       "0           1                         Chocolate Sandwich Cookies        61   \n",
       "1           2                                   All-Seasons Salt       104   \n",
       "2           3               Robust Golden Unsweetened Oolong Tea        94   \n",
       "3           4  Smart Ones Classic Favorites Mini Rigatoni Wit...        38   \n",
       "4           5                          Green Chile Anytime Sauce         5   \n",
       "\n",
       "   department_id  \n",
       "0             19  \n",
       "1             13  \n",
       "2              7  \n",
       "3              1  \n",
       "4             13  "
      ]
     },
     "execution_count": 623,
     "metadata": {},
     "output_type": "execute_result"
    }
   ],
   "source": [
    "products.head()"
   ]
  },
  {
   "cell_type": "code",
   "execution_count": 624,
   "id": "802b3ba0",
   "metadata": {},
   "outputs": [
    {
     "data": {
      "text/html": [
       "<div>\n",
       "<style scoped>\n",
       "    .dataframe tbody tr th:only-of-type {\n",
       "        vertical-align: middle;\n",
       "    }\n",
       "\n",
       "    .dataframe tbody tr th {\n",
       "        vertical-align: top;\n",
       "    }\n",
       "\n",
       "    .dataframe thead th {\n",
       "        text-align: right;\n",
       "    }\n",
       "</style>\n",
       "<table border=\"1\" class=\"dataframe\">\n",
       "  <thead>\n",
       "    <tr style=\"text-align: right;\">\n",
       "      <th></th>\n",
       "      <th>order_id</th>\n",
       "      <th>product_id</th>\n",
       "      <th>add_to_cart_order</th>\n",
       "      <th>reordered</th>\n",
       "      <th>product_name</th>\n",
       "      <th>aisle_id</th>\n",
       "      <th>department_id</th>\n",
       "    </tr>\n",
       "  </thead>\n",
       "  <tbody>\n",
       "    <tr>\n",
       "      <th>0</th>\n",
       "      <td>2141543</td>\n",
       "      <td>11440</td>\n",
       "      <td>17</td>\n",
       "      <td>0</td>\n",
       "      <td>Chicken Breast Tenders Breaded</td>\n",
       "      <td>129</td>\n",
       "      <td>1</td>\n",
       "    </tr>\n",
       "    <tr>\n",
       "      <th>1</th>\n",
       "      <td>567889</td>\n",
       "      <td>1560</td>\n",
       "      <td>1</td>\n",
       "      <td>1</td>\n",
       "      <td>Bag Of Ice</td>\n",
       "      <td>37</td>\n",
       "      <td>1</td>\n",
       "    </tr>\n",
       "    <tr>\n",
       "      <th>2</th>\n",
       "      <td>2261212</td>\n",
       "      <td>26683</td>\n",
       "      <td>1</td>\n",
       "      <td>1</td>\n",
       "      <td>Cafe Latte Pure Lightly Sweetened Iced Coffee ...</td>\n",
       "      <td>91</td>\n",
       "      <td>16</td>\n",
       "    </tr>\n",
       "    <tr>\n",
       "      <th>3</th>\n",
       "      <td>491251</td>\n",
       "      <td>8670</td>\n",
       "      <td>35</td>\n",
       "      <td>1</td>\n",
       "      <td>Diced Tomatoes</td>\n",
       "      <td>81</td>\n",
       "      <td>15</td>\n",
       "    </tr>\n",
       "    <tr>\n",
       "      <th>4</th>\n",
       "      <td>2571142</td>\n",
       "      <td>1940</td>\n",
       "      <td>5</td>\n",
       "      <td>1</td>\n",
       "      <td>Organic 2% Reduced Fat Milk</td>\n",
       "      <td>84</td>\n",
       "      <td>16</td>\n",
       "    </tr>\n",
       "  </tbody>\n",
       "</table>\n",
       "</div>"
      ],
      "text/plain": [
       "   order_id  product_id  add_to_cart_order  reordered  \\\n",
       "0   2141543       11440                 17          0   \n",
       "1    567889        1560                  1          1   \n",
       "2   2261212       26683                  1          1   \n",
       "3    491251        8670                 35          1   \n",
       "4   2571142        1940                  5          1   \n",
       "\n",
       "                                        product_name  aisle_id  department_id  \n",
       "0                     Chicken Breast Tenders Breaded       129              1  \n",
       "1                                         Bag Of Ice        37              1  \n",
       "2  Cafe Latte Pure Lightly Sweetened Iced Coffee ...        91             16  \n",
       "3                                     Diced Tomatoes        81             15  \n",
       "4                        Organic 2% Reduced Fat Milk        84             16  "
      ]
     },
     "execution_count": 624,
     "metadata": {},
     "output_type": "execute_result"
    }
   ],
   "source": [
    "info_products= order_products.merge(products, on='product_id')\n",
    "info_products.head()"
   ]
  },
  {
   "cell_type": "code",
   "execution_count": 625,
   "id": "8b224729",
   "metadata": {},
   "outputs": [
    {
     "data": {
      "text/plain": [
       "product_id  product_name            \n",
       "24852       Banana                      66050\n",
       "13176       Bag of Organic Bananas      53297\n",
       "21137       Organic Strawberries        37039\n",
       "21903       Organic Baby Spinach        33971\n",
       "47209       Organic Hass Avocado        29773\n",
       "47766       Organic Avocado             24689\n",
       "47626       Large Lemon                 21495\n",
       "16797       Strawberries                20018\n",
       "26209       Limes                       19690\n",
       "27845       Organic Whole Milk          19600\n",
       "27966       Organic Raspberries         19197\n",
       "22935       Organic Yellow Onion        15898\n",
       "24964       Organic Garlic              15292\n",
       "45007       Organic Zucchini            14584\n",
       "39275       Organic Blueberries         13879\n",
       "49683       Cucumber Kirby              13675\n",
       "28204       Organic Fuji Apple          12544\n",
       "5876        Organic Lemon               12232\n",
       "8277        Apple Honeycrisp Organic    11993\n",
       "40706       Organic Grape Tomatoes      11781\n",
       "Name: order_id, dtype: int64"
      ]
     },
     "execution_count": 625,
     "metadata": {},
     "output_type": "execute_result"
    }
   ],
   "source": [
    "info_products.groupby(['product_id','product_name'])['order_id'].count().sort_values(ascending=False).head(20)"
   ]
  },
  {
   "cell_type": "markdown",
   "id": "7df00f47",
   "metadata": {
    "id": "7df00f47"
   },
   "source": [
    "Podemos ver que la gente tiene una tendencia a pedir comida organica , podria ser por estilo de vida "
   ]
  },
  {
   "cell_type": "markdown",
   "id": "65830125",
   "metadata": {},
   "source": [
    "<div class=\"alert alert-block alert-success\">\n",
    "<b>Éxito</b> <a class=\"tocSkip\"></a>\n",
    "César, has demostrado un buen dominio de las técnicas de análisis en la Sección B. Comparaste correctamente las distribuciones de `order_hour_of_day` entre miércoles y sábados, mostrando cómo los patrones de compra varían entre estos dos días. Además, analizaste la distribución del número de pedidos por cliente, lo que proporciona información valiosa sobre los hábitos de compra. Identificaste también los 20 productos más populares, y aunque la guía sugiere la creación de gráficos de barras, tu enfoque sigue siendo válido para destacar los productos más comprados. ¡Gran trabajo en esta sección intermedia del análisis!\n",
    "</div>"
   ]
  },
  {
   "cell_type": "markdown",
   "id": "gross-theme",
   "metadata": {
    "id": "gross-theme"
   },
   "source": [
    "# [C] Difícil (deben completarse todos para aprobar)\n",
    "\n",
    "1. ¿Cuántos artículos suelen comprar las personas en un pedido? ¿Cómo es la distribución?\n",
    "2. ¿Cuáles son los 20 principales artículos que vuelven a pedirse con mayor frecuencia (muestra sus nombres e IDs de los productos)?\n",
    "3. Para cada producto, ¿cuál es la tasa de repetición del pedido (número de repeticiones de pedido/total de pedidos?\n",
    "4. Para cada cliente, ¿qué proporción de los productos que pidió ya los había pedido? Calcula la tasa de repetición de pedido para cada usuario en lugar de para cada producto.\n",
    "5. ¿Cuáles son los 20 principales artículos que la gente pone primero en sus carritos (muestra las IDs de los productos, sus nombres, y el número de veces en que fueron el primer artículo en añadirse al carrito)?"
   ]
  },
  {
   "cell_type": "markdown",
   "id": "romantic-deposit",
   "metadata": {
    "id": "romantic-deposit"
   },
   "source": [
    "### [C1] ¿Cuántos artículos compran normalmente las personas en un pedido? ¿Cómo es la distribución?"
   ]
  },
  {
   "cell_type": "code",
   "execution_count": 626,
   "id": "virtual-punch",
   "metadata": {
    "id": "virtual-punch"
   },
   "outputs": [],
   "source": [
    "# Contar el número de artículos por cada 'order_id'\n",
    "items_per_order = order_products.groupby('order_id').size()"
   ]
  },
  {
   "cell_type": "code",
   "execution_count": 627,
   "id": "sensitive-breathing",
   "metadata": {
    "id": "sensitive-breathing"
   },
   "outputs": [
    {
     "data": {
      "image/png": "[encoded data removed]",
      "text/plain": [
       "<Figure size 1000x600 with 1 Axes>"
      ]
     },
     "metadata": {},
     "output_type": "display_data"
    }
   ],
   "source": [
    "plt.figure(figsize=(10,6))\n",
    "plt.hist(items_per_order, bins=30, edgecolor='black')\n",
    "plt.title('Distribución del número de artículos por pedido')\n",
    "plt.xlabel('Número de artículos')\n",
    "plt.ylabel('Frecuencia')\n",
    "plt.show()"
   ]
  },
  {
   "cell_type": "markdown",
   "id": "a171082e",
   "metadata": {},
   "source": [
    "### Repaso porfesor Francisco "
   ]
  },
  {
   "cell_type": "code",
   "execution_count": 628,
   "id": "d7219ae7",
   "metadata": {},
   "outputs": [
    {
     "data": {
      "text/plain": [
       "<Axes: ylabel='Frequency'>"
      ]
     },
     "execution_count": 628,
     "metadata": {},
     "output_type": "execute_result"
    },
    {
     "data": {
      "image/png": "[encoded data removed]",
      "text/plain": [
       "<Figure size 640x480 with 1 Axes>"
      ]
     },
     "metadata": {},
     "output_type": "display_data"
    }
   ],
   "source": [
    "order_products.groupby('order_id')['product_id'].count().plot(kind='hist')"
   ]
  },
  {
   "cell_type": "markdown",
   "id": "10ba0045",
   "metadata": {
    "id": "completed-frank"
   },
   "source": [
    "Podemos ver que son entre 4 o 5 productos son los que compran normalmente , \n",
    "que a pesar de que son organicos no los consumen tanto"
   ]
  },
  {
   "cell_type": "markdown",
   "id": "5e6b5537",
   "metadata": {
    "id": "5e6b5537"
   },
   "source": [
    "### [C2] ¿Cuáles son los 20 principales artículos que vuelven a pedirse con mayor frecuencia (muestra sus nombres e IDs de los productos)?"
   ]
  },
  {
   "cell_type": "code",
   "execution_count": 629,
   "id": "9374e55a",
   "metadata": {
    "id": "9374e55a"
   },
   "outputs": [
    {
     "name": "stdout",
     "output_type": "stream",
     "text": [
      "product_id\n",
      "24852    55763\n",
      "13176    44450\n",
      "21137    28639\n",
      "21903    26233\n",
      "47209    23629\n",
      "47766    18743\n",
      "27845    16251\n",
      "47626    15044\n",
      "27966    14748\n",
      "16797    13945\n",
      "26209    13327\n",
      "22935    11145\n",
      "24964    10411\n",
      "45007    10076\n",
      "49683     9538\n",
      "28204     8989\n",
      "8277      8836\n",
      "39275     8799\n",
      "5876      8412\n",
      "49235     8389\n",
      "Name: count, dtype: int64\n"
     ]
    }
   ],
   "source": [
    "# Filtrar productos reordenados y contar su frecuencia\n",
    "top_reordered_products = order_products[order_products['reordered'] == 1]['product_id'].value_counts().head(20)\n",
    "print(top_reordered_products)"
   ]
  },
  {
   "cell_type": "code",
   "execution_count": 630,
   "id": "possible-change",
   "metadata": {
    "id": "possible-change",
    "scrolled": true
   },
   "outputs": [
    {
     "name": "stdout",
     "output_type": "stream",
     "text": [
      "    product_id  count\n",
      "0        24852  55763\n",
      "1        13176  44450\n",
      "2        21137  28639\n",
      "3        21903  26233\n",
      "4        47209  23629\n",
      "5        47766  18743\n",
      "6        27845  16251\n",
      "7        47626  15044\n",
      "8        27966  14748\n",
      "9        16797  13945\n",
      "10       26209  13327\n",
      "11       22935  11145\n",
      "12       24964  10411\n",
      "13       45007  10076\n",
      "14       49683   9538\n",
      "15       28204   8989\n",
      "16        8277   8836\n",
      "17       39275   8799\n",
      "18        5876   8412\n",
      "19       49235   8389\n"
     ]
    }
   ],
   "source": [
    "# Obtener los nombres de los productos a partir del DataFrame 'products'\n",
    "top_reordered_products = top_reordered_products.reset_index()\n",
    "print(top_reordered_products)"
   ]
  },
  {
   "cell_type": "code",
   "execution_count": 631,
   "id": "professional-surfing",
   "metadata": {
    "id": "professional-surfing",
    "scrolled": true
   },
   "outputs": [],
   "source": [
    "top_reordered_products.columns = ['product_id', 'count']"
   ]
  },
  {
   "cell_type": "code",
   "execution_count": 632,
   "id": "48dd3658",
   "metadata": {
    "id": "48dd3658"
   },
   "outputs": [
    {
     "name": "stdout",
     "output_type": "stream",
     "text": [
      "    product_id  count              product_name\n",
      "0        24852  55763                    Banana\n",
      "1        13176  44450    Bag of Organic Bananas\n",
      "2        21137  28639      Organic Strawberries\n",
      "3        21903  26233      Organic Baby Spinach\n",
      "4        47209  23629      Organic Hass Avocado\n",
      "5        47766  18743           Organic Avocado\n",
      "6        27845  16251        Organic Whole Milk\n",
      "7        47626  15044               Large Lemon\n",
      "8        27966  14748       Organic Raspberries\n",
      "9        16797  13945              Strawberries\n",
      "10       26209  13327                     Limes\n",
      "11       22935  11145      Organic Yellow Onion\n",
      "12       24964  10411            Organic Garlic\n",
      "13       45007  10076          Organic Zucchini\n",
      "14       49683   9538            Cucumber Kirby\n",
      "15       28204   8989        Organic Fuji Apple\n",
      "16        8277   8836  Apple Honeycrisp Organic\n",
      "17       39275   8799       Organic Blueberries\n",
      "18        5876   8412             Organic Lemon\n",
      "19       49235   8389       Organic Half & Half\n"
     ]
    }
   ],
   "source": [
    "top_reordered_products = top_reordered_products.merge(products[['product_id', 'product_name']], on='product_id')\n",
    "print(top_reordered_products)"
   ]
  },
  {
   "cell_type": "markdown",
   "id": "72260d13",
   "metadata": {},
   "source": [
    "### Repaso con el profesor Francisco"
   ]
  },
  {
   "cell_type": "code",
   "execution_count": 633,
   "id": "d1894edd",
   "metadata": {},
   "outputs": [
    {
     "data": {
      "text/html": [
       "<div>\n",
       "<style scoped>\n",
       "    .dataframe tbody tr th:only-of-type {\n",
       "        vertical-align: middle;\n",
       "    }\n",
       "\n",
       "    .dataframe tbody tr th {\n",
       "        vertical-align: top;\n",
       "    }\n",
       "\n",
       "    .dataframe thead th {\n",
       "        text-align: right;\n",
       "    }\n",
       "</style>\n",
       "<table border=\"1\" class=\"dataframe\">\n",
       "  <thead>\n",
       "    <tr style=\"text-align: right;\">\n",
       "      <th></th>\n",
       "      <th>order_id</th>\n",
       "      <th>product_id</th>\n",
       "      <th>add_to_cart_order</th>\n",
       "      <th>reordered</th>\n",
       "      <th>product_name</th>\n",
       "      <th>aisle_id</th>\n",
       "      <th>department_id</th>\n",
       "    </tr>\n",
       "  </thead>\n",
       "  <tbody>\n",
       "    <tr>\n",
       "      <th>1</th>\n",
       "      <td>567889</td>\n",
       "      <td>1560</td>\n",
       "      <td>1</td>\n",
       "      <td>1</td>\n",
       "      <td>Bag Of Ice</td>\n",
       "      <td>37</td>\n",
       "      <td>1</td>\n",
       "    </tr>\n",
       "    <tr>\n",
       "      <th>2</th>\n",
       "      <td>2261212</td>\n",
       "      <td>26683</td>\n",
       "      <td>1</td>\n",
       "      <td>1</td>\n",
       "      <td>Cafe Latte Pure Lightly Sweetened Iced Coffee ...</td>\n",
       "      <td>91</td>\n",
       "      <td>16</td>\n",
       "    </tr>\n",
       "    <tr>\n",
       "      <th>3</th>\n",
       "      <td>491251</td>\n",
       "      <td>8670</td>\n",
       "      <td>35</td>\n",
       "      <td>1</td>\n",
       "      <td>Diced Tomatoes</td>\n",
       "      <td>81</td>\n",
       "      <td>15</td>\n",
       "    </tr>\n",
       "    <tr>\n",
       "      <th>4</th>\n",
       "      <td>2571142</td>\n",
       "      <td>1940</td>\n",
       "      <td>5</td>\n",
       "      <td>1</td>\n",
       "      <td>Organic 2% Reduced Fat Milk</td>\n",
       "      <td>84</td>\n",
       "      <td>16</td>\n",
       "    </tr>\n",
       "    <tr>\n",
       "      <th>5</th>\n",
       "      <td>2456893</td>\n",
       "      <td>21616</td>\n",
       "      <td>4</td>\n",
       "      <td>1</td>\n",
       "      <td>Organic Baby Arugula</td>\n",
       "      <td>123</td>\n",
       "      <td>4</td>\n",
       "    </tr>\n",
       "  </tbody>\n",
       "</table>\n",
       "</div>"
      ],
      "text/plain": [
       "   order_id  product_id  add_to_cart_order  reordered  \\\n",
       "1    567889        1560                  1          1   \n",
       "2   2261212       26683                  1          1   \n",
       "3    491251        8670                 35          1   \n",
       "4   2571142        1940                  5          1   \n",
       "5   2456893       21616                  4          1   \n",
       "\n",
       "                                        product_name  aisle_id  department_id  \n",
       "1                                         Bag Of Ice        37              1  \n",
       "2  Cafe Latte Pure Lightly Sweetened Iced Coffee ...        91             16  \n",
       "3                                     Diced Tomatoes        81             15  \n",
       "4                        Organic 2% Reduced Fat Milk        84             16  \n",
       "5                               Organic Baby Arugula       123              4  "
      ]
     },
     "execution_count": 633,
     "metadata": {},
     "output_type": "execute_result"
    }
   ],
   "source": [
    "#utilizamos el df que creamos en B3 para poder solventar este ejercicio\n",
    "df_reorder=info_products[info_products['reordered'] == 1]\n",
    "df_reorder.head()"
   ]
  },
  {
   "cell_type": "code",
   "execution_count": 634,
   "id": "e0fe7f1a",
   "metadata": {},
   "outputs": [
    {
     "data": {
      "text/plain": [
       "product_id  product_name            \n",
       "24852       Banana                      55763\n",
       "13176       Bag of Organic Bananas      44450\n",
       "21137       Organic Strawberries        28639\n",
       "21903       Organic Baby Spinach        26233\n",
       "47209       Organic Hass Avocado        23629\n",
       "47766       Organic Avocado             18743\n",
       "27845       Organic Whole Milk          16251\n",
       "47626       Large Lemon                 15044\n",
       "27966       Organic Raspberries         14748\n",
       "16797       Strawberries                13945\n",
       "26209       Limes                       13327\n",
       "22935       Organic Yellow Onion        11145\n",
       "24964       Organic Garlic              10411\n",
       "45007       Organic Zucchini            10076\n",
       "49683       Cucumber Kirby               9538\n",
       "28204       Organic Fuji Apple           8989\n",
       "8277        Apple Honeycrisp Organic     8836\n",
       "39275       Organic Blueberries          8799\n",
       "5876        Organic Lemon                8412\n",
       "49235       Organic Half & Half          8389\n",
       "Name: order_id, dtype: int64"
      ]
     },
     "execution_count": 634,
     "metadata": {},
     "output_type": "execute_result"
    }
   ],
   "source": [
    "df_reorder.groupby(['product_id','product_name'])['order_id'].count().sort_values(ascending=False).head(20)"
   ]
  },
  {
   "cell_type": "markdown",
   "id": "80e70c74",
   "metadata": {
    "id": "80e70c74"
   },
   "source": [
    "Podemos ver que se sigue pidiendo bannas y el paquete de bannas "
   ]
  },
  {
   "cell_type": "markdown",
   "id": "9d312b14",
   "metadata": {
    "id": "9d312b14"
   },
   "source": [
    "### [C3] Para cada producto, ¿cuál es la proporción de las veces que se pide y que se vuelve a pedir?"
   ]
  },
  {
   "cell_type": "code",
   "execution_count": 635,
   "id": "8ae9f4b1",
   "metadata": {
    "id": "8ae9f4b1"
   },
   "outputs": [],
   "source": [
    "# Contar el número total de veces que se pidió cada producto\n",
    "total_orders_per_product = order_products['product_id'].value_counts()"
   ]
  },
  {
   "cell_type": "code",
   "execution_count": 636,
   "id": "103e7fe1",
   "metadata": {
    "id": "103e7fe1"
   },
   "outputs": [],
   "source": [
    "# Contar el número de veces que cada producto fue reordenado\n",
    "reordered_per_product = order_products[order_products['reordered'] == 1]['product_id'].value_counts()"
   ]
  },
  {
   "cell_type": "code",
   "execution_count": 637,
   "id": "social-individual",
   "metadata": {
    "id": "social-individual"
   },
   "outputs": [
    {
     "name": "stdout",
     "output_type": "stream",
     "text": [
      "product_id\n",
      "1     0.564286\n",
      "2     0.000000\n",
      "3     0.738095\n",
      "4     0.510204\n",
      "7     0.500000\n",
      "8     0.315789\n",
      "9     0.761905\n",
      "10    0.448071\n",
      "11    0.625000\n",
      "12    0.390244\n",
      "13    0.500000\n",
      "14    0.000000\n",
      "17    0.000000\n",
      "18    0.533333\n",
      "19    0.000000\n",
      "21    0.000000\n",
      "22    0.500000\n",
      "23    0.380952\n",
      "24    0.000000\n",
      "25    0.674576\n",
      "Name: count, dtype: float64\n"
     ]
    }
   ],
   "source": [
    "# Calcular la tasa de repetición\n",
    "reorder_rate = (reordered_per_product / total_orders_per_product).fillna(0)\n",
    "#reorder_rate = reorder_rate.to_frame().reset_index()\n",
    "reorder_rate.columns = ['product_id', 'reorder_rate']\n",
    "\n",
    "# Mostrar las tasas de repetición\n",
    "print(reorder_rate.head(20))"
   ]
  },
  {
   "cell_type": "markdown",
   "id": "9d8e1006",
   "metadata": {},
   "source": [
    "### Repaso con el profesor"
   ]
  },
  {
   "cell_type": "code",
   "execution_count": 638,
   "id": "e00fa9cf",
   "metadata": {},
   "outputs": [
    {
     "data": {
      "text/html": [
       "<div>\n",
       "<style scoped>\n",
       "    .dataframe tbody tr th:only-of-type {\n",
       "        vertical-align: middle;\n",
       "    }\n",
       "\n",
       "    .dataframe tbody tr th {\n",
       "        vertical-align: top;\n",
       "    }\n",
       "\n",
       "    .dataframe thead th {\n",
       "        text-align: right;\n",
       "    }\n",
       "</style>\n",
       "<table border=\"1\" class=\"dataframe\">\n",
       "  <thead>\n",
       "    <tr style=\"text-align: right;\">\n",
       "      <th></th>\n",
       "      <th>total_orders</th>\n",
       "      <th>total_reorder</th>\n",
       "    </tr>\n",
       "    <tr>\n",
       "      <th>product_id</th>\n",
       "      <th></th>\n",
       "      <th></th>\n",
       "    </tr>\n",
       "  </thead>\n",
       "  <tbody>\n",
       "    <tr>\n",
       "      <th>1</th>\n",
       "      <td>280</td>\n",
       "      <td>158</td>\n",
       "    </tr>\n",
       "    <tr>\n",
       "      <th>2</th>\n",
       "      <td>11</td>\n",
       "      <td>0</td>\n",
       "    </tr>\n",
       "    <tr>\n",
       "      <th>3</th>\n",
       "      <td>42</td>\n",
       "      <td>31</td>\n",
       "    </tr>\n",
       "    <tr>\n",
       "      <th>4</th>\n",
       "      <td>49</td>\n",
       "      <td>25</td>\n",
       "    </tr>\n",
       "    <tr>\n",
       "      <th>7</th>\n",
       "      <td>2</td>\n",
       "      <td>1</td>\n",
       "    </tr>\n",
       "    <tr>\n",
       "      <th>...</th>\n",
       "      <td>...</td>\n",
       "      <td>...</td>\n",
       "    </tr>\n",
       "    <tr>\n",
       "      <th>49690</th>\n",
       "      <td>5</td>\n",
       "      <td>4</td>\n",
       "    </tr>\n",
       "    <tr>\n",
       "      <th>49691</th>\n",
       "      <td>72</td>\n",
       "      <td>31</td>\n",
       "    </tr>\n",
       "    <tr>\n",
       "      <th>49692</th>\n",
       "      <td>12</td>\n",
       "      <td>5</td>\n",
       "    </tr>\n",
       "    <tr>\n",
       "      <th>49693</th>\n",
       "      <td>25</td>\n",
       "      <td>11</td>\n",
       "    </tr>\n",
       "    <tr>\n",
       "      <th>49694</th>\n",
       "      <td>9</td>\n",
       "      <td>3</td>\n",
       "    </tr>\n",
       "  </tbody>\n",
       "</table>\n",
       "<p>45573 rows × 2 columns</p>\n",
       "</div>"
      ],
      "text/plain": [
       "            total_orders  total_reorder\n",
       "product_id                             \n",
       "1                    280            158\n",
       "2                     11              0\n",
       "3                     42             31\n",
       "4                     49             25\n",
       "7                      2              1\n",
       "...                  ...            ...\n",
       "49690                  5              4\n",
       "49691                 72             31\n",
       "49692                 12              5\n",
       "49693                 25             11\n",
       "49694                  9              3\n",
       "\n",
       "[45573 rows x 2 columns]"
      ]
     },
     "execution_count": 638,
     "metadata": {},
     "output_type": "execute_result"
    }
   ],
   "source": [
    "df_proporcion_reorder = order_products.groupby('product_id').agg(\n",
    "    total_orders = ('order_id','count'),\n",
    "    total_reorder = ('reordered','sum'),\n",
    "    #proporcion = ('reordered', 'mean')\n",
    ")\n",
    "df_proporcion_reorder\n",
    "#recuerda que tienen que ser columnas dentro de el "
   ]
  },
  {
   "cell_type": "code",
   "execution_count": 639,
   "id": "30d18b35",
   "metadata": {},
   "outputs": [
    {
     "data": {
      "text/html": [
       "<div>\n",
       "<style scoped>\n",
       "    .dataframe tbody tr th:only-of-type {\n",
       "        vertical-align: middle;\n",
       "    }\n",
       "\n",
       "    .dataframe tbody tr th {\n",
       "        vertical-align: top;\n",
       "    }\n",
       "\n",
       "    .dataframe thead th {\n",
       "        text-align: right;\n",
       "    }\n",
       "</style>\n",
       "<table border=\"1\" class=\"dataframe\">\n",
       "  <thead>\n",
       "    <tr style=\"text-align: right;\">\n",
       "      <th></th>\n",
       "      <th>total_orders</th>\n",
       "      <th>total_reorder</th>\n",
       "      <th>proporcion</th>\n",
       "    </tr>\n",
       "    <tr>\n",
       "      <th>product_id</th>\n",
       "      <th></th>\n",
       "      <th></th>\n",
       "      <th></th>\n",
       "    </tr>\n",
       "  </thead>\n",
       "  <tbody>\n",
       "    <tr>\n",
       "      <th>1</th>\n",
       "      <td>280</td>\n",
       "      <td>158</td>\n",
       "      <td>0.564286</td>\n",
       "    </tr>\n",
       "    <tr>\n",
       "      <th>2</th>\n",
       "      <td>11</td>\n",
       "      <td>0</td>\n",
       "      <td>0.000000</td>\n",
       "    </tr>\n",
       "    <tr>\n",
       "      <th>3</th>\n",
       "      <td>42</td>\n",
       "      <td>31</td>\n",
       "      <td>0.738095</td>\n",
       "    </tr>\n",
       "    <tr>\n",
       "      <th>4</th>\n",
       "      <td>49</td>\n",
       "      <td>25</td>\n",
       "      <td>0.510204</td>\n",
       "    </tr>\n",
       "    <tr>\n",
       "      <th>7</th>\n",
       "      <td>2</td>\n",
       "      <td>1</td>\n",
       "      <td>0.500000</td>\n",
       "    </tr>\n",
       "    <tr>\n",
       "      <th>...</th>\n",
       "      <td>...</td>\n",
       "      <td>...</td>\n",
       "      <td>...</td>\n",
       "    </tr>\n",
       "    <tr>\n",
       "      <th>49690</th>\n",
       "      <td>5</td>\n",
       "      <td>4</td>\n",
       "      <td>0.800000</td>\n",
       "    </tr>\n",
       "    <tr>\n",
       "      <th>49691</th>\n",
       "      <td>72</td>\n",
       "      <td>31</td>\n",
       "      <td>0.430556</td>\n",
       "    </tr>\n",
       "    <tr>\n",
       "      <th>49692</th>\n",
       "      <td>12</td>\n",
       "      <td>5</td>\n",
       "      <td>0.416667</td>\n",
       "    </tr>\n",
       "    <tr>\n",
       "      <th>49693</th>\n",
       "      <td>25</td>\n",
       "      <td>11</td>\n",
       "      <td>0.440000</td>\n",
       "    </tr>\n",
       "    <tr>\n",
       "      <th>49694</th>\n",
       "      <td>9</td>\n",
       "      <td>3</td>\n",
       "      <td>0.333333</td>\n",
       "    </tr>\n",
       "  </tbody>\n",
       "</table>\n",
       "<p>45573 rows × 3 columns</p>\n",
       "</div>"
      ],
      "text/plain": [
       "            total_orders  total_reorder  proporcion\n",
       "product_id                                         \n",
       "1                    280            158    0.564286\n",
       "2                     11              0    0.000000\n",
       "3                     42             31    0.738095\n",
       "4                     49             25    0.510204\n",
       "7                      2              1    0.500000\n",
       "...                  ...            ...         ...\n",
       "49690                  5              4    0.800000\n",
       "49691                 72             31    0.430556\n",
       "49692                 12              5    0.416667\n",
       "49693                 25             11    0.440000\n",
       "49694                  9              3    0.333333\n",
       "\n",
       "[45573 rows x 3 columns]"
      ]
     },
     "execution_count": 639,
     "metadata": {},
     "output_type": "execute_result"
    }
   ],
   "source": [
    "df_proporcion_reorder['proporcion']= df_proporcion_reorder['total_reorder'] / df_proporcion_reorder['total_orders']\n",
    "df_proporcion_reorder"
   ]
  },
  {
   "cell_type": "markdown",
   "id": "I10dEIAyldcO",
   "metadata": {
    "id": "I10dEIAyldcO"
   },
   "source": [
    "Escribe aquí tus conclusiones\n",
    "hay que recordar que estan en porcentajes esos valores 1 .5642 = 1 56.42%\n"
   ]
  },
  {
   "cell_type": "markdown",
   "id": "subject-boxing",
   "metadata": {
    "id": "subject-boxing"
   },
   "source": [
    "### [C4] Para cada cliente, ¿qué proporción de sus productos ya los había pedido?"
   ]
  },
  {
   "cell_type": "code",
   "execution_count": 640,
   "id": "medical-couple",
   "metadata": {
    "id": "medical-couple",
    "scrolled": true
   },
   "outputs": [],
   "source": [
    "# Contar el número total de productos pedidos por cada usuario\n",
    "total_orders_per_user = order_products.groupby('order_id')['product_id'].count()"
   ]
  },
  {
   "cell_type": "code",
   "execution_count": 641,
   "id": "8892e4b4",
   "metadata": {
    "id": "8892e4b4"
   },
   "outputs": [
    {
     "name": "stdout",
     "output_type": "stream",
     "text": [
      "order_id\n",
      "4      0.923077\n",
      "9      0.666667\n",
      "11     1.000000\n",
      "19     1.000000\n",
      "20     0.000000\n",
      "31     0.900000\n",
      "48     0.250000\n",
      "56     0.700000\n",
      "61     0.916667\n",
      "68     0.666667\n",
      "75     0.000000\n",
      "80     0.857143\n",
      "81     0.818182\n",
      "83     0.357143\n",
      "99     0.285714\n",
      "114    0.000000\n",
      "131    0.777778\n",
      "142    1.000000\n",
      "143    0.600000\n",
      "148    0.714286\n",
      "Name: product_id, dtype: float64\n"
     ]
    }
   ],
   "source": [
    "# Contar el número de productos reordenados por cada usuario\n",
    "reordered_per_user = order_products[order_products['reordered'] == 1].groupby('order_id')['product_id'].count()\n",
    "\n",
    "# Calcular la tasa de repetición por usuario\n",
    "reorder_rate_per_user = (reordered_per_user / total_orders_per_user).fillna(0)\n",
    "#reorder_rate_per_user = reorder_rate_per_user.to_frame().reset_index()\n",
    "reorder_rate_per_user.columns = ['order_id', 'reorder_rate']\n",
    "\n",
    "# Mostrar las tasas de repetición por usuario\n",
    "print(reorder_rate_per_user.head(20))"
   ]
  },
  {
   "cell_type": "markdown",
   "id": "BgJSvXDsleXz",
   "metadata": {
    "id": "BgJSvXDsleXz"
   },
   "source": [
    "Escribe aquí tus conclusiones"
   ]
  },
  {
   "cell_type": "markdown",
   "id": "df089fe0",
   "metadata": {},
   "source": [
    "### Repaso profesor"
   ]
  },
  {
   "cell_type": "code",
   "execution_count": 642,
   "id": "100c3abd",
   "metadata": {},
   "outputs": [
    {
     "data": {
      "text/html": [
       "<div>\n",
       "<style scoped>\n",
       "    .dataframe tbody tr th:only-of-type {\n",
       "        vertical-align: middle;\n",
       "    }\n",
       "\n",
       "    .dataframe tbody tr th {\n",
       "        vertical-align: top;\n",
       "    }\n",
       "\n",
       "    .dataframe thead th {\n",
       "        text-align: right;\n",
       "    }\n",
       "</style>\n",
       "<table border=\"1\" class=\"dataframe\">\n",
       "  <thead>\n",
       "    <tr style=\"text-align: right;\">\n",
       "      <th></th>\n",
       "      <th>order_id</th>\n",
       "      <th>product_id</th>\n",
       "      <th>add_to_cart_order</th>\n",
       "      <th>reordered</th>\n",
       "    </tr>\n",
       "  </thead>\n",
       "  <tbody>\n",
       "    <tr>\n",
       "      <th>0</th>\n",
       "      <td>2141543</td>\n",
       "      <td>11440</td>\n",
       "      <td>17</td>\n",
       "      <td>0</td>\n",
       "    </tr>\n",
       "    <tr>\n",
       "      <th>1</th>\n",
       "      <td>567889</td>\n",
       "      <td>1560</td>\n",
       "      <td>1</td>\n",
       "      <td>1</td>\n",
       "    </tr>\n",
       "    <tr>\n",
       "      <th>2</th>\n",
       "      <td>2261212</td>\n",
       "      <td>26683</td>\n",
       "      <td>1</td>\n",
       "      <td>1</td>\n",
       "    </tr>\n",
       "    <tr>\n",
       "      <th>3</th>\n",
       "      <td>491251</td>\n",
       "      <td>8670</td>\n",
       "      <td>35</td>\n",
       "      <td>1</td>\n",
       "    </tr>\n",
       "    <tr>\n",
       "      <th>4</th>\n",
       "      <td>2571142</td>\n",
       "      <td>1940</td>\n",
       "      <td>5</td>\n",
       "      <td>1</td>\n",
       "    </tr>\n",
       "  </tbody>\n",
       "</table>\n",
       "</div>"
      ],
      "text/plain": [
       "   order_id  product_id  add_to_cart_order  reordered\n",
       "0   2141543       11440                 17          0\n",
       "1    567889        1560                  1          1\n",
       "2   2261212       26683                  1          1\n",
       "3    491251        8670                 35          1\n",
       "4   2571142        1940                  5          1"
      ]
     },
     "execution_count": 642,
     "metadata": {},
     "output_type": "execute_result"
    }
   ],
   "source": [
    "order_products.head()"
   ]
  },
  {
   "cell_type": "code",
   "execution_count": 643,
   "id": "c70da224",
   "metadata": {},
   "outputs": [
    {
     "data": {
      "text/html": [
       "<div>\n",
       "<style scoped>\n",
       "    .dataframe tbody tr th:only-of-type {\n",
       "        vertical-align: middle;\n",
       "    }\n",
       "\n",
       "    .dataframe tbody tr th {\n",
       "        vertical-align: top;\n",
       "    }\n",
       "\n",
       "    .dataframe thead th {\n",
       "        text-align: right;\n",
       "    }\n",
       "</style>\n",
       "<table border=\"1\" class=\"dataframe\">\n",
       "  <thead>\n",
       "    <tr style=\"text-align: right;\">\n",
       "      <th></th>\n",
       "      <th>order_id</th>\n",
       "      <th>user_id</th>\n",
       "      <th>order_number</th>\n",
       "      <th>order_dow</th>\n",
       "      <th>order_hour_of_day</th>\n",
       "      <th>days_since_prior_order</th>\n",
       "    </tr>\n",
       "  </thead>\n",
       "  <tbody>\n",
       "    <tr>\n",
       "      <th>0</th>\n",
       "      <td>1515936</td>\n",
       "      <td>183418</td>\n",
       "      <td>11</td>\n",
       "      <td>6</td>\n",
       "      <td>13</td>\n",
       "      <td>30.0</td>\n",
       "    </tr>\n",
       "    <tr>\n",
       "      <th>1</th>\n",
       "      <td>1690866</td>\n",
       "      <td>163593</td>\n",
       "      <td>5</td>\n",
       "      <td>5</td>\n",
       "      <td>12</td>\n",
       "      <td>9.0</td>\n",
       "    </tr>\n",
       "    <tr>\n",
       "      <th>2</th>\n",
       "      <td>1454967</td>\n",
       "      <td>39980</td>\n",
       "      <td>4</td>\n",
       "      <td>5</td>\n",
       "      <td>19</td>\n",
       "      <td>2.0</td>\n",
       "    </tr>\n",
       "    <tr>\n",
       "      <th>3</th>\n",
       "      <td>1768857</td>\n",
       "      <td>82516</td>\n",
       "      <td>56</td>\n",
       "      <td>0</td>\n",
       "      <td>20</td>\n",
       "      <td>10.0</td>\n",
       "    </tr>\n",
       "    <tr>\n",
       "      <th>4</th>\n",
       "      <td>3007858</td>\n",
       "      <td>196724</td>\n",
       "      <td>2</td>\n",
       "      <td>4</td>\n",
       "      <td>12</td>\n",
       "      <td>17.0</td>\n",
       "    </tr>\n",
       "  </tbody>\n",
       "</table>\n",
       "</div>"
      ],
      "text/plain": [
       "   order_id  user_id  order_number  order_dow  order_hour_of_day  \\\n",
       "0   1515936   183418            11          6                 13   \n",
       "1   1690866   163593             5          5                 12   \n",
       "2   1454967    39980             4          5                 19   \n",
       "3   1768857    82516            56          0                 20   \n",
       "4   3007858   196724             2          4                 12   \n",
       "\n",
       "   days_since_prior_order  \n",
       "0                    30.0  \n",
       "1                     9.0  \n",
       "2                     2.0  \n",
       "3                    10.0  \n",
       "4                    17.0  "
      ]
     },
     "execution_count": 643,
     "metadata": {},
     "output_type": "execute_result"
    }
   ],
   "source": [
    "instacart.head()"
   ]
  },
  {
   "cell_type": "code",
   "execution_count": 644,
   "id": "ec35bedd",
   "metadata": {},
   "outputs": [
    {
     "data": {
      "text/plain": [
       "user_id\n",
       "2         0.038462\n",
       "4         0.000000\n",
       "5         0.666667\n",
       "6         0.000000\n",
       "7         0.928571\n",
       "            ...   \n",
       "206203    0.222222\n",
       "206206    0.714286\n",
       "206207    0.891304\n",
       "206208    0.696000\n",
       "206209    0.320000\n",
       "Name: reordered, Length: 149626, dtype: float64"
      ]
     },
     "execution_count": 644,
     "metadata": {},
     "output_type": "execute_result"
    }
   ],
   "source": [
    "df_proporcion_clientes = order_products.merge(instacart, on='order_id')\n",
    "df_proporcion_clientes.groupby('user_id')['reordered'].mean()"
   ]
  },
  {
   "cell_type": "markdown",
   "id": "92d35137",
   "metadata": {
    "id": "92d35137"
   },
   "source": [
    "### [C5] ¿Cuáles son los 20 principales artículos que las personas ponen primero en sus carritos?"
   ]
  },
  {
   "cell_type": "code",
   "execution_count": 645,
   "id": "0ae57274",
   "metadata": {
    "id": "0ae57274",
    "scrolled": true
   },
   "outputs": [],
   "source": [
    "# Filtrar los productos que fueron el primer artículo en el carrito\n",
    "first_item_products = order_products[order_products['add_to_cart_order'] == 1]['product_id'].value_counts().head(20)"
   ]
  },
  {
   "cell_type": "code",
   "execution_count": 646,
   "id": "forty-netherlands",
   "metadata": {
    "id": "forty-netherlands",
    "scrolled": true
   },
   "outputs": [],
   "source": [
    "# Obtener los nombres de los productos a partir del DataFrame 'products'\n",
    "first_item_products = first_item_products.to_frame().reset_index()\n",
    "first_item_products.columns = ['product_id', 'count']\n",
    "first_item_products = first_item_products.merge(products[['product_id', 'product_name']], on='product_id')"
   ]
  },
  {
   "cell_type": "code",
   "execution_count": 647,
   "id": "08e41ec2",
   "metadata": {
    "id": "08e41ec2",
    "scrolled": true
   },
   "outputs": [
    {
     "name": "stdout",
     "output_type": "stream",
     "text": [
      "    product_id  count                 product_name\n",
      "0        24852  15562                       Banana\n",
      "1        13176  11026       Bag of Organic Bananas\n",
      "2        27845   4363           Organic Whole Milk\n",
      "3        21137   3946         Organic Strawberries\n",
      "4        47209   3390         Organic Hass Avocado\n",
      "5        21903   3336         Organic Baby Spinach\n",
      "6        47766   3044              Organic Avocado\n",
      "7        19660   2336                 Spring Water\n",
      "8        16797   2308                 Strawberries\n",
      "9        27966   2024          Organic Raspberries\n",
      "10       44632   1914   Sparkling Water Grapefruit\n",
      "11       49235   1797          Organic Half & Half\n",
      "12       47626   1737                  Large Lemon\n",
      "13         196   1733                         Soda\n",
      "14       38689   1397     Organic Reduced Fat Milk\n",
      "15       26209   1370                        Limes\n",
      "16       12341   1340                Hass Avocados\n",
      "17        5785   1310  Organic Reduced Fat 2% Milk\n",
      "18       27086   1309                  Half & Half\n",
      "19       43352   1246                  Raspberries\n"
     ]
    }
   ],
   "source": [
    "print(first_item_products)"
   ]
  },
  {
   "cell_type": "markdown",
   "id": "72beb2af",
   "metadata": {},
   "source": [
    "### Repaso con profesor"
   ]
  },
  {
   "cell_type": "code",
   "execution_count": 648,
   "id": "122d9c80",
   "metadata": {},
   "outputs": [],
   "source": [
    "df_primer_product=info_products[info_products['add_to_cart_order'] == 1]"
   ]
  },
  {
   "cell_type": "code",
   "execution_count": 649,
   "id": "05f68803",
   "metadata": {},
   "outputs": [
    {
     "data": {
      "text/plain": [
       "product_id  product_name               \n",
       "24852       Banana                         15562\n",
       "13176       Bag of Organic Bananas         11026\n",
       "27845       Organic Whole Milk              4363\n",
       "21137       Organic Strawberries            3946\n",
       "47209       Organic Hass Avocado            3390\n",
       "21903       Organic Baby Spinach            3336\n",
       "47766       Organic Avocado                 3044\n",
       "19660       Spring Water                    2336\n",
       "16797       Strawberries                    2308\n",
       "27966       Organic Raspberries             2024\n",
       "44632       Sparkling Water Grapefruit      1914\n",
       "49235       Organic Half & Half             1797\n",
       "47626       Large Lemon                     1737\n",
       "196         Soda                            1733\n",
       "38689       Organic Reduced Fat Milk        1397\n",
       "26209       Limes                           1370\n",
       "12341       Hass Avocados                   1340\n",
       "5785        Organic Reduced Fat 2% Milk     1310\n",
       "27086       Half & Half                     1309\n",
       "22935       Organic Yellow Onion            1246\n",
       "Name: order_id, dtype: int64"
      ]
     },
     "execution_count": 649,
     "metadata": {},
     "output_type": "execute_result"
    }
   ],
   "source": [
    "df_primer_product.groupby(['product_id','product_name'])['order_id'].count().sort_values(ascending=False).head(20)"
   ]
  },
  {
   "cell_type": "markdown",
   "id": "7e12e376",
   "metadata": {},
   "source": [
    "<div class=\"alert alert-block alert-success\">\n",
    "<b>Éxito</b> <a class=\"tocSkip\"></a>\n",
    "Te has enfrentado a tareas más complejas y las has manejado bien. Calculaste con precisión el número típico de artículos por pedido y analizaste la distribución resultante, lo cual es crucial para entender el comportamiento de los clientes en la plataforma. También identificaste los 20 artículos más reordenados, utilizando correctamente la técnica de filtrado y combinación de DataFrames. Finalmente, calculaste la proporción de reorden tanto por producto como por cliente, lo que proporciona una visión profunda de la lealtad del cliente y las preferencias de compra. ¡Has hecho un trabajo excelente en esta sección difícil del proyecto!\n",
    "</div>"
   ]
  },
  {
   "cell_type": "markdown",
   "id": "28ce9872",
   "metadata": {
    "id": "28ce9872"
   },
   "source": [
    "Escribe aquí tus conclusiones"
   ]
  },
  {
   "cell_type": "markdown",
   "id": "uITbFCEoDosC",
   "metadata": {
    "id": "uITbFCEoDosC"
   },
   "source": [
    "### Conclusion general del proyecto:"
   ]
  },
  {
   "cell_type": "markdown",
   "id": "8e58a03b",
   "metadata": {
    "id": "Nk-4GS7mDwqY"
   },
   "source": [
    "La gente esta teniendo una tendencia a pedir cosas mas saludables para poder comer "
   ]
  },
  {
   "cell_type": "markdown",
   "id": "16a1c752",
   "metadata": {},
   "source": [
    "<div class=\"alert alert-block alert-warning\">\n",
    "<b>Atención</b> <a class=\"tocSkip\"></a>\n",
    "César, has hecho un excelente trabajo en el análisis de datos, pero te sugiero que en las conclusiones vayas un paso más allá al conectar los insights obtenidos con posibles aplicaciones prácticas o decisiones estratégicas. Por ejemplo, podrías discutir cómo los patrones de compra identificados pueden influir en la planificación del inventario, o cómo el conocimiento de los productos más reordenados podría ayudar a personalizar las ofertas para los clientes. Este enfoque hará que tus conclusiones sean aún más impactantes y relevantes para un contexto de negocios. ¡Sigue adelante, estás haciendo un gran trabajo!\n",
    "</div>"
   ]
  },
  {
   "cell_type": "code",
   "execution_count": null,
   "id": "8d14a5d9",
   "metadata": {},
   "outputs": [],
   "source": []
  }
 ],
 "metadata": {
  "ExecuteTimeLog": [
   {
    "duration": 4233,
    "start_time": "2024-08-10T01:40:00.875Z"
   },
   {
    "duration": 446,
    "start_time": "2024-08-10T01:49:37.398Z"
   },
   {
    "duration": 33,
    "start_time": "2024-08-10T01:49:59.125Z"
   },
   {
    "duration": 369,
    "start_time": "2024-08-10T01:51:06.988Z"
   },
   {
    "duration": 23,
    "start_time": "2024-08-10T01:51:42.659Z"
   },
   {
    "duration": 27,
    "start_time": "2024-08-10T01:52:11.307Z"
   },
   {
    "duration": 22,
    "start_time": "2024-08-10T01:52:23.459Z"
   },
   {
    "duration": 195,
    "start_time": "2024-08-10T01:54:38.255Z"
   },
   {
    "duration": 16,
    "start_time": "2024-08-10T01:54:42.321Z"
   },
   {
    "duration": 22,
    "start_time": "2024-08-10T01:58:08.638Z"
   },
   {
    "duration": 3560,
    "start_time": "2024-08-10T02:01:54.100Z"
   },
   {
    "duration": 15,
    "start_time": "2024-08-10T02:02:00.588Z"
   },
   {
    "duration": 22,
    "start_time": "2024-08-10T02:02:18.299Z"
   },
   {
    "duration": 3520,
    "start_time": "2024-08-10T02:02:40.243Z"
   },
   {
    "duration": 16,
    "start_time": "2024-08-10T02:02:50.276Z"
   },
   {
    "duration": 21,
    "start_time": "2024-08-10T02:02:53.204Z"
   },
   {
    "duration": 12,
    "start_time": "2024-08-10T02:03:07.180Z"
   },
   {
    "duration": 11,
    "start_time": "2024-08-10T02:03:09.668Z"
   },
   {
    "duration": 1510,
    "start_time": "2024-08-10T02:03:32.724Z"
   },
   {
    "duration": 11,
    "start_time": "2024-08-10T02:03:36.541Z"
   },
   {
    "duration": 13,
    "start_time": "2024-08-10T02:03:38.964Z"
   },
   {
    "duration": 14,
    "start_time": "2024-08-10T02:04:23.042Z"
   },
   {
    "duration": 37,
    "start_time": "2024-08-10T02:15:37.192Z"
   },
   {
    "duration": 36,
    "start_time": "2024-08-10T02:15:49.350Z"
   },
   {
    "duration": 4297,
    "start_time": "2024-08-10T14:03:06.602Z"
   },
   {
    "duration": 1725,
    "start_time": "2024-08-10T14:03:12.996Z"
   },
   {
    "duration": 17,
    "start_time": "2024-08-10T14:03:15.869Z"
   },
   {
    "duration": 21,
    "start_time": "2024-08-10T14:03:17.957Z"
   },
   {
    "duration": 39,
    "start_time": "2024-08-10T14:03:19.616Z"
   },
   {
    "duration": 13,
    "start_time": "2024-08-10T14:03:21.879Z"
   },
   {
    "duration": 14,
    "start_time": "2024-08-10T14:03:23.565Z"
   },
   {
    "duration": 393,
    "start_time": "2024-08-10T14:17:41.483Z"
   },
   {
    "duration": 6,
    "start_time": "2024-08-10T14:18:28.647Z"
   },
   {
    "duration": 5,
    "start_time": "2024-08-10T14:18:37.931Z"
   },
   {
    "duration": 684,
    "start_time": "2024-08-10T14:21:05.285Z"
   },
   {
    "duration": 1562,
    "start_time": "2024-08-10T14:21:05.973Z"
   },
   {
    "duration": 18,
    "start_time": "2024-08-10T14:21:07.538Z"
   },
   {
    "duration": 16,
    "start_time": "2024-08-10T14:21:07.559Z"
   },
   {
    "duration": 62,
    "start_time": "2024-08-10T14:21:07.580Z"
   },
   {
    "duration": 14,
    "start_time": "2024-08-10T14:21:07.645Z"
   },
   {
    "duration": 50,
    "start_time": "2024-08-10T14:21:07.662Z"
   },
   {
    "duration": 6,
    "start_time": "2024-08-10T14:21:07.715Z"
   },
   {
    "duration": 4,
    "start_time": "2024-08-10T14:21:07.725Z"
   },
   {
    "duration": 3,
    "start_time": "2024-08-10T14:21:07.732Z"
   },
   {
    "duration": 4,
    "start_time": "2024-08-10T14:21:07.738Z"
   },
   {
    "duration": 3,
    "start_time": "2024-08-10T14:21:07.747Z"
   },
   {
    "duration": 54,
    "start_time": "2024-08-10T14:21:07.753Z"
   },
   {
    "duration": 3,
    "start_time": "2024-08-10T14:21:07.816Z"
   },
   {
    "duration": 4,
    "start_time": "2024-08-10T14:21:07.822Z"
   },
   {
    "duration": 3,
    "start_time": "2024-08-10T14:21:07.829Z"
   },
   {
    "duration": 3,
    "start_time": "2024-08-10T14:21:07.836Z"
   },
   {
    "duration": 4,
    "start_time": "2024-08-10T14:21:07.843Z"
   },
   {
    "duration": 3,
    "start_time": "2024-08-10T14:21:07.850Z"
   },
   {
    "duration": 3,
    "start_time": "2024-08-10T14:21:07.908Z"
   },
   {
    "duration": 7,
    "start_time": "2024-08-10T14:21:07.915Z"
   },
   {
    "duration": 8,
    "start_time": "2024-08-10T14:21:07.925Z"
   },
   {
    "duration": 3,
    "start_time": "2024-08-10T14:21:07.937Z"
   },
   {
    "duration": 3,
    "start_time": "2024-08-10T14:21:07.945Z"
   },
   {
    "duration": 4,
    "start_time": "2024-08-10T14:21:07.952Z"
   },
   {
    "duration": 6,
    "start_time": "2024-08-10T14:21:08.006Z"
   },
   {
    "duration": 4,
    "start_time": "2024-08-10T14:21:08.016Z"
   },
   {
    "duration": 3,
    "start_time": "2024-08-10T14:21:08.024Z"
   },
   {
    "duration": 3,
    "start_time": "2024-08-10T14:21:08.031Z"
   },
   {
    "duration": 4,
    "start_time": "2024-08-10T14:21:08.038Z"
   },
   {
    "duration": 4,
    "start_time": "2024-08-10T14:21:08.045Z"
   },
   {
    "duration": 53,
    "start_time": "2024-08-10T14:21:08.053Z"
   },
   {
    "duration": 5,
    "start_time": "2024-08-10T14:21:08.113Z"
   },
   {
    "duration": 3,
    "start_time": "2024-08-10T14:21:08.122Z"
   },
   {
    "duration": 5,
    "start_time": "2024-08-10T14:21:08.128Z"
   },
   {
    "duration": 43,
    "start_time": "2024-08-10T14:32:50.651Z"
   },
   {
    "duration": 42,
    "start_time": "2024-08-10T14:33:03.499Z"
   },
   {
    "duration": 37,
    "start_time": "2024-08-10T14:33:45.227Z"
   },
   {
    "duration": 42,
    "start_time": "2024-08-10T14:33:53.487Z"
   },
   {
    "duration": 328,
    "start_time": "2024-08-10T14:35:15.898Z"
   },
   {
    "duration": 322,
    "start_time": "2024-08-10T14:36:25.186Z"
   },
   {
    "duration": 357,
    "start_time": "2024-08-10T14:37:25.857Z"
   },
   {
    "duration": 328,
    "start_time": "2024-08-10T14:37:58.128Z"
   },
   {
    "duration": 322,
    "start_time": "2024-08-10T14:38:35.100Z"
   },
   {
    "duration": 320,
    "start_time": "2024-08-10T14:38:56.015Z"
   },
   {
    "duration": 803,
    "start_time": "2024-08-10T14:43:11.772Z"
   },
   {
    "duration": 19,
    "start_time": "2024-08-10T14:57:36.212Z"
   },
   {
    "duration": 24,
    "start_time": "2024-08-10T14:59:05.810Z"
   },
   {
    "duration": 304,
    "start_time": "2024-08-10T15:47:20.962Z"
   },
   {
    "duration": 4256,
    "start_time": "2024-08-10T15:47:29.842Z"
   },
   {
    "duration": 1678,
    "start_time": "2024-08-10T15:47:34.102Z"
   },
   {
    "duration": 27,
    "start_time": "2024-08-10T15:47:35.783Z"
   },
   {
    "duration": 28,
    "start_time": "2024-08-10T15:47:35.814Z"
   },
   {
    "duration": 13,
    "start_time": "2024-08-10T15:47:35.845Z"
   },
   {
    "duration": 17,
    "start_time": "2024-08-10T15:47:35.861Z"
   },
   {
    "duration": 54,
    "start_time": "2024-08-10T15:47:35.882Z"
   },
   {
    "duration": 9,
    "start_time": "2024-08-10T15:47:35.940Z"
   },
   {
    "duration": 4,
    "start_time": "2024-08-10T15:47:35.952Z"
   },
   {
    "duration": 4,
    "start_time": "2024-08-10T15:47:35.964Z"
   },
   {
    "duration": 10,
    "start_time": "2024-08-10T15:47:35.971Z"
   },
   {
    "duration": 10,
    "start_time": "2024-08-10T15:47:35.984Z"
   },
   {
    "duration": 3,
    "start_time": "2024-08-10T15:47:36.034Z"
   },
   {
    "duration": 5,
    "start_time": "2024-08-10T15:47:36.043Z"
   },
   {
    "duration": 5,
    "start_time": "2024-08-10T15:47:36.051Z"
   },
   {
    "duration": 3,
    "start_time": "2024-08-10T15:47:36.060Z"
   },
   {
    "duration": 4,
    "start_time": "2024-08-10T15:47:36.065Z"
   },
   {
    "duration": 3,
    "start_time": "2024-08-10T15:47:36.073Z"
   },
   {
    "duration": 4,
    "start_time": "2024-08-10T15:47:36.079Z"
   },
   {
    "duration": 5,
    "start_time": "2024-08-10T15:47:36.134Z"
   },
   {
    "duration": 11,
    "start_time": "2024-08-10T15:47:36.144Z"
   },
   {
    "duration": 4,
    "start_time": "2024-08-10T15:47:36.157Z"
   },
   {
    "duration": 4,
    "start_time": "2024-08-10T15:47:36.164Z"
   },
   {
    "duration": 4,
    "start_time": "2024-08-10T15:47:36.171Z"
   },
   {
    "duration": 4,
    "start_time": "2024-08-10T15:47:36.178Z"
   },
   {
    "duration": 4,
    "start_time": "2024-08-10T15:47:36.233Z"
   },
   {
    "duration": 4,
    "start_time": "2024-08-10T15:47:36.241Z"
   },
   {
    "duration": 3,
    "start_time": "2024-08-10T15:47:36.255Z"
   },
   {
    "duration": 3,
    "start_time": "2024-08-10T15:47:36.263Z"
   },
   {
    "duration": 4,
    "start_time": "2024-08-10T15:47:36.269Z"
   },
   {
    "duration": 3,
    "start_time": "2024-08-10T15:47:36.277Z"
   },
   {
    "duration": 4,
    "start_time": "2024-08-10T15:47:36.334Z"
   },
   {
    "duration": 5,
    "start_time": "2024-08-10T15:47:36.341Z"
   },
   {
    "duration": 4,
    "start_time": "2024-08-10T15:47:36.350Z"
   },
   {
    "duration": 3,
    "start_time": "2024-08-10T15:47:36.357Z"
   },
   {
    "duration": 18,
    "start_time": "2024-08-10T15:47:43.832Z"
   },
   {
    "duration": 8,
    "start_time": "2024-08-10T15:51:05.404Z"
   },
   {
    "duration": 339,
    "start_time": "2024-08-10T15:51:28.579Z"
   },
   {
    "duration": 12,
    "start_time": "2024-08-10T15:51:36.796Z"
   },
   {
    "duration": 12,
    "start_time": "2024-08-10T15:52:44.226Z"
   },
   {
    "duration": 36,
    "start_time": "2024-08-10T16:04:37.066Z"
   },
   {
    "duration": 11,
    "start_time": "2024-08-10T16:08:38.437Z"
   },
   {
    "duration": 29,
    "start_time": "2024-08-10T16:08:55.826Z"
   },
   {
    "duration": 22,
    "start_time": "2024-08-10T16:16:49.133Z"
   },
   {
    "duration": 22,
    "start_time": "2024-08-10T16:17:34.611Z"
   },
   {
    "duration": 24,
    "start_time": "2024-08-10T16:17:56.175Z"
   },
   {
    "duration": 21,
    "start_time": "2024-08-10T16:19:16.261Z"
   },
   {
    "duration": 30,
    "start_time": "2024-08-10T16:20:49.068Z"
   },
   {
    "duration": 13,
    "start_time": "2024-08-10T16:22:39.682Z"
   },
   {
    "duration": 26,
    "start_time": "2024-08-10T16:29:04.360Z"
   },
   {
    "duration": 3519,
    "start_time": "2024-08-10T16:30:47.917Z"
   },
   {
    "duration": 3465,
    "start_time": "2024-08-10T16:31:40.770Z"
   },
   {
    "duration": 27,
    "start_time": "2024-08-10T16:32:34.549Z"
   },
   {
    "duration": 13,
    "start_time": "2024-08-10T16:33:30.279Z"
   },
   {
    "duration": 97,
    "start_time": "2024-08-10T16:37:13.187Z"
   },
   {
    "duration": 93,
    "start_time": "2024-08-10T16:56:09.120Z"
   },
   {
    "duration": 21,
    "start_time": "2024-08-10T16:57:14.663Z"
   },
   {
    "duration": 95,
    "start_time": "2024-08-10T16:57:20.400Z"
   },
   {
    "duration": 7,
    "start_time": "2024-08-10T16:57:24.936Z"
   },
   {
    "duration": 94,
    "start_time": "2024-08-10T16:57:48.718Z"
   },
   {
    "duration": 96,
    "start_time": "2024-08-10T16:58:28.038Z"
   },
   {
    "duration": 22,
    "start_time": "2024-08-10T16:58:49.418Z"
   },
   {
    "duration": 162,
    "start_time": "2024-08-10T16:59:50.589Z"
   },
   {
    "duration": 93,
    "start_time": "2024-08-10T17:00:03.823Z"
   },
   {
    "duration": 54,
    "start_time": "2024-08-10T17:00:52.397Z"
   },
   {
    "duration": 97,
    "start_time": "2024-08-10T17:01:08.932Z"
   },
   {
    "duration": 649,
    "start_time": "2024-08-10T17:31:38.171Z"
   },
   {
    "duration": 1561,
    "start_time": "2024-08-10T17:31:38.824Z"
   },
   {
    "duration": 18,
    "start_time": "2024-08-10T17:31:40.388Z"
   },
   {
    "duration": 28,
    "start_time": "2024-08-10T17:31:40.410Z"
   },
   {
    "duration": 12,
    "start_time": "2024-08-10T17:31:40.441Z"
   },
   {
    "duration": 14,
    "start_time": "2024-08-10T17:31:40.457Z"
   },
   {
    "duration": 13,
    "start_time": "2024-08-10T17:31:40.474Z"
   },
   {
    "duration": 72,
    "start_time": "2024-08-10T17:31:40.490Z"
   },
   {
    "duration": 25,
    "start_time": "2024-08-10T17:31:40.564Z"
   },
   {
    "duration": 123,
    "start_time": "2024-08-10T17:31:40.595Z"
   },
   {
    "duration": 14,
    "start_time": "2024-08-10T17:31:40.721Z"
   },
   {
    "duration": 3,
    "start_time": "2024-08-10T17:31:40.738Z"
   },
   {
    "duration": 3,
    "start_time": "2024-08-10T17:31:40.745Z"
   },
   {
    "duration": 4,
    "start_time": "2024-08-10T17:31:40.752Z"
   },
   {
    "duration": 5,
    "start_time": "2024-08-10T17:31:40.761Z"
   },
   {
    "duration": 4,
    "start_time": "2024-08-10T17:31:40.769Z"
   },
   {
    "duration": 4,
    "start_time": "2024-08-10T17:31:40.776Z"
   },
   {
    "duration": 51,
    "start_time": "2024-08-10T17:31:40.783Z"
   },
   {
    "duration": 4,
    "start_time": "2024-08-10T17:31:40.837Z"
   },
   {
    "duration": 3,
    "start_time": "2024-08-10T17:31:40.844Z"
   },
   {
    "duration": 3,
    "start_time": "2024-08-10T17:31:40.851Z"
   },
   {
    "duration": 3,
    "start_time": "2024-08-10T17:31:40.858Z"
   },
   {
    "duration": 4,
    "start_time": "2024-08-10T17:31:40.864Z"
   },
   {
    "duration": 3,
    "start_time": "2024-08-10T17:31:40.871Z"
   },
   {
    "duration": 59,
    "start_time": "2024-08-10T17:31:40.877Z"
   },
   {
    "duration": 3,
    "start_time": "2024-08-10T17:31:40.939Z"
   },
   {
    "duration": 4,
    "start_time": "2024-08-10T17:31:40.945Z"
   },
   {
    "duration": 3,
    "start_time": "2024-08-10T17:31:40.956Z"
   },
   {
    "duration": 3,
    "start_time": "2024-08-10T17:31:40.963Z"
   },
   {
    "duration": 3,
    "start_time": "2024-08-10T17:31:40.970Z"
   },
   {
    "duration": 3,
    "start_time": "2024-08-10T17:31:40.977Z"
   },
   {
    "duration": 4,
    "start_time": "2024-08-10T17:31:41.034Z"
   },
   {
    "duration": 4,
    "start_time": "2024-08-10T17:31:41.041Z"
   },
   {
    "duration": 3,
    "start_time": "2024-08-10T17:31:41.049Z"
   },
   {
    "duration": 4,
    "start_time": "2024-08-10T17:31:41.056Z"
   },
   {
    "duration": 3,
    "start_time": "2024-08-10T17:31:41.064Z"
   },
   {
    "duration": 4,
    "start_time": "2024-08-10T17:31:41.070Z"
   },
   {
    "duration": 157,
    "start_time": "2024-08-10T17:34:05.591Z"
   },
   {
    "duration": 286,
    "start_time": "2024-08-10T17:35:40.420Z"
   },
   {
    "duration": 1530,
    "start_time": "2024-08-10T17:36:20.967Z"
   },
   {
    "duration": 152,
    "start_time": "2024-08-10T17:36:56.868Z"
   },
   {
    "duration": 176,
    "start_time": "2024-08-10T17:40:06.728Z"
   },
   {
    "duration": 304,
    "start_time": "2024-08-10T17:40:13.696Z"
   },
   {
    "duration": 4279,
    "start_time": "2024-08-10T18:27:42.828Z"
   },
   {
    "duration": 1700,
    "start_time": "2024-08-10T18:27:47.111Z"
   },
   {
    "duration": 22,
    "start_time": "2024-08-10T18:27:48.814Z"
   },
   {
    "duration": 17,
    "start_time": "2024-08-10T18:27:48.840Z"
   },
   {
    "duration": 13,
    "start_time": "2024-08-10T18:27:48.859Z"
   },
   {
    "duration": 13,
    "start_time": "2024-08-10T18:27:48.875Z"
   },
   {
    "duration": 51,
    "start_time": "2024-08-10T18:27:48.890Z"
   },
   {
    "duration": 28,
    "start_time": "2024-08-10T18:27:48.944Z"
   },
   {
    "duration": 57,
    "start_time": "2024-08-10T18:27:48.975Z"
   },
   {
    "duration": 110,
    "start_time": "2024-08-10T18:27:49.039Z"
   },
   {
    "duration": 329,
    "start_time": "2024-08-10T18:27:49.152Z"
   },
   {
    "duration": 407,
    "start_time": "2024-08-10T18:27:49.485Z"
   },
   {
    "duration": 0,
    "start_time": "2024-08-10T18:27:49.896Z"
   },
   {
    "duration": 0,
    "start_time": "2024-08-10T18:27:49.898Z"
   },
   {
    "duration": 0,
    "start_time": "2024-08-10T18:27:49.901Z"
   },
   {
    "duration": 0,
    "start_time": "2024-08-10T18:27:49.903Z"
   },
   {
    "duration": 0,
    "start_time": "2024-08-10T18:27:49.905Z"
   },
   {
    "duration": 0,
    "start_time": "2024-08-10T18:27:49.907Z"
   },
   {
    "duration": 0,
    "start_time": "2024-08-10T18:27:49.931Z"
   },
   {
    "duration": 0,
    "start_time": "2024-08-10T18:27:49.933Z"
   },
   {
    "duration": 0,
    "start_time": "2024-08-10T18:27:49.935Z"
   },
   {
    "duration": 0,
    "start_time": "2024-08-10T18:27:49.937Z"
   },
   {
    "duration": 0,
    "start_time": "2024-08-10T18:27:49.939Z"
   },
   {
    "duration": 0,
    "start_time": "2024-08-10T18:27:49.942Z"
   },
   {
    "duration": 0,
    "start_time": "2024-08-10T18:27:49.944Z"
   },
   {
    "duration": 0,
    "start_time": "2024-08-10T18:27:49.946Z"
   },
   {
    "duration": 0,
    "start_time": "2024-08-10T18:27:49.948Z"
   },
   {
    "duration": 0,
    "start_time": "2024-08-10T18:27:49.950Z"
   },
   {
    "duration": 0,
    "start_time": "2024-08-10T18:27:49.952Z"
   },
   {
    "duration": 0,
    "start_time": "2024-08-10T18:27:49.955Z"
   },
   {
    "duration": 0,
    "start_time": "2024-08-10T18:27:49.957Z"
   },
   {
    "duration": 0,
    "start_time": "2024-08-10T18:27:49.960Z"
   },
   {
    "duration": 0,
    "start_time": "2024-08-10T18:27:49.962Z"
   },
   {
    "duration": 0,
    "start_time": "2024-08-10T18:27:49.965Z"
   },
   {
    "duration": 0,
    "start_time": "2024-08-10T18:27:49.967Z"
   },
   {
    "duration": 0,
    "start_time": "2024-08-10T18:27:49.969Z"
   },
   {
    "duration": 0,
    "start_time": "2024-08-10T18:27:50.033Z"
   },
   {
    "duration": 0,
    "start_time": "2024-08-10T18:27:50.036Z"
   },
   {
    "duration": 22,
    "start_time": "2024-08-10T18:28:20.042Z"
   },
   {
    "duration": 584,
    "start_time": "2024-08-10T18:28:33.748Z"
   },
   {
    "duration": 12,
    "start_time": "2024-08-10T18:31:06.827Z"
   },
   {
    "duration": 29,
    "start_time": "2024-08-10T18:38:22.549Z"
   },
   {
    "duration": 80,
    "start_time": "2024-08-10T18:38:41.891Z"
   },
   {
    "duration": 11,
    "start_time": "2024-08-10T18:39:04.560Z"
   },
   {
    "duration": 13,
    "start_time": "2024-08-10T18:41:13.234Z"
   },
   {
    "duration": 166,
    "start_time": "2024-08-10T18:41:27.836Z"
   },
   {
    "duration": 117,
    "start_time": "2024-08-10T18:42:11.489Z"
   },
   {
    "duration": 168,
    "start_time": "2024-08-10T18:43:31.691Z"
   },
   {
    "duration": 333,
    "start_time": "2024-08-10T18:47:06.119Z"
   },
   {
    "duration": 386,
    "start_time": "2024-08-10T18:47:24.903Z"
   },
   {
    "duration": 328,
    "start_time": "2024-08-10T18:47:40.151Z"
   },
   {
    "duration": 335,
    "start_time": "2024-08-10T18:47:50.600Z"
   },
   {
    "duration": 312,
    "start_time": "2024-08-10T18:48:18.544Z"
   },
   {
    "duration": 315,
    "start_time": "2024-08-10T18:48:39.519Z"
   },
   {
    "duration": 306,
    "start_time": "2024-08-10T18:49:37.352Z"
   },
   {
    "duration": 317,
    "start_time": "2024-08-10T18:49:53.021Z"
   },
   {
    "duration": 164,
    "start_time": "2024-08-10T18:56:18.810Z"
   },
   {
    "duration": 310,
    "start_time": "2024-08-10T18:56:26.922Z"
   },
   {
    "duration": 320,
    "start_time": "2024-08-10T18:56:57.458Z"
   },
   {
    "duration": 19,
    "start_time": "2024-08-10T18:57:50.713Z"
   },
   {
    "duration": 368,
    "start_time": "2024-08-10T18:57:58.809Z"
   },
   {
    "duration": 309,
    "start_time": "2024-08-10T18:59:57.145Z"
   },
   {
    "duration": 4506,
    "start_time": "2024-08-11T02:35:54.159Z"
   },
   {
    "duration": 1704,
    "start_time": "2024-08-11T02:35:58.670Z"
   },
   {
    "duration": 26,
    "start_time": "2024-08-11T02:36:00.376Z"
   },
   {
    "duration": 18,
    "start_time": "2024-08-11T02:36:00.405Z"
   },
   {
    "duration": 13,
    "start_time": "2024-08-11T02:36:00.427Z"
   },
   {
    "duration": 15,
    "start_time": "2024-08-11T02:36:00.443Z"
   },
   {
    "duration": 13,
    "start_time": "2024-08-11T02:36:00.503Z"
   },
   {
    "duration": 37,
    "start_time": "2024-08-11T02:36:00.520Z"
   },
   {
    "duration": 54,
    "start_time": "2024-08-11T02:36:00.561Z"
   },
   {
    "duration": 111,
    "start_time": "2024-08-11T02:36:00.619Z"
   },
   {
    "duration": 368,
    "start_time": "2024-08-11T02:36:00.733Z"
   },
   {
    "duration": 4,
    "start_time": "2024-08-11T02:36:01.104Z"
   },
   {
    "duration": 4,
    "start_time": "2024-08-11T02:36:01.111Z"
   },
   {
    "duration": 3,
    "start_time": "2024-08-11T02:36:01.122Z"
   },
   {
    "duration": 3,
    "start_time": "2024-08-11T02:36:01.130Z"
   },
   {
    "duration": 4,
    "start_time": "2024-08-11T02:36:01.137Z"
   },
   {
    "duration": 5,
    "start_time": "2024-08-11T02:36:01.144Z"
   },
   {
    "duration": 4,
    "start_time": "2024-08-11T02:36:01.203Z"
   },
   {
    "duration": 4,
    "start_time": "2024-08-11T02:36:01.211Z"
   },
   {
    "duration": 3,
    "start_time": "2024-08-11T02:36:01.218Z"
   },
   {
    "duration": 3,
    "start_time": "2024-08-11T02:36:01.225Z"
   },
   {
    "duration": 5,
    "start_time": "2024-08-11T02:36:01.231Z"
   },
   {
    "duration": 3,
    "start_time": "2024-08-11T02:36:01.240Z"
   },
   {
    "duration": 4,
    "start_time": "2024-08-11T02:36:01.301Z"
   },
   {
    "duration": 4,
    "start_time": "2024-08-11T02:36:01.308Z"
   },
   {
    "duration": 3,
    "start_time": "2024-08-11T02:36:01.315Z"
   },
   {
    "duration": 3,
    "start_time": "2024-08-11T02:36:01.322Z"
   },
   {
    "duration": 4,
    "start_time": "2024-08-11T02:36:01.328Z"
   },
   {
    "duration": 4,
    "start_time": "2024-08-11T02:36:01.336Z"
   },
   {
    "duration": 58,
    "start_time": "2024-08-11T02:36:01.344Z"
   },
   {
    "duration": 3,
    "start_time": "2024-08-11T02:36:01.406Z"
   },
   {
    "duration": 4,
    "start_time": "2024-08-11T02:36:01.413Z"
   },
   {
    "duration": 4,
    "start_time": "2024-08-11T02:36:01.420Z"
   },
   {
    "duration": 4,
    "start_time": "2024-08-11T02:36:01.428Z"
   },
   {
    "duration": 4,
    "start_time": "2024-08-11T02:36:01.435Z"
   },
   {
    "duration": 59,
    "start_time": "2024-08-11T02:36:01.443Z"
   },
   {
    "duration": 3,
    "start_time": "2024-08-11T02:36:01.507Z"
   },
   {
    "duration": 311,
    "start_time": "2024-08-11T21:53:40.590Z"
   },
   {
    "duration": 4570,
    "start_time": "2024-08-11T21:53:49.778Z"
   },
   {
    "duration": 1659,
    "start_time": "2024-08-11T21:53:54.353Z"
   },
   {
    "duration": 24,
    "start_time": "2024-08-11T21:53:56.015Z"
   },
   {
    "duration": 19,
    "start_time": "2024-08-11T21:53:56.043Z"
   },
   {
    "duration": 11,
    "start_time": "2024-08-11T21:53:56.066Z"
   },
   {
    "duration": 15,
    "start_time": "2024-08-11T21:53:56.080Z"
   },
   {
    "duration": 50,
    "start_time": "2024-08-11T21:53:56.098Z"
   },
   {
    "duration": 36,
    "start_time": "2024-08-11T21:53:56.151Z"
   },
   {
    "duration": 57,
    "start_time": "2024-08-11T21:53:56.190Z"
   },
   {
    "duration": 112,
    "start_time": "2024-08-11T21:53:56.254Z"
   },
   {
    "duration": 169,
    "start_time": "2024-08-11T21:53:56.370Z"
   },
   {
    "duration": 5,
    "start_time": "2024-08-11T21:53:56.542Z"
   },
   {
    "duration": 7,
    "start_time": "2024-08-11T21:53:56.551Z"
   },
   {
    "duration": 4,
    "start_time": "2024-08-11T21:53:56.561Z"
   },
   {
    "duration": 3,
    "start_time": "2024-08-11T21:53:56.569Z"
   },
   {
    "duration": 3,
    "start_time": "2024-08-11T21:53:56.576Z"
   },
   {
    "duration": 51,
    "start_time": "2024-08-11T21:53:56.583Z"
   },
   {
    "duration": 3,
    "start_time": "2024-08-11T21:53:56.639Z"
   },
   {
    "duration": 8,
    "start_time": "2024-08-11T21:53:56.645Z"
   },
   {
    "duration": 7,
    "start_time": "2024-08-11T21:53:56.657Z"
   },
   {
    "duration": 4,
    "start_time": "2024-08-11T21:53:56.667Z"
   },
   {
    "duration": 3,
    "start_time": "2024-08-11T21:53:56.674Z"
   },
   {
    "duration": 4,
    "start_time": "2024-08-11T21:53:56.681Z"
   },
   {
    "duration": 46,
    "start_time": "2024-08-11T21:53:56.688Z"
   },
   {
    "duration": 4,
    "start_time": "2024-08-11T21:53:56.737Z"
   },
   {
    "duration": 4,
    "start_time": "2024-08-11T21:53:56.743Z"
   },
   {
    "duration": 3,
    "start_time": "2024-08-11T21:53:56.749Z"
   },
   {
    "duration": 3,
    "start_time": "2024-08-11T21:53:56.760Z"
   },
   {
    "duration": 3,
    "start_time": "2024-08-11T21:53:56.766Z"
   },
   {
    "duration": 2,
    "start_time": "2024-08-11T21:53:56.773Z"
   },
   {
    "duration": 55,
    "start_time": "2024-08-11T21:53:56.779Z"
   },
   {
    "duration": 4,
    "start_time": "2024-08-11T21:53:56.839Z"
   },
   {
    "duration": 4,
    "start_time": "2024-08-11T21:53:56.848Z"
   },
   {
    "duration": 4,
    "start_time": "2024-08-11T21:53:56.859Z"
   },
   {
    "duration": 4,
    "start_time": "2024-08-11T21:53:56.869Z"
   },
   {
    "duration": 5,
    "start_time": "2024-08-11T21:53:56.876Z"
   },
   {
    "duration": 4,
    "start_time": "2024-08-11T21:53:56.884Z"
   },
   {
    "duration": 192,
    "start_time": "2024-08-11T21:54:39.836Z"
   },
   {
    "duration": 350,
    "start_time": "2024-08-11T21:55:14.978Z"
   },
   {
    "duration": 338,
    "start_time": "2024-08-11T22:02:56.853Z"
   },
   {
    "duration": 457,
    "start_time": "2024-08-11T22:05:18.260Z"
   },
   {
    "duration": 17,
    "start_time": "2024-08-11T22:05:36.761Z"
   },
   {
    "duration": 18,
    "start_time": "2024-08-11T22:06:40.420Z"
   },
   {
    "duration": 26,
    "start_time": "2024-08-11T22:08:01.786Z"
   },
   {
    "duration": 23,
    "start_time": "2024-08-11T22:09:51.379Z"
   },
   {
    "duration": 15,
    "start_time": "2024-08-11T22:12:25.603Z"
   },
   {
    "duration": 27,
    "start_time": "2024-08-11T22:12:39.552Z"
   },
   {
    "duration": 14,
    "start_time": "2024-08-11T22:13:57.335Z"
   },
   {
    "duration": 12,
    "start_time": "2024-08-11T22:14:10.633Z"
   },
   {
    "duration": 23,
    "start_time": "2024-08-11T22:16:00.719Z"
   },
   {
    "duration": 12,
    "start_time": "2024-08-11T22:16:15.208Z"
   },
   {
    "duration": 21,
    "start_time": "2024-08-11T22:16:33.367Z"
   },
   {
    "duration": 27,
    "start_time": "2024-08-11T22:16:50.643Z"
   },
   {
    "duration": 234,
    "start_time": "2024-08-11T22:17:16.182Z"
   },
   {
    "duration": 27,
    "start_time": "2024-08-11T22:18:06.310Z"
   },
   {
    "duration": 28,
    "start_time": "2024-08-11T22:18:57.706Z"
   },
   {
    "duration": 13,
    "start_time": "2024-08-11T22:19:35.493Z"
   },
   {
    "duration": 18,
    "start_time": "2024-08-11T22:20:01.918Z"
   },
   {
    "duration": 20,
    "start_time": "2024-08-11T22:21:11.435Z"
   },
   {
    "duration": 12,
    "start_time": "2024-08-11T22:22:13.155Z"
   },
   {
    "duration": 14,
    "start_time": "2024-08-11T22:22:19.688Z"
   },
   {
    "duration": 13,
    "start_time": "2024-08-11T22:23:02.572Z"
   },
   {
    "duration": 33,
    "start_time": "2024-08-11T22:26:49.600Z"
   },
   {
    "duration": 14,
    "start_time": "2024-08-11T22:27:57.027Z"
   },
   {
    "duration": 29,
    "start_time": "2024-08-11T22:29:00.728Z"
   },
   {
    "duration": 14,
    "start_time": "2024-08-11T22:29:49.367Z"
   },
   {
    "duration": 11,
    "start_time": "2024-08-11T22:30:01.055Z"
   },
   {
    "duration": 287,
    "start_time": "2024-08-11T22:32:03.701Z"
   },
   {
    "duration": 1894,
    "start_time": "2024-08-11T22:32:18.664Z"
   },
   {
    "duration": 44,
    "start_time": "2024-08-11T22:32:36.342Z"
   },
   {
    "duration": 19,
    "start_time": "2024-08-11T22:36:55.347Z"
   },
   {
    "duration": 19,
    "start_time": "2024-08-11T22:37:17.947Z"
   },
   {
    "duration": 16,
    "start_time": "2024-08-11T22:37:28.522Z"
   },
   {
    "duration": 29,
    "start_time": "2024-08-11T22:37:33.331Z"
   },
   {
    "duration": 12,
    "start_time": "2024-08-11T22:37:38.173Z"
   },
   {
    "duration": 12,
    "start_time": "2024-08-11T22:37:42.770Z"
   },
   {
    "duration": 15,
    "start_time": "2024-08-11T22:37:48.437Z"
   },
   {
    "duration": 21,
    "start_time": "2024-08-11T22:38:08.858Z"
   },
   {
    "duration": 27,
    "start_time": "2024-08-11T22:38:26.522Z"
   },
   {
    "duration": 18,
    "start_time": "2024-08-11T22:38:51.120Z"
   },
   {
    "duration": 25,
    "start_time": "2024-08-11T23:02:45.985Z"
   },
   {
    "duration": 11,
    "start_time": "2024-08-11T23:02:53.043Z"
   },
   {
    "duration": 7,
    "start_time": "2024-08-11T23:03:12.645Z"
   },
   {
    "duration": 8,
    "start_time": "2024-08-11T23:04:05.929Z"
   },
   {
    "duration": 6,
    "start_time": "2024-08-11T23:04:13.993Z"
   },
   {
    "duration": 6,
    "start_time": "2024-08-11T23:06:46.152Z"
   },
   {
    "duration": 271,
    "start_time": "2024-08-11T23:08:33.542Z"
   },
   {
    "duration": 7,
    "start_time": "2024-08-11T23:08:51.655Z"
   },
   {
    "duration": 11,
    "start_time": "2024-08-11T23:09:04.600Z"
   },
   {
    "duration": 12,
    "start_time": "2024-08-11T23:09:43.774Z"
   },
   {
    "duration": 141,
    "start_time": "2024-08-11T23:28:47.231Z"
   },
   {
    "duration": 19,
    "start_time": "2024-08-11T23:31:32.478Z"
   },
   {
    "duration": 147,
    "start_time": "2024-08-11T23:31:41.362Z"
   },
   {
    "duration": 161,
    "start_time": "2024-08-11T23:31:42.824Z"
   },
   {
    "duration": 18,
    "start_time": "2024-08-11T23:32:40.929Z"
   },
   {
    "duration": 6,
    "start_time": "2024-08-11T23:32:43.724Z"
   },
   {
    "duration": 111,
    "start_time": "2024-08-11T23:39:55.369Z"
   },
   {
    "duration": 114,
    "start_time": "2024-08-11T23:40:11.539Z"
   },
   {
    "duration": 6,
    "start_time": "2024-08-11T23:52:16.609Z"
   },
   {
    "duration": 5,
    "start_time": "2024-08-11T23:52:22.899Z"
   },
   {
    "duration": 102,
    "start_time": "2024-08-11T23:52:53.625Z"
   },
   {
    "duration": 17,
    "start_time": "2024-08-11T23:53:59.705Z"
   },
   {
    "duration": 17,
    "start_time": "2024-08-11T23:54:43.521Z"
   },
   {
    "duration": 36,
    "start_time": "2024-08-11T23:55:15.432Z"
   },
   {
    "duration": 237,
    "start_time": "2024-08-11T23:57:52.893Z"
   },
   {
    "duration": 25,
    "start_time": "2024-08-12T00:31:19.085Z"
   },
   {
    "duration": 8,
    "start_time": "2024-08-12T01:00:25.267Z"
   },
   {
    "duration": 129,
    "start_time": "2024-08-12T01:00:28.917Z"
   },
   {
    "duration": 307,
    "start_time": "2024-08-12T02:54:12.345Z"
   },
   {
    "duration": 4354,
    "start_time": "2024-08-12T02:54:27.635Z"
   },
   {
    "duration": 1659,
    "start_time": "2024-08-12T02:54:31.992Z"
   },
   {
    "duration": 17,
    "start_time": "2024-08-12T02:54:33.654Z"
   },
   {
    "duration": 32,
    "start_time": "2024-08-12T02:54:33.675Z"
   },
   {
    "duration": 41,
    "start_time": "2024-08-12T02:54:33.710Z"
   },
   {
    "duration": 13,
    "start_time": "2024-08-12T02:54:33.754Z"
   },
   {
    "duration": 41,
    "start_time": "2024-08-12T02:54:33.771Z"
   },
   {
    "duration": 30,
    "start_time": "2024-08-12T02:54:33.815Z"
   },
   {
    "duration": 59,
    "start_time": "2024-08-12T02:54:33.848Z"
   },
   {
    "duration": 117,
    "start_time": "2024-08-12T02:54:33.913Z"
   },
   {
    "duration": 353,
    "start_time": "2024-08-12T02:54:34.033Z"
   },
   {
    "duration": 22,
    "start_time": "2024-08-12T02:54:34.389Z"
   },
   {
    "duration": 8,
    "start_time": "2024-08-12T02:54:34.415Z"
   },
   {
    "duration": 196,
    "start_time": "2024-08-12T02:54:34.427Z"
   },
   {
    "duration": 168,
    "start_time": "2024-08-12T02:54:34.626Z"
   },
   {
    "duration": 14,
    "start_time": "2024-08-12T02:54:34.796Z"
   },
   {
    "duration": 137,
    "start_time": "2024-08-12T02:54:34.812Z"
   },
   {
    "duration": 25,
    "start_time": "2024-08-12T02:54:34.952Z"
   },
   {
    "duration": 26,
    "start_time": "2024-08-12T02:54:34.980Z"
   },
   {
    "duration": 5,
    "start_time": "2024-08-12T02:54:35.009Z"
   },
   {
    "duration": 4,
    "start_time": "2024-08-12T02:54:35.019Z"
   },
   {
    "duration": 4,
    "start_time": "2024-08-12T02:54:35.027Z"
   },
   {
    "duration": 4,
    "start_time": "2024-08-12T02:54:35.035Z"
   },
   {
    "duration": 4,
    "start_time": "2024-08-12T02:54:35.042Z"
   },
   {
    "duration": 58,
    "start_time": "2024-08-12T02:54:35.050Z"
   },
   {
    "duration": 4,
    "start_time": "2024-08-12T02:54:35.112Z"
   },
   {
    "duration": 4,
    "start_time": "2024-08-12T02:54:35.120Z"
   },
   {
    "duration": 3,
    "start_time": "2024-08-12T02:54:35.134Z"
   },
   {
    "duration": 3,
    "start_time": "2024-08-12T02:54:35.141Z"
   },
   {
    "duration": 4,
    "start_time": "2024-08-12T02:54:35.147Z"
   },
   {
    "duration": 51,
    "start_time": "2024-08-12T02:54:35.155Z"
   },
   {
    "duration": 4,
    "start_time": "2024-08-12T02:54:35.210Z"
   },
   {
    "duration": 4,
    "start_time": "2024-08-12T02:54:35.217Z"
   },
   {
    "duration": 4,
    "start_time": "2024-08-12T02:54:35.224Z"
   },
   {
    "duration": 3,
    "start_time": "2024-08-12T02:54:35.232Z"
   },
   {
    "duration": 4,
    "start_time": "2024-08-12T02:54:35.239Z"
   },
   {
    "duration": 58,
    "start_time": "2024-08-12T02:54:35.247Z"
   },
   {
    "duration": 4,
    "start_time": "2024-08-12T02:54:35.308Z"
   },
   {
    "duration": 3,
    "start_time": "2024-08-12T02:54:35.316Z"
   },
   {
    "duration": 20,
    "start_time": "2024-08-12T03:04:57.345Z"
   },
   {
    "duration": 11,
    "start_time": "2024-08-12T03:08:46.827Z"
   },
   {
    "duration": 9,
    "start_time": "2024-08-12T03:08:59.822Z"
   },
   {
    "duration": 419,
    "start_time": "2024-08-12T03:12:01.719Z"
   },
   {
    "duration": 38,
    "start_time": "2024-08-12T03:12:11.148Z"
   },
   {
    "duration": 11,
    "start_time": "2024-08-12T03:12:56.652Z"
   },
   {
    "duration": 780,
    "start_time": "2024-08-12T03:16:36.400Z"
   },
   {
    "duration": 28,
    "start_time": "2024-08-12T03:16:53.937Z"
   },
   {
    "duration": 20,
    "start_time": "2024-08-12T03:17:04.918Z"
   },
   {
    "duration": 12,
    "start_time": "2024-08-12T03:18:20.368Z"
   },
   {
    "duration": 18,
    "start_time": "2024-08-12T03:18:40.313Z"
   },
   {
    "duration": 29,
    "start_time": "2024-08-12T03:18:51.065Z"
   },
   {
    "duration": 17,
    "start_time": "2024-08-12T03:18:57.977Z"
   },
   {
    "duration": 76,
    "start_time": "2024-08-12T03:19:48.392Z"
   },
   {
    "duration": 75,
    "start_time": "2024-08-12T03:20:09.584Z"
   },
   {
    "duration": 81,
    "start_time": "2024-08-12T03:24:15.590Z"
   },
   {
    "duration": 80,
    "start_time": "2024-08-12T03:25:05.485Z"
   },
   {
    "duration": 77,
    "start_time": "2024-08-12T03:26:13.388Z"
   },
   {
    "duration": 80,
    "start_time": "2024-08-12T03:29:39.498Z"
   },
   {
    "duration": 7,
    "start_time": "2024-08-12T03:30:46.706Z"
   },
   {
    "duration": 76,
    "start_time": "2024-08-12T03:31:05.673Z"
   },
   {
    "duration": 105,
    "start_time": "2024-08-12T03:37:21.830Z"
   },
   {
    "duration": 13,
    "start_time": "2024-08-12T03:37:31.766Z"
   },
   {
    "duration": 27,
    "start_time": "2024-08-12T03:38:16.426Z"
   },
   {
    "duration": 14,
    "start_time": "2024-08-12T03:38:49.959Z"
   },
   {
    "duration": 21,
    "start_time": "2024-08-12T03:39:14.252Z"
   },
   {
    "duration": 108,
    "start_time": "2024-08-12T03:39:25.918Z"
   },
   {
    "duration": 54,
    "start_time": "2024-08-12T03:42:53.049Z"
   },
   {
    "duration": 94,
    "start_time": "2024-08-12T03:42:58.258Z"
   },
   {
    "duration": 50,
    "start_time": "2024-08-12T03:43:26.101Z"
   },
   {
    "duration": 47,
    "start_time": "2024-08-12T03:43:35.692Z"
   },
   {
    "duration": 50,
    "start_time": "2024-08-12T03:43:54.253Z"
   },
   {
    "duration": 55,
    "start_time": "2024-08-12T03:44:15.566Z"
   },
   {
    "duration": 74,
    "start_time": "2024-08-12T03:44:29.355Z"
   },
   {
    "duration": 659,
    "start_time": "2024-08-12T03:45:07.840Z"
   },
   {
    "duration": 47,
    "start_time": "2024-08-12T03:45:29.918Z"
   },
   {
    "duration": 78,
    "start_time": "2024-08-12T03:45:46.888Z"
   },
   {
    "duration": 76,
    "start_time": "2024-08-12T03:46:04.433Z"
   },
   {
    "duration": 34,
    "start_time": "2024-08-12T03:46:43.665Z"
   },
   {
    "duration": 36,
    "start_time": "2024-08-12T03:48:36.325Z"
   },
   {
    "duration": 72,
    "start_time": "2024-08-12T03:48:45.576Z"
   },
   {
    "duration": 22,
    "start_time": "2024-08-12T03:48:53.072Z"
   },
   {
    "duration": 11,
    "start_time": "2024-08-12T03:48:56.279Z"
   },
   {
    "duration": 12,
    "start_time": "2024-08-12T03:49:00.377Z"
   },
   {
    "duration": 10,
    "start_time": "2024-08-12T03:49:09.569Z"
   },
   {
    "duration": 48,
    "start_time": "2024-08-12T03:49:28.513Z"
   },
   {
    "duration": 22,
    "start_time": "2024-08-12T03:51:32.864Z"
   },
   {
    "duration": 19,
    "start_time": "2024-08-12T03:52:22.463Z"
   },
   {
    "duration": 32,
    "start_time": "2024-08-12T03:53:03.654Z"
   },
   {
    "duration": 48,
    "start_time": "2024-08-12T03:53:42.820Z"
   },
   {
    "duration": 5,
    "start_time": "2024-08-12T03:54:23.389Z"
   },
   {
    "duration": 37,
    "start_time": "2024-08-12T03:54:28.771Z"
   },
   {
    "duration": 41,
    "start_time": "2024-08-12T03:54:42.319Z"
   },
   {
    "duration": 43,
    "start_time": "2024-08-12T03:55:26.916Z"
   },
   {
    "duration": 31,
    "start_time": "2024-08-12T03:58:16.420Z"
   },
   {
    "duration": 26,
    "start_time": "2024-08-12T03:58:23.801Z"
   },
   {
    "duration": 75,
    "start_time": "2024-08-12T03:58:33.005Z"
   },
   {
    "duration": 29,
    "start_time": "2024-08-12T03:58:46.593Z"
   },
   {
    "duration": 23,
    "start_time": "2024-08-12T03:58:56.089Z"
   },
   {
    "duration": 70,
    "start_time": "2024-08-12T03:59:05.813Z"
   },
   {
    "duration": 26,
    "start_time": "2024-08-12T03:59:49.614Z"
   },
   {
    "duration": 308,
    "start_time": "2024-08-12T15:24:04.044Z"
   },
   {
    "duration": 4211,
    "start_time": "2024-08-12T15:24:11.138Z"
   },
   {
    "duration": 1661,
    "start_time": "2024-08-12T15:24:15.352Z"
   },
   {
    "duration": 19,
    "start_time": "2024-08-12T15:24:17.016Z"
   },
   {
    "duration": 17,
    "start_time": "2024-08-12T15:24:17.037Z"
   },
   {
    "duration": 68,
    "start_time": "2024-08-12T15:24:17.058Z"
   },
   {
    "duration": 14,
    "start_time": "2024-08-12T15:24:17.129Z"
   },
   {
    "duration": 13,
    "start_time": "2024-08-12T15:24:17.146Z"
   },
   {
    "duration": 28,
    "start_time": "2024-08-12T15:24:17.162Z"
   },
   {
    "duration": 25,
    "start_time": "2024-08-12T15:24:17.227Z"
   },
   {
    "duration": 118,
    "start_time": "2024-08-12T15:24:17.256Z"
   },
   {
    "duration": 350,
    "start_time": "2024-08-12T15:24:17.377Z"
   },
   {
    "duration": 14,
    "start_time": "2024-08-12T15:24:17.731Z"
   },
   {
    "duration": 8,
    "start_time": "2024-08-12T15:24:17.748Z"
   },
   {
    "duration": 215,
    "start_time": "2024-08-12T15:24:17.763Z"
   },
   {
    "duration": 166,
    "start_time": "2024-08-12T15:24:17.981Z"
   },
   {
    "duration": 9,
    "start_time": "2024-08-12T15:24:18.150Z"
   },
   {
    "duration": 138,
    "start_time": "2024-08-12T15:24:18.162Z"
   },
   {
    "duration": 38,
    "start_time": "2024-08-12T15:24:18.303Z"
   },
   {
    "duration": 9,
    "start_time": "2024-08-12T15:24:18.344Z"
   },
   {
    "duration": 14,
    "start_time": "2024-08-12T15:24:18.356Z"
   },
   {
    "duration": 78,
    "start_time": "2024-08-12T15:24:18.373Z"
   },
   {
    "duration": 24,
    "start_time": "2024-08-12T15:24:18.454Z"
   },
   {
    "duration": 66,
    "start_time": "2024-08-12T15:24:18.481Z"
   },
   {
    "duration": 4,
    "start_time": "2024-08-12T15:24:18.550Z"
   },
   {
    "duration": 4,
    "start_time": "2024-08-12T15:24:18.557Z"
   },
   {
    "duration": 4,
    "start_time": "2024-08-12T15:24:18.564Z"
   },
   {
    "duration": 3,
    "start_time": "2024-08-12T15:24:18.571Z"
   },
   {
    "duration": 49,
    "start_time": "2024-08-12T15:24:18.577Z"
   },
   {
    "duration": 4,
    "start_time": "2024-08-12T15:24:18.629Z"
   },
   {
    "duration": 3,
    "start_time": "2024-08-12T15:24:18.637Z"
   },
   {
    "duration": 3,
    "start_time": "2024-08-12T15:24:18.644Z"
   },
   {
    "duration": 4,
    "start_time": "2024-08-12T15:24:18.653Z"
   },
   {
    "duration": 4,
    "start_time": "2024-08-12T15:24:18.660Z"
   },
   {
    "duration": 4,
    "start_time": "2024-08-12T15:24:18.667Z"
   },
   {
    "duration": 4,
    "start_time": "2024-08-12T15:24:18.726Z"
   },
   {
    "duration": 3,
    "start_time": "2024-08-12T15:24:18.733Z"
   },
   {
    "duration": 4,
    "start_time": "2024-08-12T15:24:18.739Z"
   },
   {
    "duration": 4,
    "start_time": "2024-08-12T15:24:18.746Z"
   },
   {
    "duration": 3,
    "start_time": "2024-08-12T15:24:18.754Z"
   },
   {
    "duration": 4,
    "start_time": "2024-08-12T15:24:18.760Z"
   },
   {
    "duration": 56,
    "start_time": "2024-08-12T15:24:18.772Z"
   },
   {
    "duration": 44,
    "start_time": "2024-08-12T15:26:59.571Z"
   },
   {
    "duration": 24,
    "start_time": "2024-08-12T15:27:06.985Z"
   },
   {
    "duration": 36,
    "start_time": "2024-08-12T15:27:10.569Z"
   },
   {
    "duration": 36,
    "start_time": "2024-08-12T16:08:45.900Z"
   },
   {
    "duration": 1068,
    "start_time": "2024-08-12T17:58:43.151Z"
   },
   {
    "duration": 196,
    "start_time": "2024-08-12T18:04:36.148Z"
   },
   {
    "duration": 78,
    "start_time": "2024-08-12T18:20:42.037Z"
   },
   {
    "duration": 82,
    "start_time": "2024-08-12T18:21:13.557Z"
   },
   {
    "duration": 77,
    "start_time": "2024-08-12T18:22:54.017Z"
   },
   {
    "duration": 62,
    "start_time": "2024-08-12T18:23:24.239Z"
   },
   {
    "duration": 83,
    "start_time": "2024-08-12T18:23:45.857Z"
   },
   {
    "duration": 60,
    "start_time": "2024-08-12T18:23:55.033Z"
   },
   {
    "duration": 87,
    "start_time": "2024-08-12T18:25:51.014Z"
   },
   {
    "duration": 66,
    "start_time": "2024-08-12T18:26:01.655Z"
   },
   {
    "duration": 80,
    "start_time": "2024-08-12T18:27:22.780Z"
   },
   {
    "duration": 21,
    "start_time": "2024-08-12T18:29:45.477Z"
   },
   {
    "duration": 20,
    "start_time": "2024-08-12T18:30:18.415Z"
   },
   {
    "duration": 25,
    "start_time": "2024-08-12T18:30:44.446Z"
   },
   {
    "duration": 6,
    "start_time": "2024-08-12T18:42:08.911Z"
   },
   {
    "duration": 24,
    "start_time": "2024-08-12T18:42:30.447Z"
   },
   {
    "duration": 9,
    "start_time": "2024-08-12T18:50:01.801Z"
   },
   {
    "duration": 28,
    "start_time": "2024-08-12T18:50:15.658Z"
   },
   {
    "duration": 24,
    "start_time": "2024-08-12T18:50:37.989Z"
   },
   {
    "duration": 6,
    "start_time": "2024-08-12T18:52:43.809Z"
   },
   {
    "duration": 25,
    "start_time": "2024-08-12T18:52:51.840Z"
   },
   {
    "duration": 7,
    "start_time": "2024-08-12T18:53:00.904Z"
   },
   {
    "duration": 24,
    "start_time": "2024-08-12T18:53:43.622Z"
   },
   {
    "duration": 35,
    "start_time": "2024-08-12T18:57:49.859Z"
   },
   {
    "duration": 77,
    "start_time": "2024-08-12T19:24:02.866Z"
   },
   {
    "duration": 324,
    "start_time": "2024-08-13T00:17:49.459Z"
   },
   {
    "duration": 4272,
    "start_time": "2024-08-13T00:18:01.675Z"
   },
   {
    "duration": 1657,
    "start_time": "2024-08-13T00:18:05.951Z"
   },
   {
    "duration": 22,
    "start_time": "2024-08-13T00:18:07.611Z"
   },
   {
    "duration": 16,
    "start_time": "2024-08-13T00:18:07.637Z"
   },
   {
    "duration": 66,
    "start_time": "2024-08-13T00:18:07.656Z"
   },
   {
    "duration": 14,
    "start_time": "2024-08-13T00:18:07.725Z"
   },
   {
    "duration": 17,
    "start_time": "2024-08-13T00:18:07.742Z"
   },
   {
    "duration": 60,
    "start_time": "2024-08-13T00:18:07.763Z"
   },
   {
    "duration": 25,
    "start_time": "2024-08-13T00:18:07.826Z"
   },
   {
    "duration": 118,
    "start_time": "2024-08-13T00:18:07.859Z"
   },
   {
    "duration": 314,
    "start_time": "2024-08-13T00:18:07.980Z"
   },
   {
    "duration": 30,
    "start_time": "2024-08-13T00:18:08.298Z"
   },
   {
    "duration": 7,
    "start_time": "2024-08-13T00:18:08.332Z"
   },
   {
    "duration": 196,
    "start_time": "2024-08-13T00:18:08.342Z"
   },
   {
    "duration": 179,
    "start_time": "2024-08-13T00:18:08.541Z"
   },
   {
    "duration": 9,
    "start_time": "2024-08-13T00:18:08.724Z"
   },
   {
    "duration": 133,
    "start_time": "2024-08-13T00:18:08.735Z"
   },
   {
    "duration": 24,
    "start_time": "2024-08-13T00:18:08.871Z"
   },
   {
    "duration": 29,
    "start_time": "2024-08-13T00:18:08.898Z"
   },
   {
    "duration": 11,
    "start_time": "2024-08-13T00:18:08.930Z"
   },
   {
    "duration": 80,
    "start_time": "2024-08-13T00:18:08.944Z"
   },
   {
    "duration": 24,
    "start_time": "2024-08-13T00:18:09.027Z"
   },
   {
    "duration": 95,
    "start_time": "2024-08-13T00:18:09.054Z"
   },
   {
    "duration": 4,
    "start_time": "2024-08-13T00:18:09.152Z"
   },
   {
    "duration": 3,
    "start_time": "2024-08-13T00:18:09.159Z"
   },
   {
    "duration": 4,
    "start_time": "2024-08-13T00:18:09.165Z"
   },
   {
    "duration": 3,
    "start_time": "2024-08-13T00:18:09.172Z"
   },
   {
    "duration": 3,
    "start_time": "2024-08-13T00:18:09.224Z"
   },
   {
    "duration": 4,
    "start_time": "2024-08-13T00:18:09.230Z"
   },
   {
    "duration": 4,
    "start_time": "2024-08-13T00:18:09.238Z"
   },
   {
    "duration": 4,
    "start_time": "2024-08-13T00:18:09.244Z"
   },
   {
    "duration": 5,
    "start_time": "2024-08-13T00:18:09.251Z"
   },
   {
    "duration": 4,
    "start_time": "2024-08-13T00:18:09.259Z"
   },
   {
    "duration": 4,
    "start_time": "2024-08-13T00:18:09.266Z"
   },
   {
    "duration": 3,
    "start_time": "2024-08-13T00:18:09.325Z"
   },
   {
    "duration": 4,
    "start_time": "2024-08-13T00:18:09.331Z"
   },
   {
    "duration": 3,
    "start_time": "2024-08-13T00:18:09.338Z"
   },
   {
    "duration": 4,
    "start_time": "2024-08-13T00:18:09.344Z"
   },
   {
    "duration": 5,
    "start_time": "2024-08-13T00:18:09.351Z"
   },
   {
    "duration": 4,
    "start_time": "2024-08-13T00:18:09.359Z"
   },
   {
    "duration": 56,
    "start_time": "2024-08-13T00:18:09.367Z"
   },
   {
    "duration": 67,
    "start_time": "2024-08-13T00:23:21.301Z"
   },
   {
    "duration": 36,
    "start_time": "2024-08-13T00:23:32.749Z"
   },
   {
    "duration": 34,
    "start_time": "2024-08-13T00:23:54.902Z"
   },
   {
    "duration": 42,
    "start_time": "2024-08-13T00:32:22.774Z"
   },
   {
    "duration": 48,
    "start_time": "2024-08-13T00:32:40.336Z"
   },
   {
    "duration": 18,
    "start_time": "2024-08-13T00:33:02.615Z"
   },
   {
    "duration": 22,
    "start_time": "2024-08-13T00:43:26.967Z"
   },
   {
    "duration": 26,
    "start_time": "2024-08-13T00:47:56.180Z"
   },
   {
    "duration": 402,
    "start_time": "2024-08-13T00:54:20.907Z"
   },
   {
    "duration": 23,
    "start_time": "2024-08-13T00:54:27.671Z"
   },
   {
    "duration": 29,
    "start_time": "2024-08-13T00:54:39.323Z"
   },
   {
    "duration": 581,
    "start_time": "2024-08-13T00:54:48.901Z"
   },
   {
    "duration": 22,
    "start_time": "2024-08-13T01:08:52.651Z"
   },
   {
    "duration": 69,
    "start_time": "2024-08-13T01:09:27.005Z"
   },
   {
    "duration": 4460,
    "start_time": "2024-08-13T01:47:49.201Z"
   },
   {
    "duration": 1690,
    "start_time": "2024-08-13T01:47:53.665Z"
   },
   {
    "duration": 19,
    "start_time": "2024-08-13T01:47:55.358Z"
   },
   {
    "duration": 30,
    "start_time": "2024-08-13T01:47:55.382Z"
   },
   {
    "duration": 41,
    "start_time": "2024-08-13T01:47:55.415Z"
   },
   {
    "duration": 43,
    "start_time": "2024-08-13T01:47:55.459Z"
   },
   {
    "duration": 15,
    "start_time": "2024-08-13T01:47:55.505Z"
   },
   {
    "duration": 29,
    "start_time": "2024-08-13T01:47:55.524Z"
   },
   {
    "duration": 68,
    "start_time": "2024-08-13T01:47:55.556Z"
   },
   {
    "duration": 108,
    "start_time": "2024-08-13T01:47:55.630Z"
   },
   {
    "duration": 388,
    "start_time": "2024-08-13T01:47:55.741Z"
   },
   {
    "duration": 14,
    "start_time": "2024-08-13T01:47:56.133Z"
   },
   {
    "duration": 7,
    "start_time": "2024-08-13T01:47:56.150Z"
   },
   {
    "duration": 231,
    "start_time": "2024-08-13T01:47:56.161Z"
   },
   {
    "duration": 182,
    "start_time": "2024-08-13T01:47:56.394Z"
   },
   {
    "duration": 23,
    "start_time": "2024-08-13T01:47:56.579Z"
   },
   {
    "duration": 123,
    "start_time": "2024-08-13T01:47:56.609Z"
   },
   {
    "duration": 25,
    "start_time": "2024-08-13T01:47:56.735Z"
   },
   {
    "duration": 10,
    "start_time": "2024-08-13T01:47:56.763Z"
   },
   {
    "duration": 11,
    "start_time": "2024-08-13T01:47:56.806Z"
   },
   {
    "duration": 49,
    "start_time": "2024-08-13T01:47:56.820Z"
   },
   {
    "duration": 47,
    "start_time": "2024-08-13T01:47:56.872Z"
   },
   {
    "duration": 991,
    "start_time": "2024-08-13T01:47:56.922Z"
   },
   {
    "duration": 0,
    "start_time": "2024-08-13T01:47:57.918Z"
   },
   {
    "duration": 0,
    "start_time": "2024-08-13T01:47:57.920Z"
   },
   {
    "duration": 0,
    "start_time": "2024-08-13T01:47:57.923Z"
   },
   {
    "duration": 0,
    "start_time": "2024-08-13T01:47:57.925Z"
   },
   {
    "duration": 0,
    "start_time": "2024-08-13T01:47:57.927Z"
   },
   {
    "duration": 0,
    "start_time": "2024-08-13T01:47:57.931Z"
   },
   {
    "duration": 0,
    "start_time": "2024-08-13T01:47:57.932Z"
   },
   {
    "duration": 0,
    "start_time": "2024-08-13T01:47:57.934Z"
   },
   {
    "duration": 0,
    "start_time": "2024-08-13T01:47:57.936Z"
   },
   {
    "duration": 0,
    "start_time": "2024-08-13T01:47:57.938Z"
   },
   {
    "duration": 0,
    "start_time": "2024-08-13T01:47:57.940Z"
   },
   {
    "duration": 0,
    "start_time": "2024-08-13T01:47:57.942Z"
   },
   {
    "duration": 0,
    "start_time": "2024-08-13T01:47:57.944Z"
   },
   {
    "duration": 0,
    "start_time": "2024-08-13T01:47:57.947Z"
   },
   {
    "duration": 0,
    "start_time": "2024-08-13T01:47:57.949Z"
   },
   {
    "duration": 0,
    "start_time": "2024-08-13T01:47:57.951Z"
   },
   {
    "duration": 0,
    "start_time": "2024-08-13T01:47:58.001Z"
   },
   {
    "duration": 0,
    "start_time": "2024-08-13T01:47:58.010Z"
   },
   {
    "duration": 25,
    "start_time": "2024-08-13T01:48:53.036Z"
   },
   {
    "duration": 9,
    "start_time": "2024-08-13T01:49:02.764Z"
   },
   {
    "duration": 8,
    "start_time": "2024-08-13T01:52:18.410Z"
   },
   {
    "duration": 26,
    "start_time": "2024-08-13T01:53:16.856Z"
   },
   {
    "duration": 537,
    "start_time": "2024-08-13T01:53:23.955Z"
   },
   {
    "duration": 7,
    "start_time": "2024-08-13T01:54:27.401Z"
   },
   {
    "duration": 9,
    "start_time": "2024-08-13T01:55:03.973Z"
   },
   {
    "duration": 13,
    "start_time": "2024-08-13T01:55:16.407Z"
   },
   {
    "duration": 11,
    "start_time": "2024-08-13T01:55:33.031Z"
   },
   {
    "duration": 11,
    "start_time": "2024-08-13T01:55:39.016Z"
   },
   {
    "duration": 8,
    "start_time": "2024-08-13T02:05:41.357Z"
   },
   {
    "duration": 25,
    "start_time": "2024-08-13T02:07:02.266Z"
   },
   {
    "duration": 6,
    "start_time": "2024-08-13T02:07:14.481Z"
   },
   {
    "duration": 1408,
    "start_time": "2024-08-13T02:09:04.751Z"
   },
   {
    "duration": 269,
    "start_time": "2024-08-13T02:10:46.137Z"
   },
   {
    "duration": 78,
    "start_time": "2024-08-13T02:11:32.904Z"
   },
   {
    "duration": 86,
    "start_time": "2024-08-13T02:11:38.175Z"
   },
   {
    "duration": 79,
    "start_time": "2024-08-13T02:12:04.673Z"
   },
   {
    "duration": 272,
    "start_time": "2024-08-13T02:15:03.402Z"
   },
   {
    "duration": 85,
    "start_time": "2024-08-13T02:15:06.437Z"
   },
   {
    "duration": 83,
    "start_time": "2024-08-13T02:15:35.307Z"
   },
   {
    "duration": 50,
    "start_time": "2024-08-13T02:16:01.452Z"
   },
   {
    "duration": 327,
    "start_time": "2024-08-13T03:18:55.616Z"
   },
   {
    "duration": 21,
    "start_time": "2024-08-13T03:19:17.056Z"
   },
   {
    "duration": 4708,
    "start_time": "2024-08-13T03:19:26.082Z"
   },
   {
    "duration": 1756,
    "start_time": "2024-08-13T03:19:30.794Z"
   },
   {
    "duration": 22,
    "start_time": "2024-08-13T03:19:32.553Z"
   },
   {
    "duration": 21,
    "start_time": "2024-08-13T03:19:32.581Z"
   },
   {
    "duration": 41,
    "start_time": "2024-08-13T03:19:32.624Z"
   },
   {
    "duration": 14,
    "start_time": "2024-08-13T03:19:32.669Z"
   },
   {
    "duration": 44,
    "start_time": "2024-08-13T03:19:32.687Z"
   },
   {
    "duration": 31,
    "start_time": "2024-08-13T03:19:32.735Z"
   },
   {
    "duration": 58,
    "start_time": "2024-08-13T03:19:32.769Z"
   },
   {
    "duration": 130,
    "start_time": "2024-08-13T03:19:32.834Z"
   },
   {
    "duration": 405,
    "start_time": "2024-08-13T03:19:32.967Z"
   },
   {
    "duration": 19,
    "start_time": "2024-08-13T03:19:33.382Z"
   },
   {
    "duration": 8,
    "start_time": "2024-08-13T03:19:33.424Z"
   },
   {
    "duration": 237,
    "start_time": "2024-08-13T03:19:33.436Z"
   },
   {
    "duration": 184,
    "start_time": "2024-08-13T03:19:33.676Z"
   },
   {
    "duration": 9,
    "start_time": "2024-08-13T03:19:33.863Z"
   },
   {
    "duration": 139,
    "start_time": "2024-08-13T03:19:33.875Z"
   },
   {
    "duration": 28,
    "start_time": "2024-08-13T03:19:34.017Z"
   },
   {
    "duration": 18,
    "start_time": "2024-08-13T03:19:34.048Z"
   },
   {
    "duration": 10,
    "start_time": "2024-08-13T03:19:34.069Z"
   },
   {
    "duration": 75,
    "start_time": "2024-08-13T03:19:34.083Z"
   },
   {
    "duration": 18,
    "start_time": "2024-08-13T03:19:34.161Z"
   },
   {
    "duration": 6,
    "start_time": "2024-08-13T03:19:34.182Z"
   },
   {
    "duration": 7,
    "start_time": "2024-08-13T03:19:34.223Z"
   },
   {
    "duration": 7,
    "start_time": "2024-08-13T03:19:34.233Z"
   },
   {
    "duration": 11,
    "start_time": "2024-08-13T03:19:34.243Z"
   },
   {
    "duration": 7,
    "start_time": "2024-08-13T03:19:34.258Z"
   },
   {
    "duration": 7,
    "start_time": "2024-08-13T03:19:34.322Z"
   },
   {
    "duration": 1311,
    "start_time": "2024-08-13T03:19:34.335Z"
   },
   {
    "duration": 392,
    "start_time": "2024-08-13T03:19:35.649Z"
   },
   {
    "duration": 94,
    "start_time": "2024-08-13T03:19:36.044Z"
   },
   {
    "duration": 94,
    "start_time": "2024-08-13T03:19:36.141Z"
   },
   {
    "duration": 50,
    "start_time": "2024-08-13T03:19:36.239Z"
   },
   {
    "duration": 3,
    "start_time": "2024-08-13T03:19:36.292Z"
   },
   {
    "duration": 4,
    "start_time": "2024-08-13T03:19:36.322Z"
   },
   {
    "duration": 3,
    "start_time": "2024-08-13T03:19:36.330Z"
   },
   {
    "duration": 4,
    "start_time": "2024-08-13T03:19:36.337Z"
   },
   {
    "duration": 4,
    "start_time": "2024-08-13T03:19:36.343Z"
   },
   {
    "duration": 3,
    "start_time": "2024-08-13T03:19:36.350Z"
   },
   {
    "duration": 4,
    "start_time": "2024-08-13T03:19:36.357Z"
   },
   {
    "duration": 4,
    "start_time": "2024-08-13T03:19:36.364Z"
   },
   {
    "duration": 4,
    "start_time": "2024-08-13T03:19:36.422Z"
   },
   {
    "duration": 4,
    "start_time": "2024-08-13T03:19:36.429Z"
   },
   {
    "duration": 4,
    "start_time": "2024-08-13T03:19:36.436Z"
   },
   {
    "duration": 3,
    "start_time": "2024-08-13T03:19:36.443Z"
   },
   {
    "duration": 1340,
    "start_time": "2024-08-13T03:22:56.437Z"
   },
   {
    "duration": 231,
    "start_time": "2024-08-13T03:23:18.538Z"
   },
   {
    "duration": 223,
    "start_time": "2024-08-13T03:27:11.467Z"
   },
   {
    "duration": 85,
    "start_time": "2024-08-13T03:32:01.257Z"
   },
   {
    "duration": 90,
    "start_time": "2024-08-13T03:32:22.658Z"
   },
   {
    "duration": 83,
    "start_time": "2024-08-13T03:32:32.593Z"
   },
   {
    "duration": 373,
    "start_time": "2024-08-13T03:34:19.295Z"
   },
   {
    "duration": 222,
    "start_time": "2024-08-13T03:34:32.071Z"
   },
   {
    "duration": 3832,
    "start_time": "2024-08-13T03:37:47.973Z"
   },
   {
    "duration": 3837,
    "start_time": "2024-08-13T03:41:04.348Z"
   },
   {
    "duration": 250,
    "start_time": "2024-08-13T03:41:43.582Z"
   },
   {
    "duration": 347,
    "start_time": "2024-08-13T03:42:17.283Z"
   },
   {
    "duration": 4378,
    "start_time": "2024-08-14T00:40:35.689Z"
   },
   {
    "duration": 1920,
    "start_time": "2024-08-14T00:40:40.070Z"
   },
   {
    "duration": 29,
    "start_time": "2024-08-14T00:40:41.993Z"
   },
   {
    "duration": 18,
    "start_time": "2024-08-14T00:40:42.027Z"
   },
   {
    "duration": 41,
    "start_time": "2024-08-14T00:40:42.049Z"
   },
   {
    "duration": 43,
    "start_time": "2024-08-14T00:40:42.093Z"
   },
   {
    "duration": 17,
    "start_time": "2024-08-14T00:40:42.140Z"
   },
   {
    "duration": 63,
    "start_time": "2024-08-14T00:40:42.160Z"
   },
   {
    "duration": 26,
    "start_time": "2024-08-14T00:40:42.226Z"
   },
   {
    "duration": 119,
    "start_time": "2024-08-14T00:40:42.259Z"
   },
   {
    "duration": 354,
    "start_time": "2024-08-14T00:40:42.382Z"
   },
   {
    "duration": 15,
    "start_time": "2024-08-14T00:40:42.740Z"
   },
   {
    "duration": 7,
    "start_time": "2024-08-14T00:40:42.759Z"
   },
   {
    "duration": 221,
    "start_time": "2024-08-14T00:40:42.770Z"
   },
   {
    "duration": 172,
    "start_time": "2024-08-14T00:40:42.995Z"
   },
   {
    "duration": 9,
    "start_time": "2024-08-14T00:40:43.171Z"
   },
   {
    "duration": 140,
    "start_time": "2024-08-14T00:40:43.184Z"
   },
   {
    "duration": 28,
    "start_time": "2024-08-14T00:40:43.327Z"
   },
   {
    "duration": 10,
    "start_time": "2024-08-14T00:40:43.358Z"
   },
   {
    "duration": 53,
    "start_time": "2024-08-14T00:40:43.370Z"
   },
   {
    "duration": 52,
    "start_time": "2024-08-14T00:40:43.426Z"
   },
   {
    "duration": 42,
    "start_time": "2024-08-14T00:40:43.484Z"
   },
   {
    "duration": 8,
    "start_time": "2024-08-14T00:40:43.530Z"
   },
   {
    "duration": 8,
    "start_time": "2024-08-14T00:40:43.541Z"
   },
   {
    "duration": 7,
    "start_time": "2024-08-14T00:40:43.553Z"
   },
   {
    "duration": 65,
    "start_time": "2024-08-14T00:40:43.564Z"
   },
   {
    "duration": 8,
    "start_time": "2024-08-14T00:40:43.632Z"
   },
   {
    "duration": 6,
    "start_time": "2024-08-14T00:40:43.651Z"
   },
   {
    "duration": 1379,
    "start_time": "2024-08-14T00:40:43.661Z"
   },
   {
    "duration": 274,
    "start_time": "2024-08-14T00:40:45.044Z"
   },
   {
    "duration": 326,
    "start_time": "2024-08-14T00:40:45.324Z"
   },
   {
    "duration": 4,
    "start_time": "2024-08-14T00:40:45.654Z"
   },
   {
    "duration": 5,
    "start_time": "2024-08-14T00:40:45.664Z"
   },
   {
    "duration": 4,
    "start_time": "2024-08-14T00:40:45.673Z"
   },
   {
    "duration": 6,
    "start_time": "2024-08-14T00:40:45.680Z"
   },
   {
    "duration": 36,
    "start_time": "2024-08-14T00:40:45.689Z"
   },
   {
    "duration": 5,
    "start_time": "2024-08-14T00:40:45.728Z"
   },
   {
    "duration": 4,
    "start_time": "2024-08-14T00:40:45.737Z"
   },
   {
    "duration": 3,
    "start_time": "2024-08-14T00:40:45.748Z"
   },
   {
    "duration": 4,
    "start_time": "2024-08-14T00:40:45.754Z"
   },
   {
    "duration": 4,
    "start_time": "2024-08-14T00:40:45.761Z"
   },
   {
    "duration": 5,
    "start_time": "2024-08-14T00:40:45.767Z"
   },
   {
    "duration": 4,
    "start_time": "2024-08-14T00:40:45.826Z"
   },
   {
    "duration": 452,
    "start_time": "2024-08-14T00:43:08.430Z"
   },
   {
    "duration": 225,
    "start_time": "2024-08-14T00:45:47.133Z"
   },
   {
    "duration": 234,
    "start_time": "2024-08-14T00:46:29.669Z"
   },
   {
    "duration": 91,
    "start_time": "2024-08-14T00:46:41.766Z"
   },
   {
    "duration": 91,
    "start_time": "2024-08-14T00:47:24.629Z"
   },
   {
    "duration": 157,
    "start_time": "2024-08-14T00:47:37.750Z"
   },
   {
    "duration": 1195,
    "start_time": "2024-08-14T00:48:39.286Z"
   },
   {
    "duration": 1219,
    "start_time": "2024-08-14T00:49:09.124Z"
   },
   {
    "duration": 1321,
    "start_time": "2024-08-14T00:49:48.061Z"
   },
   {
    "duration": 4654,
    "start_time": "2024-08-14T00:50:00.809Z"
   },
   {
    "duration": 9,
    "start_time": "2024-08-14T01:11:54.455Z"
   },
   {
    "duration": 7,
    "start_time": "2024-08-14T01:12:11.113Z"
   },
   {
    "duration": 14,
    "start_time": "2024-08-14T01:14:59.680Z"
   },
   {
    "duration": 665,
    "start_time": "2024-08-14T01:20:56.371Z"
   },
   {
    "duration": 1725,
    "start_time": "2024-08-14T01:20:57.040Z"
   },
   {
    "duration": 17,
    "start_time": "2024-08-14T01:20:58.769Z"
   },
   {
    "duration": 33,
    "start_time": "2024-08-14T01:20:58.790Z"
   },
   {
    "duration": 39,
    "start_time": "2024-08-14T01:20:58.826Z"
   },
   {
    "duration": 15,
    "start_time": "2024-08-14T01:20:58.867Z"
   },
   {
    "duration": 45,
    "start_time": "2024-08-14T01:20:58.885Z"
   },
   {
    "duration": 27,
    "start_time": "2024-08-14T01:20:58.933Z"
   },
   {
    "duration": 24,
    "start_time": "2024-08-14T01:20:58.963Z"
   },
   {
    "duration": 101,
    "start_time": "2024-08-14T01:20:59.025Z"
   },
   {
    "duration": 340,
    "start_time": "2024-08-14T01:20:59.130Z"
   },
   {
    "duration": 13,
    "start_time": "2024-08-14T01:20:59.473Z"
   },
   {
    "duration": 33,
    "start_time": "2024-08-14T01:20:59.490Z"
   },
   {
    "duration": 201,
    "start_time": "2024-08-14T01:20:59.526Z"
   },
   {
    "duration": 170,
    "start_time": "2024-08-14T01:20:59.730Z"
   },
   {
    "duration": 20,
    "start_time": "2024-08-14T01:20:59.903Z"
   },
   {
    "duration": 133,
    "start_time": "2024-08-14T01:20:59.927Z"
   },
   {
    "duration": 24,
    "start_time": "2024-08-14T01:21:00.063Z"
   },
   {
    "duration": 9,
    "start_time": "2024-08-14T01:21:00.090Z"
   },
   {
    "duration": 14,
    "start_time": "2024-08-14T01:21:00.124Z"
   },
   {
    "duration": 48,
    "start_time": "2024-08-14T01:21:00.141Z"
   },
   {
    "duration": 19,
    "start_time": "2024-08-14T01:21:00.222Z"
   },
   {
    "duration": 7,
    "start_time": "2024-08-14T01:21:00.244Z"
   },
   {
    "duration": 8,
    "start_time": "2024-08-14T01:21:00.254Z"
   },
   {
    "duration": 6,
    "start_time": "2024-08-14T01:21:00.265Z"
   },
   {
    "duration": 52,
    "start_time": "2024-08-14T01:21:00.275Z"
   },
   {
    "duration": 9,
    "start_time": "2024-08-14T01:21:00.331Z"
   },
   {
    "duration": 7,
    "start_time": "2024-08-14T01:21:00.347Z"
   },
   {
    "duration": 1352,
    "start_time": "2024-08-14T01:21:00.358Z"
   },
   {
    "duration": 251,
    "start_time": "2024-08-14T01:21:01.713Z"
   },
   {
    "duration": 468,
    "start_time": "2024-08-14T01:21:01.966Z"
   },
   {
    "duration": 4707,
    "start_time": "2024-08-14T01:21:02.437Z"
   },
   {
    "duration": 14,
    "start_time": "2024-08-14T01:21:07.147Z"
   },
   {
    "duration": 715,
    "start_time": "2024-08-14T01:21:38.916Z"
   },
   {
    "duration": 1766,
    "start_time": "2024-08-14T01:21:39.635Z"
   },
   {
    "duration": 22,
    "start_time": "2024-08-14T01:21:41.404Z"
   },
   {
    "duration": 18,
    "start_time": "2024-08-14T01:21:41.431Z"
   },
   {
    "duration": 39,
    "start_time": "2024-08-14T01:21:41.453Z"
   },
   {
    "duration": 13,
    "start_time": "2024-08-14T01:21:41.523Z"
   },
   {
    "duration": 14,
    "start_time": "2024-08-14T01:21:41.539Z"
   },
   {
    "duration": 66,
    "start_time": "2024-08-14T01:21:41.557Z"
   },
   {
    "duration": 25,
    "start_time": "2024-08-14T01:21:41.626Z"
   },
   {
    "duration": 117,
    "start_time": "2024-08-14T01:21:41.657Z"
   },
   {
    "duration": 345,
    "start_time": "2024-08-14T01:21:41.778Z"
   },
   {
    "duration": 14,
    "start_time": "2024-08-14T01:21:42.126Z"
   },
   {
    "duration": 7,
    "start_time": "2024-08-14T01:21:42.144Z"
   },
   {
    "duration": 207,
    "start_time": "2024-08-14T01:21:42.154Z"
   },
   {
    "duration": 168,
    "start_time": "2024-08-14T01:21:42.364Z"
   },
   {
    "duration": 10,
    "start_time": "2024-08-14T01:21:42.535Z"
   },
   {
    "duration": 141,
    "start_time": "2024-08-14T01:21:42.547Z"
   },
   {
    "duration": 36,
    "start_time": "2024-08-14T01:21:42.691Z"
   },
   {
    "duration": 9,
    "start_time": "2024-08-14T01:21:42.730Z"
   },
   {
    "duration": 11,
    "start_time": "2024-08-14T01:21:42.742Z"
   },
   {
    "duration": 82,
    "start_time": "2024-08-14T01:21:42.756Z"
   },
   {
    "duration": 18,
    "start_time": "2024-08-14T01:21:42.841Z"
   },
   {
    "duration": 8,
    "start_time": "2024-08-14T01:21:42.862Z"
   },
   {
    "duration": 7,
    "start_time": "2024-08-14T01:21:42.873Z"
   },
   {
    "duration": 6,
    "start_time": "2024-08-14T01:21:42.924Z"
   },
   {
    "duration": 12,
    "start_time": "2024-08-14T01:21:42.933Z"
   },
   {
    "duration": 7,
    "start_time": "2024-08-14T01:21:42.948Z"
   },
   {
    "duration": 6,
    "start_time": "2024-08-14T01:21:42.963Z"
   },
   {
    "duration": 1409,
    "start_time": "2024-08-14T01:21:42.972Z"
   },
   {
    "duration": 253,
    "start_time": "2024-08-14T01:21:44.384Z"
   },
   {
    "duration": 472,
    "start_time": "2024-08-14T01:21:44.640Z"
   },
   {
    "duration": 4918,
    "start_time": "2024-08-14T01:21:45.124Z"
   },
   {
    "duration": 13,
    "start_time": "2024-08-14T01:21:50.045Z"
   },
   {
    "duration": 11,
    "start_time": "2024-08-14T01:25:30.046Z"
   },
   {
    "duration": 313,
    "start_time": "2024-08-14T01:26:12.957Z"
   },
   {
    "duration": 717,
    "start_time": "2024-08-14T01:26:32.208Z"
   },
   {
    "duration": 1703,
    "start_time": "2024-08-14T01:26:32.929Z"
   },
   {
    "duration": 19,
    "start_time": "2024-08-14T01:26:34.635Z"
   },
   {
    "duration": 17,
    "start_time": "2024-08-14T01:26:34.657Z"
   },
   {
    "duration": 66,
    "start_time": "2024-08-14T01:26:34.679Z"
   },
   {
    "duration": 14,
    "start_time": "2024-08-14T01:26:34.748Z"
   },
   {
    "duration": 14,
    "start_time": "2024-08-14T01:26:34.765Z"
   },
   {
    "duration": 57,
    "start_time": "2024-08-14T01:26:34.781Z"
   },
   {
    "duration": 25,
    "start_time": "2024-08-14T01:26:34.841Z"
   },
   {
    "duration": 123,
    "start_time": "2024-08-14T01:26:34.869Z"
   },
   {
    "duration": 331,
    "start_time": "2024-08-14T01:26:34.995Z"
   },
   {
    "duration": 15,
    "start_time": "2024-08-14T01:26:35.329Z"
   },
   {
    "duration": 7,
    "start_time": "2024-08-14T01:26:35.347Z"
   },
   {
    "duration": 208,
    "start_time": "2024-08-14T01:26:35.362Z"
   },
   {
    "duration": 161,
    "start_time": "2024-08-14T01:26:35.573Z"
   },
   {
    "duration": 11,
    "start_time": "2024-08-14T01:26:35.737Z"
   },
   {
    "duration": 134,
    "start_time": "2024-08-14T01:26:35.752Z"
   },
   {
    "duration": 35,
    "start_time": "2024-08-14T01:26:35.890Z"
   },
   {
    "duration": 9,
    "start_time": "2024-08-14T01:26:35.928Z"
   },
   {
    "duration": 10,
    "start_time": "2024-08-14T01:26:35.941Z"
   },
   {
    "duration": 85,
    "start_time": "2024-08-14T01:26:35.954Z"
   },
   {
    "duration": 17,
    "start_time": "2024-08-14T01:26:36.042Z"
   },
   {
    "duration": 6,
    "start_time": "2024-08-14T01:26:36.063Z"
   },
   {
    "duration": 7,
    "start_time": "2024-08-14T01:26:36.072Z"
   },
   {
    "duration": 43,
    "start_time": "2024-08-14T01:26:36.083Z"
   },
   {
    "duration": 10,
    "start_time": "2024-08-14T01:26:36.129Z"
   },
   {
    "duration": 8,
    "start_time": "2024-08-14T01:26:36.142Z"
   },
   {
    "duration": 6,
    "start_time": "2024-08-14T01:26:36.153Z"
   },
   {
    "duration": 1356,
    "start_time": "2024-08-14T01:26:36.162Z"
   },
   {
    "duration": 247,
    "start_time": "2024-08-14T01:26:37.524Z"
   },
   {
    "duration": 465,
    "start_time": "2024-08-14T01:26:37.773Z"
   },
   {
    "duration": 4718,
    "start_time": "2024-08-14T01:26:38.241Z"
   },
   {
    "duration": 12,
    "start_time": "2024-08-14T01:26:42.962Z"
   },
   {
    "duration": 17,
    "start_time": "2024-08-14T01:26:42.977Z"
   },
   {
    "duration": 3,
    "start_time": "2024-08-14T01:26:43.025Z"
   },
   {
    "duration": 4,
    "start_time": "2024-08-14T01:26:43.031Z"
   },
   {
    "duration": 4,
    "start_time": "2024-08-14T01:26:43.038Z"
   },
   {
    "duration": 6,
    "start_time": "2024-08-14T01:26:43.046Z"
   },
   {
    "duration": 3,
    "start_time": "2024-08-14T01:26:43.056Z"
   },
   {
    "duration": 4,
    "start_time": "2024-08-14T01:26:43.062Z"
   },
   {
    "duration": 4,
    "start_time": "2024-08-14T01:26:43.122Z"
   },
   {
    "duration": 4,
    "start_time": "2024-08-14T01:26:43.128Z"
   },
   {
    "duration": 4,
    "start_time": "2024-08-14T01:26:43.135Z"
   },
   {
    "duration": 4,
    "start_time": "2024-08-14T01:26:43.142Z"
   },
   {
    "duration": 8,
    "start_time": "2024-08-14T01:27:45.375Z"
   },
   {
    "duration": 147,
    "start_time": "2024-08-14T01:28:03.834Z"
   },
   {
    "duration": 9,
    "start_time": "2024-08-14T01:28:16.238Z"
   },
   {
    "duration": 44,
    "start_time": "2024-08-14T01:59:13.081Z"
   },
   {
    "duration": 12,
    "start_time": "2024-08-14T01:59:33.669Z"
   },
   {
    "duration": 13,
    "start_time": "2024-08-14T02:00:44.563Z"
   },
   {
    "duration": 13,
    "start_time": "2024-08-14T02:00:56.453Z"
   },
   {
    "duration": 8,
    "start_time": "2024-08-14T02:01:02.261Z"
   },
   {
    "duration": 11,
    "start_time": "2024-08-14T02:12:47.087Z"
   },
   {
    "duration": 4293,
    "start_time": "2024-08-14T03:45:09.184Z"
   },
   {
    "duration": 1697,
    "start_time": "2024-08-14T03:45:13.480Z"
   },
   {
    "duration": 19,
    "start_time": "2024-08-14T03:45:15.180Z"
   },
   {
    "duration": 23,
    "start_time": "2024-08-14T03:45:15.213Z"
   },
   {
    "duration": 39,
    "start_time": "2024-08-14T03:45:15.239Z"
   },
   {
    "duration": 14,
    "start_time": "2024-08-14T03:45:15.308Z"
   },
   {
    "duration": 13,
    "start_time": "2024-08-14T03:45:15.326Z"
   },
   {
    "duration": 28,
    "start_time": "2024-08-14T03:45:15.342Z"
   },
   {
    "duration": 59,
    "start_time": "2024-08-14T03:45:15.372Z"
   },
   {
    "duration": 118,
    "start_time": "2024-08-14T03:45:15.437Z"
   },
   {
    "duration": 320,
    "start_time": "2024-08-14T03:45:15.558Z"
   },
   {
    "duration": 31,
    "start_time": "2024-08-14T03:45:15.882Z"
   },
   {
    "duration": 6,
    "start_time": "2024-08-14T03:45:15.916Z"
   },
   {
    "duration": 193,
    "start_time": "2024-08-14T03:45:15.926Z"
   },
   {
    "duration": 170,
    "start_time": "2024-08-14T03:45:16.121Z"
   },
   {
    "duration": 18,
    "start_time": "2024-08-14T03:45:16.294Z"
   },
   {
    "duration": 127,
    "start_time": "2024-08-14T03:45:16.317Z"
   },
   {
    "duration": 24,
    "start_time": "2024-08-14T03:45:16.446Z"
   },
   {
    "duration": 37,
    "start_time": "2024-08-14T03:45:16.473Z"
   },
   {
    "duration": 11,
    "start_time": "2024-08-14T03:45:16.512Z"
   },
   {
    "duration": 48,
    "start_time": "2024-08-14T03:45:16.526Z"
   },
   {
    "duration": 45,
    "start_time": "2024-08-14T03:45:16.577Z"
   },
   {
    "duration": 8,
    "start_time": "2024-08-14T03:45:16.625Z"
   },
   {
    "duration": 8,
    "start_time": "2024-08-14T03:45:16.636Z"
   },
   {
    "duration": 6,
    "start_time": "2024-08-14T03:45:16.647Z"
   },
   {
    "duration": 59,
    "start_time": "2024-08-14T03:45:16.657Z"
   },
   {
    "duration": 9,
    "start_time": "2024-08-14T03:45:16.719Z"
   },
   {
    "duration": 6,
    "start_time": "2024-08-14T03:45:16.734Z"
   },
   {
    "duration": 1410,
    "start_time": "2024-08-14T03:45:16.743Z"
   },
   {
    "duration": 300,
    "start_time": "2024-08-14T03:45:18.156Z"
   },
   {
    "duration": 491,
    "start_time": "2024-08-14T03:45:18.460Z"
   },
   {
    "duration": 4833,
    "start_time": "2024-08-14T03:45:18.954Z"
   },
   {
    "duration": 23,
    "start_time": "2024-08-14T03:45:23.791Z"
   },
   {
    "duration": 414,
    "start_time": "2024-08-14T03:45:23.820Z"
   },
   {
    "duration": 0,
    "start_time": "2024-08-14T03:45:24.237Z"
   },
   {
    "duration": 0,
    "start_time": "2024-08-14T03:45:24.240Z"
   },
   {
    "duration": 0,
    "start_time": "2024-08-14T03:45:24.241Z"
   },
   {
    "duration": 0,
    "start_time": "2024-08-14T03:45:24.243Z"
   },
   {
    "duration": 0,
    "start_time": "2024-08-14T03:45:24.245Z"
   },
   {
    "duration": 0,
    "start_time": "2024-08-14T03:45:24.248Z"
   },
   {
    "duration": 0,
    "start_time": "2024-08-14T03:45:24.251Z"
   },
   {
    "duration": 0,
    "start_time": "2024-08-14T03:45:24.253Z"
   },
   {
    "duration": 0,
    "start_time": "2024-08-14T03:45:24.256Z"
   },
   {
    "duration": 0,
    "start_time": "2024-08-14T03:45:24.258Z"
   },
   {
    "duration": 0,
    "start_time": "2024-08-14T03:45:24.260Z"
   },
   {
    "duration": 10,
    "start_time": "2024-08-14T03:45:33.822Z"
   },
   {
    "duration": 27,
    "start_time": "2024-08-14T03:46:41.900Z"
   },
   {
    "duration": 14,
    "start_time": "2024-08-14T03:48:49.820Z"
   },
   {
    "duration": 9,
    "start_time": "2024-08-14T03:49:24.397Z"
   },
   {
    "duration": 27,
    "start_time": "2024-08-14T03:51:54.454Z"
   },
   {
    "duration": 27,
    "start_time": "2024-08-14T03:52:00.778Z"
   },
   {
    "duration": 11,
    "start_time": "2024-08-14T03:52:59.578Z"
   },
   {
    "duration": 1330,
    "start_time": "2024-08-14T03:53:44.215Z"
   },
   {
    "duration": 26,
    "start_time": "2024-08-14T03:54:36.872Z"
   },
   {
    "duration": 26,
    "start_time": "2024-08-14T03:54:44.257Z"
   },
   {
    "duration": 12,
    "start_time": "2024-08-14T03:54:50.282Z"
   },
   {
    "duration": 8,
    "start_time": "2024-08-14T04:00:07.558Z"
   },
   {
    "duration": 11,
    "start_time": "2024-08-14T04:00:27.741Z"
   },
   {
    "duration": 11,
    "start_time": "2024-08-14T04:00:47.399Z"
   },
   {
    "duration": 8,
    "start_time": "2024-08-14T04:06:45.419Z"
   },
   {
    "duration": 320,
    "start_time": "2024-08-14T04:07:25.317Z"
   },
   {
    "duration": 738,
    "start_time": "2024-08-14T04:07:44.574Z"
   },
   {
    "duration": 1784,
    "start_time": "2024-08-14T04:07:45.317Z"
   },
   {
    "duration": 18,
    "start_time": "2024-08-14T04:07:47.104Z"
   },
   {
    "duration": 17,
    "start_time": "2024-08-14T04:07:47.127Z"
   },
   {
    "duration": 67,
    "start_time": "2024-08-14T04:07:47.147Z"
   },
   {
    "duration": 14,
    "start_time": "2024-08-14T04:07:47.217Z"
   },
   {
    "duration": 14,
    "start_time": "2024-08-14T04:07:47.234Z"
   },
   {
    "duration": 60,
    "start_time": "2024-08-14T04:07:47.251Z"
   },
   {
    "duration": 25,
    "start_time": "2024-08-14T04:07:47.315Z"
   },
   {
    "duration": 123,
    "start_time": "2024-08-14T04:07:47.347Z"
   },
   {
    "duration": 326,
    "start_time": "2024-08-14T04:07:47.473Z"
   },
   {
    "duration": 19,
    "start_time": "2024-08-14T04:07:47.802Z"
   },
   {
    "duration": 7,
    "start_time": "2024-08-14T04:07:47.824Z"
   },
   {
    "duration": 207,
    "start_time": "2024-08-14T04:07:47.836Z"
   },
   {
    "duration": 184,
    "start_time": "2024-08-14T04:07:48.046Z"
   },
   {
    "duration": 10,
    "start_time": "2024-08-14T04:07:48.233Z"
   },
   {
    "duration": 133,
    "start_time": "2024-08-14T04:07:48.246Z"
   },
   {
    "duration": 38,
    "start_time": "2024-08-14T04:07:48.382Z"
   },
   {
    "duration": 10,
    "start_time": "2024-08-14T04:07:48.422Z"
   },
   {
    "duration": 11,
    "start_time": "2024-08-14T04:07:48.435Z"
   },
   {
    "duration": 86,
    "start_time": "2024-08-14T04:07:48.449Z"
   },
   {
    "duration": 19,
    "start_time": "2024-08-14T04:07:48.537Z"
   },
   {
    "duration": 7,
    "start_time": "2024-08-14T04:07:48.559Z"
   },
   {
    "duration": 42,
    "start_time": "2024-08-14T04:07:48.569Z"
   },
   {
    "duration": 11,
    "start_time": "2024-08-14T04:07:48.614Z"
   },
   {
    "duration": 11,
    "start_time": "2024-08-14T04:07:48.627Z"
   },
   {
    "duration": 8,
    "start_time": "2024-08-14T04:07:48.641Z"
   },
   {
    "duration": 6,
    "start_time": "2024-08-14T04:07:48.657Z"
   },
   {
    "duration": 1315,
    "start_time": "2024-08-14T04:07:48.710Z"
   },
   {
    "duration": 265,
    "start_time": "2024-08-14T04:07:50.028Z"
   },
   {
    "duration": 463,
    "start_time": "2024-08-14T04:07:50.296Z"
   },
   {
    "duration": 4688,
    "start_time": "2024-08-14T04:07:50.762Z"
   },
   {
    "duration": 14,
    "start_time": "2024-08-14T04:07:55.453Z"
   },
   {
    "duration": 10,
    "start_time": "2024-08-14T04:07:55.469Z"
   },
   {
    "duration": 37,
    "start_time": "2024-08-14T04:07:55.482Z"
   },
   {
    "duration": 12,
    "start_time": "2024-08-14T04:07:55.525Z"
   },
   {
    "duration": 21,
    "start_time": "2024-08-14T04:07:55.541Z"
   },
   {
    "duration": 4,
    "start_time": "2024-08-14T04:07:55.567Z"
   },
   {
    "duration": 4,
    "start_time": "2024-08-14T04:07:55.611Z"
   },
   {
    "duration": 4,
    "start_time": "2024-08-14T04:07:55.619Z"
   },
   {
    "duration": 4,
    "start_time": "2024-08-14T04:07:55.627Z"
   },
   {
    "duration": 3,
    "start_time": "2024-08-14T04:07:55.634Z"
   },
   {
    "duration": 5,
    "start_time": "2024-08-14T04:07:55.640Z"
   },
   {
    "duration": 3,
    "start_time": "2024-08-14T04:07:55.648Z"
   },
   {
    "duration": 3,
    "start_time": "2024-08-14T04:07:55.712Z"
   },
   {
    "duration": 4,
    "start_time": "2024-08-14T04:07:55.718Z"
   },
   {
    "duration": 959,
    "start_time": "2024-08-14T04:08:51.667Z"
   },
   {
    "duration": 12,
    "start_time": "2024-08-14T04:09:06.546Z"
   },
   {
    "duration": 10,
    "start_time": "2024-08-14T04:11:14.272Z"
   },
   {
    "duration": 32,
    "start_time": "2024-08-14T04:15:28.894Z"
   },
   {
    "duration": 28,
    "start_time": "2024-08-14T04:15:44.037Z"
   },
   {
    "duration": 5,
    "start_time": "2024-08-14T04:16:57.567Z"
   },
   {
    "duration": 25,
    "start_time": "2024-08-14T04:17:03.431Z"
   },
   {
    "duration": 9,
    "start_time": "2024-08-14T04:17:23.149Z"
   },
   {
    "duration": 13,
    "start_time": "2024-08-14T04:17:32.445Z"
   },
   {
    "duration": 669,
    "start_time": "2024-08-14T04:18:38.680Z"
   },
   {
    "duration": 1600,
    "start_time": "2024-08-14T04:18:39.353Z"
   },
   {
    "duration": 21,
    "start_time": "2024-08-14T04:18:40.957Z"
   },
   {
    "duration": 35,
    "start_time": "2024-08-14T04:18:40.983Z"
   },
   {
    "duration": 43,
    "start_time": "2024-08-14T04:18:41.023Z"
   },
   {
    "duration": 45,
    "start_time": "2024-08-14T04:18:41.069Z"
   },
   {
    "duration": 16,
    "start_time": "2024-08-14T04:18:41.118Z"
   },
   {
    "duration": 71,
    "start_time": "2024-08-14T04:18:41.138Z"
   },
   {
    "duration": 28,
    "start_time": "2024-08-14T04:18:41.213Z"
   },
   {
    "duration": 131,
    "start_time": "2024-08-14T04:18:41.248Z"
   },
   {
    "duration": 475,
    "start_time": "2024-08-14T04:18:41.382Z"
   },
   {
    "duration": 17,
    "start_time": "2024-08-14T04:18:41.861Z"
   },
   {
    "duration": 8,
    "start_time": "2024-08-14T04:18:41.908Z"
   },
   {
    "duration": 210,
    "start_time": "2024-08-14T04:18:41.921Z"
   },
   {
    "duration": 244,
    "start_time": "2024-08-14T04:18:42.135Z"
   },
   {
    "duration": 11,
    "start_time": "2024-08-14T04:18:42.382Z"
   },
   {
    "duration": 131,
    "start_time": "2024-08-14T04:18:42.411Z"
   },
   {
    "duration": 24,
    "start_time": "2024-08-14T04:18:42.546Z"
   },
   {
    "duration": 33,
    "start_time": "2024-08-14T04:18:42.575Z"
   },
   {
    "duration": 11,
    "start_time": "2024-08-14T04:18:42.611Z"
   },
   {
    "duration": 49,
    "start_time": "2024-08-14T04:18:42.625Z"
   },
   {
    "duration": 46,
    "start_time": "2024-08-14T04:18:42.676Z"
   },
   {
    "duration": 8,
    "start_time": "2024-08-14T04:18:42.724Z"
   },
   {
    "duration": 10,
    "start_time": "2024-08-14T04:18:42.736Z"
   },
   {
    "duration": 7,
    "start_time": "2024-08-14T04:18:42.749Z"
   },
   {
    "duration": 55,
    "start_time": "2024-08-14T04:18:42.759Z"
   },
   {
    "duration": 7,
    "start_time": "2024-08-14T04:18:42.817Z"
   },
   {
    "duration": 6,
    "start_time": "2024-08-14T04:18:42.832Z"
   },
   {
    "duration": 1345,
    "start_time": "2024-08-14T04:18:42.842Z"
   },
   {
    "duration": 254,
    "start_time": "2024-08-14T04:18:44.190Z"
   },
   {
    "duration": 502,
    "start_time": "2024-08-14T04:18:44.447Z"
   },
   {
    "duration": 4847,
    "start_time": "2024-08-14T04:18:44.952Z"
   },
   {
    "duration": 19,
    "start_time": "2024-08-14T04:18:49.811Z"
   },
   {
    "duration": 14,
    "start_time": "2024-08-14T04:18:49.834Z"
   },
   {
    "duration": 11,
    "start_time": "2024-08-14T04:18:49.852Z"
   },
   {
    "duration": 14,
    "start_time": "2024-08-14T04:18:49.911Z"
   },
   {
    "duration": 7,
    "start_time": "2024-08-14T04:18:49.929Z"
   },
   {
    "duration": 4,
    "start_time": "2024-08-14T04:18:49.939Z"
   },
   {
    "duration": 5,
    "start_time": "2024-08-14T04:18:49.947Z"
   },
   {
    "duration": 3,
    "start_time": "2024-08-14T04:18:49.957Z"
   },
   {
    "duration": 3,
    "start_time": "2024-08-14T04:18:50.011Z"
   },
   {
    "duration": 4,
    "start_time": "2024-08-14T04:18:50.018Z"
   },
   {
    "duration": 4,
    "start_time": "2024-08-14T04:18:50.026Z"
   },
   {
    "duration": 4,
    "start_time": "2024-08-14T04:18:50.033Z"
   },
   {
    "duration": 4,
    "start_time": "2024-08-14T04:18:50.040Z"
   },
   {
    "duration": 10,
    "start_time": "2024-08-14T04:19:18.114Z"
   },
   {
    "duration": 9,
    "start_time": "2024-08-14T04:20:02.211Z"
   },
   {
    "duration": 4285,
    "start_time": "2024-08-14T05:05:55.884Z"
   },
   {
    "duration": 1689,
    "start_time": "2024-08-14T05:06:00.172Z"
   },
   {
    "duration": 19,
    "start_time": "2024-08-14T05:06:01.864Z"
   },
   {
    "duration": 35,
    "start_time": "2024-08-14T05:06:01.889Z"
   },
   {
    "duration": 39,
    "start_time": "2024-08-14T05:06:01.926Z"
   },
   {
    "duration": 14,
    "start_time": "2024-08-14T05:06:01.968Z"
   },
   {
    "duration": 47,
    "start_time": "2024-08-14T05:06:01.985Z"
   },
   {
    "duration": 29,
    "start_time": "2024-08-14T05:06:02.035Z"
   },
   {
    "duration": 57,
    "start_time": "2024-08-14T05:06:02.067Z"
   },
   {
    "duration": 107,
    "start_time": "2024-08-14T05:06:02.130Z"
   },
   {
    "duration": 333,
    "start_time": "2024-08-14T05:06:02.240Z"
   },
   {
    "duration": 13,
    "start_time": "2024-08-14T05:06:02.576Z"
   },
   {
    "duration": 7,
    "start_time": "2024-08-14T05:06:02.592Z"
   },
   {
    "duration": 185,
    "start_time": "2024-08-14T05:06:02.624Z"
   },
   {
    "duration": 172,
    "start_time": "2024-08-14T05:06:02.812Z"
   },
   {
    "duration": 10,
    "start_time": "2024-08-14T05:06:02.987Z"
   },
   {
    "duration": 139,
    "start_time": "2024-08-14T05:06:03.000Z"
   },
   {
    "duration": 24,
    "start_time": "2024-08-14T05:06:03.143Z"
   },
   {
    "duration": 9,
    "start_time": "2024-08-14T05:06:03.170Z"
   },
   {
    "duration": 44,
    "start_time": "2024-08-14T05:06:03.182Z"
   },
   {
    "duration": 50,
    "start_time": "2024-08-14T05:06:03.229Z"
   },
   {
    "duration": 42,
    "start_time": "2024-08-14T05:06:03.282Z"
   },
   {
    "duration": 7,
    "start_time": "2024-08-14T05:06:03.327Z"
   },
   {
    "duration": 7,
    "start_time": "2024-08-14T05:06:03.337Z"
   },
   {
    "duration": 7,
    "start_time": "2024-08-14T05:06:03.348Z"
   },
   {
    "duration": 12,
    "start_time": "2024-08-14T05:06:03.358Z"
   },
   {
    "duration": 7,
    "start_time": "2024-08-14T05:06:03.424Z"
   },
   {
    "duration": 6,
    "start_time": "2024-08-14T05:06:03.438Z"
   },
   {
    "duration": 1377,
    "start_time": "2024-08-14T05:06:03.447Z"
   },
   {
    "duration": 256,
    "start_time": "2024-08-14T05:06:04.829Z"
   },
   {
    "duration": 484,
    "start_time": "2024-08-14T05:06:05.088Z"
   },
   {
    "duration": 4800,
    "start_time": "2024-08-14T05:06:05.575Z"
   },
   {
    "duration": 13,
    "start_time": "2024-08-14T05:06:10.378Z"
   },
   {
    "duration": 29,
    "start_time": "2024-08-14T05:06:10.394Z"
   },
   {
    "duration": 13,
    "start_time": "2024-08-14T05:06:10.426Z"
   },
   {
    "duration": 14,
    "start_time": "2024-08-14T05:06:10.442Z"
   },
   {
    "duration": 3,
    "start_time": "2024-08-14T05:06:10.460Z"
   },
   {
    "duration": 4,
    "start_time": "2024-08-14T05:06:10.467Z"
   },
   {
    "duration": 50,
    "start_time": "2024-08-14T05:06:10.474Z"
   },
   {
    "duration": 5,
    "start_time": "2024-08-14T05:06:10.527Z"
   },
   {
    "duration": 3,
    "start_time": "2024-08-14T05:06:10.538Z"
   },
   {
    "duration": 5,
    "start_time": "2024-08-14T05:06:10.544Z"
   },
   {
    "duration": 7,
    "start_time": "2024-08-14T05:06:10.552Z"
   },
   {
    "duration": 5,
    "start_time": "2024-08-14T05:06:10.562Z"
   },
   {
    "duration": 4,
    "start_time": "2024-08-14T05:06:10.570Z"
   },
   {
    "duration": 453,
    "start_time": "2024-08-14T05:06:26.944Z"
   },
   {
    "duration": 17,
    "start_time": "2024-08-14T05:07:32.743Z"
   },
   {
    "duration": 4,
    "start_time": "2024-08-14T05:12:47.767Z"
   },
   {
    "duration": 23,
    "start_time": "2024-08-14T05:16:49.565Z"
   },
   {
    "duration": 655,
    "start_time": "2024-08-14T05:17:01.574Z"
   },
   {
    "duration": 1597,
    "start_time": "2024-08-14T05:17:02.233Z"
   },
   {
    "duration": 18,
    "start_time": "2024-08-14T05:17:03.835Z"
   },
   {
    "duration": 17,
    "start_time": "2024-08-14T05:17:03.858Z"
   },
   {
    "duration": 71,
    "start_time": "2024-08-14T05:17:03.878Z"
   },
   {
    "duration": 15,
    "start_time": "2024-08-14T05:17:03.952Z"
   },
   {
    "duration": 17,
    "start_time": "2024-08-14T05:17:03.970Z"
   },
   {
    "duration": 53,
    "start_time": "2024-08-14T05:17:03.991Z"
   },
   {
    "duration": 24,
    "start_time": "2024-08-14T05:17:04.047Z"
   },
   {
    "duration": 126,
    "start_time": "2024-08-14T05:17:04.077Z"
   },
   {
    "duration": 319,
    "start_time": "2024-08-14T05:17:04.207Z"
   },
   {
    "duration": 13,
    "start_time": "2024-08-14T05:17:04.529Z"
   },
   {
    "duration": 7,
    "start_time": "2024-08-14T05:17:04.545Z"
   },
   {
    "duration": 198,
    "start_time": "2024-08-14T05:17:04.555Z"
   },
   {
    "duration": 166,
    "start_time": "2024-08-14T05:17:04.755Z"
   },
   {
    "duration": 10,
    "start_time": "2024-08-14T05:17:04.924Z"
   },
   {
    "duration": 129,
    "start_time": "2024-08-14T05:17:04.936Z"
   },
   {
    "duration": 24,
    "start_time": "2024-08-14T05:17:05.068Z"
   },
   {
    "duration": 32,
    "start_time": "2024-08-14T05:17:05.095Z"
   },
   {
    "duration": 10,
    "start_time": "2024-08-14T05:17:05.130Z"
   },
   {
    "duration": 48,
    "start_time": "2024-08-14T05:17:05.144Z"
   },
   {
    "duration": 17,
    "start_time": "2024-08-14T05:17:05.223Z"
   },
   {
    "duration": 7,
    "start_time": "2024-08-14T05:17:05.243Z"
   },
   {
    "duration": 7,
    "start_time": "2024-08-14T05:17:05.253Z"
   },
   {
    "duration": 7,
    "start_time": "2024-08-14T05:17:05.263Z"
   },
   {
    "duration": 12,
    "start_time": "2024-08-14T05:17:05.322Z"
   },
   {
    "duration": 7,
    "start_time": "2024-08-14T05:17:05.338Z"
   },
   {
    "duration": 6,
    "start_time": "2024-08-14T05:17:05.353Z"
   },
   {
    "duration": 1350,
    "start_time": "2024-08-14T05:17:05.363Z"
   },
   {
    "duration": 239,
    "start_time": "2024-08-14T05:17:06.724Z"
   },
   {
    "duration": 457,
    "start_time": "2024-08-14T05:17:06.966Z"
   },
   {
    "duration": 4719,
    "start_time": "2024-08-14T05:17:07.425Z"
   },
   {
    "duration": 12,
    "start_time": "2024-08-14T05:17:12.148Z"
   },
   {
    "duration": 10,
    "start_time": "2024-08-14T05:17:12.163Z"
   },
   {
    "duration": 9,
    "start_time": "2024-08-14T05:17:12.176Z"
   },
   {
    "duration": 13,
    "start_time": "2024-08-14T05:17:12.223Z"
   },
   {
    "duration": 16,
    "start_time": "2024-08-14T05:17:12.239Z"
   },
   {
    "duration": 379,
    "start_time": "2024-08-14T05:17:12.258Z"
   },
   {
    "duration": 0,
    "start_time": "2024-08-14T05:17:12.639Z"
   },
   {
    "duration": 0,
    "start_time": "2024-08-14T05:17:12.643Z"
   },
   {
    "duration": 0,
    "start_time": "2024-08-14T05:17:12.644Z"
   },
   {
    "duration": 0,
    "start_time": "2024-08-14T05:17:12.646Z"
   },
   {
    "duration": 0,
    "start_time": "2024-08-14T05:17:12.649Z"
   },
   {
    "duration": 0,
    "start_time": "2024-08-14T05:17:12.651Z"
   },
   {
    "duration": 0,
    "start_time": "2024-08-14T05:17:12.654Z"
   },
   {
    "duration": 25,
    "start_time": "2024-08-14T05:17:20.746Z"
   },
   {
    "duration": 9,
    "start_time": "2024-08-14T05:17:34.291Z"
   },
   {
    "duration": 11,
    "start_time": "2024-08-14T05:18:22.127Z"
   },
   {
    "duration": 818,
    "start_time": "2024-08-14T05:29:54.057Z"
   },
   {
    "duration": 23,
    "start_time": "2024-08-14T05:30:14.385Z"
   },
   {
    "duration": 15,
    "start_time": "2024-08-14T05:31:52.409Z"
   },
   {
    "duration": 81,
    "start_time": "2024-08-14T05:34:33.461Z"
   },
   {
    "duration": 8,
    "start_time": "2024-08-14T05:34:49.862Z"
   },
   {
    "duration": 7,
    "start_time": "2024-08-14T05:37:28.758Z"
   },
   {
    "duration": 9,
    "start_time": "2024-08-14T05:37:46.326Z"
   },
   {
    "duration": 11,
    "start_time": "2024-08-14T05:37:51.742Z"
   },
   {
    "duration": 13,
    "start_time": "2024-08-14T05:38:52.495Z"
   },
   {
    "duration": 14,
    "start_time": "2024-08-14T05:40:07.324Z"
   },
   {
    "duration": 8,
    "start_time": "2024-08-14T05:40:09.442Z"
   },
   {
    "duration": 15,
    "start_time": "2024-08-14T05:40:16.393Z"
   },
   {
    "duration": 27,
    "start_time": "2024-08-14T05:40:49.123Z"
   },
   {
    "duration": 9,
    "start_time": "2024-08-14T05:41:18.802Z"
   },
   {
    "duration": 10,
    "start_time": "2024-08-14T05:41:39.874Z"
   },
   {
    "duration": 9,
    "start_time": "2024-08-14T05:42:58.042Z"
   },
   {
    "duration": 6,
    "start_time": "2024-08-14T05:43:24.457Z"
   },
   {
    "duration": 11,
    "start_time": "2024-08-14T05:43:38.457Z"
   },
   {
    "duration": 4446,
    "start_time": "2024-08-15T00:52:49.937Z"
   },
   {
    "duration": 1703,
    "start_time": "2024-08-15T00:52:54.390Z"
   },
   {
    "duration": 32,
    "start_time": "2024-08-15T00:52:56.096Z"
   },
   {
    "duration": 19,
    "start_time": "2024-08-15T00:52:56.132Z"
   },
   {
    "duration": 83,
    "start_time": "2024-08-15T00:52:56.154Z"
   },
   {
    "duration": 15,
    "start_time": "2024-08-15T00:52:56.240Z"
   },
   {
    "duration": 45,
    "start_time": "2024-08-15T00:52:56.259Z"
   },
   {
    "duration": 37,
    "start_time": "2024-08-15T00:52:56.321Z"
   },
   {
    "duration": 37,
    "start_time": "2024-08-15T00:52:56.365Z"
   },
   {
    "duration": 110,
    "start_time": "2024-08-15T00:52:56.410Z"
   },
   {
    "duration": 394,
    "start_time": "2024-08-15T00:52:56.526Z"
   },
   {
    "duration": 14,
    "start_time": "2024-08-15T00:52:56.924Z"
   },
   {
    "duration": 8,
    "start_time": "2024-08-15T00:52:56.941Z"
   },
   {
    "duration": 248,
    "start_time": "2024-08-15T00:52:56.953Z"
   },
   {
    "duration": 176,
    "start_time": "2024-08-15T00:52:57.204Z"
   },
   {
    "duration": 25,
    "start_time": "2024-08-15T00:52:57.383Z"
   },
   {
    "duration": 133,
    "start_time": "2024-08-15T00:52:57.411Z"
   },
   {
    "duration": 25,
    "start_time": "2024-08-15T00:52:57.547Z"
   },
   {
    "duration": 30,
    "start_time": "2024-08-15T00:52:57.574Z"
   },
   {
    "duration": 11,
    "start_time": "2024-08-15T00:52:57.608Z"
   },
   {
    "duration": 80,
    "start_time": "2024-08-15T00:52:57.623Z"
   },
   {
    "duration": 16,
    "start_time": "2024-08-15T00:52:57.707Z"
   },
   {
    "duration": 7,
    "start_time": "2024-08-15T00:52:57.726Z"
   },
   {
    "duration": 7,
    "start_time": "2024-08-15T00:52:57.736Z"
   },
   {
    "duration": 6,
    "start_time": "2024-08-15T00:52:57.747Z"
   },
   {
    "duration": 12,
    "start_time": "2024-08-15T00:52:57.804Z"
   },
   {
    "duration": 9,
    "start_time": "2024-08-15T00:52:57.819Z"
   },
   {
    "duration": 7,
    "start_time": "2024-08-15T00:52:57.836Z"
   },
   {
    "duration": 1497,
    "start_time": "2024-08-15T00:52:57.846Z"
   },
   {
    "duration": 308,
    "start_time": "2024-08-15T00:52:59.346Z"
   },
   {
    "duration": 471,
    "start_time": "2024-08-15T00:52:59.656Z"
   },
   {
    "duration": 5021,
    "start_time": "2024-08-15T00:53:00.131Z"
   },
   {
    "duration": 15,
    "start_time": "2024-08-15T00:53:05.155Z"
   },
   {
    "duration": 32,
    "start_time": "2024-08-15T00:53:05.173Z"
   },
   {
    "duration": 10,
    "start_time": "2024-08-15T00:53:05.209Z"
   },
   {
    "duration": 13,
    "start_time": "2024-08-15T00:53:05.223Z"
   },
   {
    "duration": 18,
    "start_time": "2024-08-15T00:53:05.239Z"
   },
   {
    "duration": 11,
    "start_time": "2024-08-15T00:53:05.303Z"
   },
   {
    "duration": 15,
    "start_time": "2024-08-15T00:53:05.318Z"
   },
   {
    "duration": 9,
    "start_time": "2024-08-15T00:53:05.336Z"
   },
   {
    "duration": 58,
    "start_time": "2024-08-15T00:53:05.348Z"
   },
   {
    "duration": 11,
    "start_time": "2024-08-15T00:53:05.409Z"
   },
   {
    "duration": 4,
    "start_time": "2024-08-15T00:53:05.423Z"
   },
   {
    "duration": 3,
    "start_time": "2024-08-15T00:53:05.431Z"
   },
   {
    "duration": 3,
    "start_time": "2024-08-15T00:53:05.438Z"
   },
   {
    "duration": 29,
    "start_time": "2024-08-15T00:55:01.501Z"
   },
   {
    "duration": 45,
    "start_time": "2024-08-15T00:56:06.182Z"
   },
   {
    "duration": 14,
    "start_time": "2024-08-15T00:56:27.617Z"
   },
   {
    "duration": 38,
    "start_time": "2024-08-15T00:57:07.208Z"
   },
   {
    "duration": 11,
    "start_time": "2024-08-15T01:28:35.566Z"
   },
   {
    "duration": 21,
    "start_time": "2024-08-15T01:29:03.263Z"
   },
   {
    "duration": 312,
    "start_time": "2024-08-15T01:32:06.106Z"
   },
   {
    "duration": 15,
    "start_time": "2024-08-15T01:32:24.819Z"
   },
   {
    "duration": 58,
    "start_time": "2024-08-15T01:41:45.966Z"
   },
   {
    "duration": 10,
    "start_time": "2024-08-15T01:43:51.437Z"
   },
   {
    "duration": 57,
    "start_time": "2024-08-15T01:45:16.972Z"
   },
   {
    "duration": 53,
    "start_time": "2024-08-15T01:55:39.427Z"
   },
   {
    "duration": 15,
    "start_time": "2024-08-15T02:02:11.362Z"
   },
   {
    "duration": 19,
    "start_time": "2024-08-15T02:02:27.132Z"
   },
   {
    "duration": 14,
    "start_time": "2024-08-15T02:02:41.101Z"
   },
   {
    "duration": 14,
    "start_time": "2024-08-15T02:03:23.044Z"
   },
   {
    "duration": 9,
    "start_time": "2024-08-15T02:03:47.023Z"
   },
   {
    "duration": 4310,
    "start_time": "2024-08-15T03:04:21.927Z"
   },
   {
    "duration": 1734,
    "start_time": "2024-08-15T03:04:26.242Z"
   },
   {
    "duration": 20,
    "start_time": "2024-08-15T03:04:27.979Z"
   },
   {
    "duration": 29,
    "start_time": "2024-08-15T03:04:28.003Z"
   },
   {
    "duration": 39,
    "start_time": "2024-08-15T03:04:28.037Z"
   },
   {
    "duration": 15,
    "start_time": "2024-08-15T03:04:28.078Z"
   },
   {
    "duration": 14,
    "start_time": "2024-08-15T03:04:28.128Z"
   },
   {
    "duration": 28,
    "start_time": "2024-08-15T03:04:28.145Z"
   },
   {
    "duration": 58,
    "start_time": "2024-08-15T03:04:28.176Z"
   },
   {
    "duration": 108,
    "start_time": "2024-08-15T03:04:28.240Z"
   },
   {
    "duration": 326,
    "start_time": "2024-08-15T03:04:28.351Z"
   },
   {
    "duration": 13,
    "start_time": "2024-08-15T03:04:28.680Z"
   },
   {
    "duration": 7,
    "start_time": "2024-08-15T03:04:28.696Z"
   },
   {
    "duration": 187,
    "start_time": "2024-08-15T03:04:28.727Z"
   },
   {
    "duration": 163,
    "start_time": "2024-08-15T03:04:28.917Z"
   },
   {
    "duration": 10,
    "start_time": "2024-08-15T03:04:29.083Z"
   },
   {
    "duration": 135,
    "start_time": "2024-08-15T03:04:29.096Z"
   },
   {
    "duration": 27,
    "start_time": "2024-08-15T03:04:29.234Z"
   },
   {
    "duration": 9,
    "start_time": "2024-08-15T03:04:29.264Z"
   },
   {
    "duration": 69,
    "start_time": "2024-08-15T03:04:29.276Z"
   },
   {
    "duration": 22,
    "start_time": "2024-08-15T03:04:29.348Z"
   },
   {
    "duration": 14,
    "start_time": "2024-08-15T03:04:29.373Z"
   },
   {
    "duration": 37,
    "start_time": "2024-08-15T03:04:29.390Z"
   },
   {
    "duration": 6,
    "start_time": "2024-08-15T03:04:29.430Z"
   },
   {
    "duration": 7,
    "start_time": "2024-08-15T03:04:29.439Z"
   },
   {
    "duration": 7,
    "start_time": "2024-08-15T03:04:29.450Z"
   },
   {
    "duration": 1367,
    "start_time": "2024-08-15T03:04:29.460Z"
   },
   {
    "duration": 461,
    "start_time": "2024-08-15T03:04:30.835Z"
   },
   {
    "duration": 4727,
    "start_time": "2024-08-15T03:04:31.299Z"
   },
   {
    "duration": 13,
    "start_time": "2024-08-15T03:04:36.029Z"
   },
   {
    "duration": 8,
    "start_time": "2024-08-15T03:04:36.047Z"
   },
   {
    "duration": 12,
    "start_time": "2024-08-15T03:04:36.059Z"
   },
   {
    "duration": 54,
    "start_time": "2024-08-15T03:04:36.074Z"
   },
   {
    "duration": 11,
    "start_time": "2024-08-15T03:04:36.132Z"
   },
   {
    "duration": 13,
    "start_time": "2024-08-15T03:04:36.146Z"
   },
   {
    "duration": 7,
    "start_time": "2024-08-15T03:04:36.162Z"
   },
   {
    "duration": 70,
    "start_time": "2024-08-15T03:04:36.172Z"
   },
   {
    "duration": 55,
    "start_time": "2024-08-15T03:04:36.245Z"
   },
   {
    "duration": 14,
    "start_time": "2024-08-15T03:04:36.328Z"
   },
   {
    "duration": 4,
    "start_time": "2024-08-15T03:04:36.344Z"
   },
   {
    "duration": 4,
    "start_time": "2024-08-15T03:04:36.351Z"
   },
   {
    "duration": 11,
    "start_time": "2024-08-15T03:09:46.665Z"
   },
   {
    "duration": 11,
    "start_time": "2024-08-15T03:12:49.392Z"
   },
   {
    "duration": 428,
    "start_time": "2024-08-15T03:26:45.568Z"
   },
   {
    "duration": 374,
    "start_time": "2024-08-15T03:39:53.720Z"
   },
   {
    "duration": 15,
    "start_time": "2024-08-15T03:47:20.221Z"
   },
   {
    "duration": 43,
    "start_time": "2024-08-15T03:47:37.204Z"
   },
   {
    "duration": 371,
    "start_time": "2024-08-15T03:48:28.622Z"
   },
   {
    "duration": 11,
    "start_time": "2024-08-15T04:01:53.260Z"
   },
   {
    "duration": 1363,
    "start_time": "2024-08-15T04:03:19.885Z"
   },
   {
    "duration": 443,
    "start_time": "2024-08-15T04:07:09.283Z"
   },
   {
    "duration": 430,
    "start_time": "2024-08-15T04:08:16.784Z"
   },
   {
    "duration": 398,
    "start_time": "2024-08-15T04:08:30.162Z"
   },
   {
    "duration": 409,
    "start_time": "2024-08-15T04:08:47.008Z"
   },
   {
    "duration": 868,
    "start_time": "2024-08-15T04:26:22.031Z"
   },
   {
    "duration": 11,
    "start_time": "2024-08-15T04:27:01.110Z"
   },
   {
    "duration": 459,
    "start_time": "2024-08-15T04:27:08.558Z"
   },
   {
    "duration": 11,
    "start_time": "2024-08-15T04:28:19.335Z"
   },
   {
    "duration": 433,
    "start_time": "2024-08-15T04:31:31.907Z"
   },
   {
    "duration": 424,
    "start_time": "2024-08-15T04:31:52.755Z"
   },
   {
    "duration": 390,
    "start_time": "2024-08-15T04:33:56.272Z"
   },
   {
    "duration": 410,
    "start_time": "2024-08-15T04:39:01.018Z"
   },
   {
    "duration": 427,
    "start_time": "2024-08-15T04:45:23.757Z"
   },
   {
    "duration": 27,
    "start_time": "2024-08-15T04:50:08.914Z"
   },
   {
    "duration": 42,
    "start_time": "2024-08-15T04:50:17.038Z"
   },
   {
    "duration": 34,
    "start_time": "2024-08-15T04:50:28.683Z"
   },
   {
    "duration": 4227,
    "start_time": "2024-08-15T16:42:43.087Z"
   },
   {
    "duration": 1642,
    "start_time": "2024-08-15T16:42:47.318Z"
   },
   {
    "duration": 17,
    "start_time": "2024-08-15T16:42:48.963Z"
   },
   {
    "duration": 15,
    "start_time": "2024-08-15T16:42:48.984Z"
   },
   {
    "duration": 62,
    "start_time": "2024-08-15T16:42:49.003Z"
   },
   {
    "duration": 23,
    "start_time": "2024-08-15T16:42:49.068Z"
   },
   {
    "duration": 31,
    "start_time": "2024-08-15T16:42:49.094Z"
   },
   {
    "duration": 28,
    "start_time": "2024-08-15T16:42:49.128Z"
   },
   {
    "duration": 27,
    "start_time": "2024-08-15T16:42:49.159Z"
   },
   {
    "duration": 102,
    "start_time": "2024-08-15T16:42:49.225Z"
   },
   {
    "duration": 314,
    "start_time": "2024-08-15T16:42:49.329Z"
   },
   {
    "duration": 18,
    "start_time": "2024-08-15T16:42:49.646Z"
   },
   {
    "duration": 6,
    "start_time": "2024-08-15T16:42:49.668Z"
   },
   {
    "duration": 211,
    "start_time": "2024-08-15T16:42:49.677Z"
   },
   {
    "duration": 169,
    "start_time": "2024-08-15T16:42:49.891Z"
   },
   {
    "duration": 9,
    "start_time": "2024-08-15T16:42:50.063Z"
   },
   {
    "duration": 130,
    "start_time": "2024-08-15T16:42:50.076Z"
   },
   {
    "duration": 42,
    "start_time": "2024-08-15T16:42:50.209Z"
   },
   {
    "duration": 10,
    "start_time": "2024-08-15T16:42:50.254Z"
   },
   {
    "duration": 66,
    "start_time": "2024-08-15T16:42:50.270Z"
   },
   {
    "duration": 21,
    "start_time": "2024-08-15T16:42:50.339Z"
   },
   {
    "duration": 15,
    "start_time": "2024-08-15T16:42:50.364Z"
   },
   {
    "duration": 43,
    "start_time": "2024-08-15T16:42:50.382Z"
   },
   {
    "duration": 9,
    "start_time": "2024-08-15T16:42:50.429Z"
   },
   {
    "duration": 7,
    "start_time": "2024-08-15T16:42:50.441Z"
   },
   {
    "duration": 7,
    "start_time": "2024-08-15T16:42:50.451Z"
   },
   {
    "duration": 1364,
    "start_time": "2024-08-15T16:42:50.462Z"
   },
   {
    "duration": 465,
    "start_time": "2024-08-15T16:42:51.833Z"
   },
   {
    "duration": 4693,
    "start_time": "2024-08-15T16:42:52.300Z"
   },
   {
    "duration": 30,
    "start_time": "2024-08-15T16:42:56.996Z"
   },
   {
    "duration": 9,
    "start_time": "2024-08-15T16:42:57.029Z"
   },
   {
    "duration": 10,
    "start_time": "2024-08-15T16:42:57.042Z"
   },
   {
    "duration": 20,
    "start_time": "2024-08-15T16:42:57.055Z"
   },
   {
    "duration": 47,
    "start_time": "2024-08-15T16:42:57.078Z"
   },
   {
    "duration": 14,
    "start_time": "2024-08-15T16:42:57.128Z"
   },
   {
    "duration": 8,
    "start_time": "2024-08-15T16:42:57.145Z"
   },
   {
    "duration": 19,
    "start_time": "2024-08-15T16:42:57.156Z"
   },
   {
    "duration": 49,
    "start_time": "2024-08-15T16:42:57.222Z"
   },
   {
    "duration": 11,
    "start_time": "2024-08-15T16:42:57.274Z"
   },
   {
    "duration": 440,
    "start_time": "2024-08-15T16:42:57.287Z"
   },
   {
    "duration": 44,
    "start_time": "2024-08-15T16:42:57.731Z"
   },
   {
    "duration": 964,
    "start_time": "2024-08-15T16:43:46.413Z"
   },
   {
    "duration": 33,
    "start_time": "2024-08-15T16:44:16.912Z"
   },
   {
    "duration": 734,
    "start_time": "2024-08-15T16:44:30.019Z"
   },
   {
    "duration": 1589,
    "start_time": "2024-08-15T16:44:30.756Z"
   },
   {
    "duration": 18,
    "start_time": "2024-08-15T16:44:32.348Z"
   },
   {
    "duration": 19,
    "start_time": "2024-08-15T16:44:32.371Z"
   },
   {
    "duration": 62,
    "start_time": "2024-08-15T16:44:32.393Z"
   },
   {
    "duration": 14,
    "start_time": "2024-08-15T16:44:32.459Z"
   },
   {
    "duration": 44,
    "start_time": "2024-08-15T16:44:32.479Z"
   },
   {
    "duration": 28,
    "start_time": "2024-08-15T16:44:32.526Z"
   },
   {
    "duration": 27,
    "start_time": "2024-08-15T16:44:32.557Z"
   },
   {
    "duration": 133,
    "start_time": "2024-08-15T16:44:32.590Z"
   },
   {
    "duration": 333,
    "start_time": "2024-08-15T16:44:32.726Z"
   },
   {
    "duration": 14,
    "start_time": "2024-08-15T16:44:33.062Z"
   },
   {
    "duration": 6,
    "start_time": "2024-08-15T16:44:33.082Z"
   },
   {
    "duration": 198,
    "start_time": "2024-08-15T16:44:33.091Z"
   },
   {
    "duration": 163,
    "start_time": "2024-08-15T16:44:33.292Z"
   },
   {
    "duration": 10,
    "start_time": "2024-08-15T16:44:33.458Z"
   },
   {
    "duration": 137,
    "start_time": "2024-08-15T16:44:33.471Z"
   },
   {
    "duration": 33,
    "start_time": "2024-08-15T16:44:33.611Z"
   },
   {
    "duration": 9,
    "start_time": "2024-08-15T16:44:33.650Z"
   },
   {
    "duration": 66,
    "start_time": "2024-08-15T16:44:33.661Z"
   },
   {
    "duration": 25,
    "start_time": "2024-08-15T16:44:33.730Z"
   },
   {
    "duration": 15,
    "start_time": "2024-08-15T16:44:33.757Z"
   },
   {
    "duration": 10,
    "start_time": "2024-08-15T16:44:33.775Z"
   },
   {
    "duration": 36,
    "start_time": "2024-08-15T16:44:33.789Z"
   },
   {
    "duration": 15,
    "start_time": "2024-08-15T16:44:33.831Z"
   },
   {
    "duration": 13,
    "start_time": "2024-08-15T16:44:33.848Z"
   },
   {
    "duration": 1333,
    "start_time": "2024-08-15T16:44:33.864Z"
   },
   {
    "duration": 476,
    "start_time": "2024-08-15T16:44:35.205Z"
   },
   {
    "duration": 4758,
    "start_time": "2024-08-15T16:44:35.685Z"
   },
   {
    "duration": 15,
    "start_time": "2024-08-15T16:44:40.446Z"
   },
   {
    "duration": 11,
    "start_time": "2024-08-15T16:44:40.464Z"
   },
   {
    "duration": 45,
    "start_time": "2024-08-15T16:44:40.478Z"
   },
   {
    "duration": 20,
    "start_time": "2024-08-15T16:44:40.526Z"
   },
   {
    "duration": 14,
    "start_time": "2024-08-15T16:44:40.550Z"
   },
   {
    "duration": 14,
    "start_time": "2024-08-15T16:44:40.567Z"
   },
   {
    "duration": 44,
    "start_time": "2024-08-15T16:44:40.584Z"
   },
   {
    "duration": 20,
    "start_time": "2024-08-15T16:44:40.632Z"
   },
   {
    "duration": 82,
    "start_time": "2024-08-15T16:44:40.655Z"
   },
   {
    "duration": 11,
    "start_time": "2024-08-15T16:44:40.740Z"
   },
   {
    "duration": 432,
    "start_time": "2024-08-15T16:44:40.756Z"
   },
   {
    "duration": 58,
    "start_time": "2024-08-15T16:44:41.191Z"
   },
   {
    "duration": 60,
    "start_time": "2024-08-15T16:46:02.146Z"
   },
   {
    "duration": 1192,
    "start_time": "2024-08-15T16:52:10.832Z"
   },
   {
    "duration": 4394,
    "start_time": "2024-08-15T16:52:28.386Z"
   },
   {
    "duration": 4438,
    "start_time": "2024-08-15T16:52:54.700Z"
   },
   {
    "duration": 651,
    "start_time": "2024-08-15T16:54:44.073Z"
   },
   {
    "duration": 1523,
    "start_time": "2024-08-15T16:54:44.728Z"
   },
   {
    "duration": 18,
    "start_time": "2024-08-15T16:54:46.255Z"
   },
   {
    "duration": 17,
    "start_time": "2024-08-15T16:54:46.277Z"
   },
   {
    "duration": 59,
    "start_time": "2024-08-15T16:54:46.297Z"
   },
   {
    "duration": 14,
    "start_time": "2024-08-15T16:54:46.359Z"
   },
   {
    "duration": 47,
    "start_time": "2024-08-15T16:54:46.376Z"
   },
   {
    "duration": 28,
    "start_time": "2024-08-15T16:54:46.425Z"
   },
   {
    "duration": 26,
    "start_time": "2024-08-15T16:54:46.456Z"
   },
   {
    "duration": 136,
    "start_time": "2024-08-15T16:54:46.488Z"
   },
   {
    "duration": 333,
    "start_time": "2024-08-15T16:54:46.627Z"
   },
   {
    "duration": 14,
    "start_time": "2024-08-15T16:54:46.963Z"
   },
   {
    "duration": 6,
    "start_time": "2024-08-15T16:54:46.980Z"
   },
   {
    "duration": 202,
    "start_time": "2024-08-15T16:54:46.989Z"
   },
   {
    "duration": 185,
    "start_time": "2024-08-15T16:54:47.194Z"
   },
   {
    "duration": 12,
    "start_time": "2024-08-15T16:54:47.382Z"
   },
   {
    "duration": 129,
    "start_time": "2024-08-15T16:54:47.397Z"
   },
   {
    "duration": 23,
    "start_time": "2024-08-15T16:54:47.529Z"
   },
   {
    "duration": 9,
    "start_time": "2024-08-15T16:54:47.555Z"
   },
   {
    "duration": 70,
    "start_time": "2024-08-15T16:54:47.567Z"
   },
   {
    "duration": 22,
    "start_time": "2024-08-15T16:54:47.640Z"
   },
   {
    "duration": 14,
    "start_time": "2024-08-15T16:54:47.664Z"
   },
   {
    "duration": 40,
    "start_time": "2024-08-15T16:54:47.682Z"
   },
   {
    "duration": 6,
    "start_time": "2024-08-15T16:54:47.725Z"
   },
   {
    "duration": 8,
    "start_time": "2024-08-15T16:54:47.734Z"
   },
   {
    "duration": 7,
    "start_time": "2024-08-15T16:54:47.745Z"
   },
   {
    "duration": 1340,
    "start_time": "2024-08-15T16:54:47.755Z"
   },
   {
    "duration": 474,
    "start_time": "2024-08-15T16:54:49.103Z"
   },
   {
    "duration": 4710,
    "start_time": "2024-08-15T16:54:49.580Z"
   },
   {
    "duration": 14,
    "start_time": "2024-08-15T16:54:54.292Z"
   },
   {
    "duration": 10,
    "start_time": "2024-08-15T16:54:54.324Z"
   },
   {
    "duration": 9,
    "start_time": "2024-08-15T16:54:54.339Z"
   },
   {
    "duration": 16,
    "start_time": "2024-08-15T16:54:54.351Z"
   },
   {
    "duration": 52,
    "start_time": "2024-08-15T16:54:54.371Z"
   },
   {
    "duration": 15,
    "start_time": "2024-08-15T16:54:54.426Z"
   },
   {
    "duration": 8,
    "start_time": "2024-08-15T16:54:54.443Z"
   },
   {
    "duration": 19,
    "start_time": "2024-08-15T16:54:54.455Z"
   },
   {
    "duration": 90,
    "start_time": "2024-08-15T16:54:54.476Z"
   },
   {
    "duration": 11,
    "start_time": "2024-08-15T16:54:54.568Z"
   },
   {
    "duration": 433,
    "start_time": "2024-08-15T16:54:54.582Z"
   },
   {
    "duration": 68,
    "start_time": "2024-08-15T16:54:55.022Z"
   },
   {
    "duration": 4293,
    "start_time": "2024-08-16T02:20:58.994Z"
   },
   {
    "duration": 2036,
    "start_time": "2024-08-16T02:21:03.293Z"
   },
   {
    "duration": 18,
    "start_time": "2024-08-16T02:21:05.332Z"
   },
   {
    "duration": 16,
    "start_time": "2024-08-16T02:21:05.357Z"
   },
   {
    "duration": 60,
    "start_time": "2024-08-16T02:21:05.376Z"
   },
   {
    "duration": 13,
    "start_time": "2024-08-16T02:21:05.439Z"
   },
   {
    "duration": 16,
    "start_time": "2024-08-16T02:21:05.454Z"
   },
   {
    "duration": 63,
    "start_time": "2024-08-16T02:21:05.473Z"
   },
   {
    "duration": 25,
    "start_time": "2024-08-16T02:21:05.540Z"
   },
   {
    "duration": 126,
    "start_time": "2024-08-16T02:21:05.571Z"
   },
   {
    "duration": 308,
    "start_time": "2024-08-16T02:21:05.708Z"
   },
   {
    "duration": 14,
    "start_time": "2024-08-16T02:21:06.019Z"
   },
   {
    "duration": 6,
    "start_time": "2024-08-16T02:21:06.038Z"
   },
   {
    "duration": 215,
    "start_time": "2024-08-16T02:21:06.047Z"
   },
   {
    "duration": 161,
    "start_time": "2024-08-16T02:21:06.264Z"
   },
   {
    "duration": 9,
    "start_time": "2024-08-16T02:21:06.427Z"
   },
   {
    "duration": 132,
    "start_time": "2024-08-16T02:21:06.439Z"
   },
   {
    "duration": 36,
    "start_time": "2024-08-16T02:21:06.575Z"
   },
   {
    "duration": 10,
    "start_time": "2024-08-16T02:21:06.614Z"
   },
   {
    "duration": 35,
    "start_time": "2024-08-16T02:21:06.627Z"
   },
   {
    "duration": 54,
    "start_time": "2024-08-16T02:21:06.665Z"
   },
   {
    "duration": 14,
    "start_time": "2024-08-16T02:21:06.722Z"
   },
   {
    "duration": 7,
    "start_time": "2024-08-16T02:21:06.739Z"
   },
   {
    "duration": 6,
    "start_time": "2024-08-16T02:21:06.749Z"
   },
   {
    "duration": 52,
    "start_time": "2024-08-16T02:21:06.758Z"
   },
   {
    "duration": 6,
    "start_time": "2024-08-16T02:21:06.814Z"
   },
   {
    "duration": 1342,
    "start_time": "2024-08-16T02:21:06.824Z"
   },
   {
    "duration": 484,
    "start_time": "2024-08-16T02:21:08.173Z"
   },
   {
    "duration": 4631,
    "start_time": "2024-08-16T02:21:08.660Z"
   },
   {
    "duration": 25,
    "start_time": "2024-08-16T02:21:13.294Z"
   },
   {
    "duration": 9,
    "start_time": "2024-08-16T02:21:13.323Z"
   },
   {
    "duration": 9,
    "start_time": "2024-08-16T02:21:13.335Z"
   },
   {
    "duration": 17,
    "start_time": "2024-08-16T02:21:13.347Z"
   },
   {
    "duration": 11,
    "start_time": "2024-08-16T02:21:13.409Z"
   },
   {
    "duration": 13,
    "start_time": "2024-08-16T02:21:13.424Z"
   },
   {
    "duration": 7,
    "start_time": "2024-08-16T02:21:13.440Z"
   },
   {
    "duration": 60,
    "start_time": "2024-08-16T02:21:13.450Z"
   },
   {
    "duration": 49,
    "start_time": "2024-08-16T02:21:13.513Z"
   },
   {
    "duration": 44,
    "start_time": "2024-08-16T02:21:13.565Z"
   },
   {
    "duration": 393,
    "start_time": "2024-08-16T02:21:13.612Z"
   },
   {
    "duration": 66,
    "start_time": "2024-08-16T02:21:14.010Z"
   },
   {
    "duration": 16,
    "start_time": "2024-08-16T02:26:19.098Z"
   },
   {
    "duration": 9,
    "start_time": "2024-08-16T02:49:56.467Z"
   },
   {
    "duration": 1191,
    "start_time": "2024-08-16T02:50:39.915Z"
   },
   {
    "duration": 13,
    "start_time": "2024-08-16T02:50:45.408Z"
   },
   {
    "duration": 12,
    "start_time": "2024-08-16T02:51:57.452Z"
   },
   {
    "duration": 8,
    "start_time": "2024-08-16T02:52:16.506Z"
   },
   {
    "duration": 22,
    "start_time": "2024-08-16T02:52:52.545Z"
   },
   {
    "duration": 10,
    "start_time": "2024-08-16T02:52:57.865Z"
   },
   {
    "duration": 8,
    "start_time": "2024-08-16T02:54:57.712Z"
   },
   {
    "duration": 12,
    "start_time": "2024-08-16T03:19:37.445Z"
   },
   {
    "duration": 11,
    "start_time": "2024-08-16T03:20:07.819Z"
   },
   {
    "duration": 8,
    "start_time": "2024-08-16T03:22:51.265Z"
   },
   {
    "duration": 10,
    "start_time": "2024-08-16T03:23:16.240Z"
   },
   {
    "duration": 312,
    "start_time": "2024-08-16T03:36:01.098Z"
   },
   {
    "duration": 67,
    "start_time": "2024-08-16T03:36:16.921Z"
   },
   {
    "duration": 7,
    "start_time": "2024-08-16T03:36:28.176Z"
   },
   {
    "duration": 677,
    "start_time": "2024-08-16T03:36:39.117Z"
   },
   {
    "duration": 1562,
    "start_time": "2024-08-16T03:36:39.798Z"
   },
   {
    "duration": 19,
    "start_time": "2024-08-16T03:36:41.367Z"
   },
   {
    "duration": 16,
    "start_time": "2024-08-16T03:36:41.408Z"
   },
   {
    "duration": 39,
    "start_time": "2024-08-16T03:36:41.427Z"
   },
   {
    "duration": 46,
    "start_time": "2024-08-16T03:36:41.468Z"
   },
   {
    "duration": 14,
    "start_time": "2024-08-16T03:36:41.517Z"
   },
   {
    "duration": 347,
    "start_time": "2024-08-16T03:36:41.533Z"
   },
   {
    "duration": 13,
    "start_time": "2024-08-16T03:36:41.885Z"
   },
   {
    "duration": 8,
    "start_time": "2024-08-16T03:36:41.909Z"
   },
   {
    "duration": 188,
    "start_time": "2024-08-16T03:36:41.920Z"
   },
   {
    "duration": 160,
    "start_time": "2024-08-16T03:36:42.111Z"
   },
   {
    "duration": 8,
    "start_time": "2024-08-16T03:36:42.277Z"
   },
   {
    "duration": 131,
    "start_time": "2024-08-16T03:36:42.289Z"
   },
   {
    "duration": 24,
    "start_time": "2024-08-16T03:36:42.424Z"
   },
   {
    "duration": 9,
    "start_time": "2024-08-16T03:36:42.452Z"
   },
   {
    "duration": 69,
    "start_time": "2024-08-16T03:36:42.463Z"
   },
   {
    "duration": 22,
    "start_time": "2024-08-16T03:36:42.534Z"
   },
   {
    "duration": 13,
    "start_time": "2024-08-16T03:36:42.558Z"
   },
   {
    "duration": 6,
    "start_time": "2024-08-16T03:36:42.608Z"
   },
   {
    "duration": 6,
    "start_time": "2024-08-16T03:36:42.618Z"
   },
   {
    "duration": 7,
    "start_time": "2024-08-16T03:36:42.627Z"
   },
   {
    "duration": 6,
    "start_time": "2024-08-16T03:36:42.637Z"
   },
   {
    "duration": 1362,
    "start_time": "2024-08-16T03:36:42.647Z"
   },
   {
    "duration": 477,
    "start_time": "2024-08-16T03:36:44.011Z"
   },
   {
    "duration": 4687,
    "start_time": "2024-08-16T03:36:44.491Z"
   },
   {
    "duration": 28,
    "start_time": "2024-08-16T03:36:49.182Z"
   },
   {
    "duration": 9,
    "start_time": "2024-08-16T03:36:49.213Z"
   },
   {
    "duration": 12,
    "start_time": "2024-08-16T03:36:49.225Z"
   },
   {
    "duration": 22,
    "start_time": "2024-08-16T03:36:49.240Z"
   },
   {
    "duration": 46,
    "start_time": "2024-08-16T03:36:49.265Z"
   },
   {
    "duration": 15,
    "start_time": "2024-08-16T03:36:49.313Z"
   },
   {
    "duration": 8,
    "start_time": "2024-08-16T03:36:49.331Z"
   },
   {
    "duration": 19,
    "start_time": "2024-08-16T03:36:49.343Z"
   },
   {
    "duration": 48,
    "start_time": "2024-08-16T03:36:49.408Z"
   },
   {
    "duration": 11,
    "start_time": "2024-08-16T03:36:49.459Z"
   },
   {
    "duration": 499,
    "start_time": "2024-08-16T03:36:49.473Z"
   },
   {
    "duration": 77,
    "start_time": "2024-08-16T03:36:49.975Z"
   },
   {
    "duration": 16,
    "start_time": "2024-08-16T03:36:50.057Z"
   },
   {
    "duration": 28,
    "start_time": "2024-08-16T03:36:50.080Z"
   },
   {
    "duration": 11,
    "start_time": "2024-08-16T03:36:50.111Z"
   },
   {
    "duration": 9,
    "start_time": "2024-08-16T03:36:50.125Z"
   },
   {
    "duration": 691,
    "start_time": "2024-08-16T03:43:25.438Z"
   },
   {
    "duration": 1568,
    "start_time": "2024-08-16T03:43:26.132Z"
   },
   {
    "duration": 19,
    "start_time": "2024-08-16T03:43:27.703Z"
   },
   {
    "duration": 17,
    "start_time": "2024-08-16T03:43:27.727Z"
   },
   {
    "duration": 68,
    "start_time": "2024-08-16T03:43:27.747Z"
   },
   {
    "duration": 14,
    "start_time": "2024-08-16T03:43:27.818Z"
   },
   {
    "duration": 15,
    "start_time": "2024-08-16T03:43:27.836Z"
   },
   {
    "duration": 372,
    "start_time": "2024-08-16T03:43:27.854Z"
   },
   {
    "duration": 13,
    "start_time": "2024-08-16T03:43:28.229Z"
   },
   {
    "duration": 7,
    "start_time": "2024-08-16T03:43:28.249Z"
   },
   {
    "duration": 214,
    "start_time": "2024-08-16T03:43:28.259Z"
   },
   {
    "duration": 180,
    "start_time": "2024-08-16T03:43:28.476Z"
   },
   {
    "duration": 9,
    "start_time": "2024-08-16T03:43:28.659Z"
   },
   {
    "duration": 140,
    "start_time": "2024-08-16T03:43:28.670Z"
   },
   {
    "duration": 27,
    "start_time": "2024-08-16T03:43:28.815Z"
   },
   {
    "duration": 8,
    "start_time": "2024-08-16T03:43:28.845Z"
   },
   {
    "duration": 72,
    "start_time": "2024-08-16T03:43:28.856Z"
   },
   {
    "duration": 28,
    "start_time": "2024-08-16T03:43:28.932Z"
   },
   {
    "duration": 46,
    "start_time": "2024-08-16T03:43:28.964Z"
   },
   {
    "duration": 8,
    "start_time": "2024-08-16T03:43:29.014Z"
   },
   {
    "duration": 8,
    "start_time": "2024-08-16T03:43:29.026Z"
   },
   {
    "duration": 9,
    "start_time": "2024-08-16T03:43:29.037Z"
   },
   {
    "duration": 6,
    "start_time": "2024-08-16T03:43:29.048Z"
   },
   {
    "duration": 1353,
    "start_time": "2024-08-16T03:43:29.057Z"
   },
   {
    "duration": 464,
    "start_time": "2024-08-16T03:43:30.413Z"
   },
   {
    "duration": 4694,
    "start_time": "2024-08-16T03:43:30.880Z"
   },
   {
    "duration": 13,
    "start_time": "2024-08-16T03:43:35.577Z"
   },
   {
    "duration": 10,
    "start_time": "2024-08-16T03:43:35.608Z"
   },
   {
    "duration": 10,
    "start_time": "2024-08-16T03:43:35.621Z"
   },
   {
    "duration": 18,
    "start_time": "2024-08-16T03:43:35.634Z"
   },
   {
    "duration": 56,
    "start_time": "2024-08-16T03:43:35.654Z"
   },
   {
    "duration": 14,
    "start_time": "2024-08-16T03:43:35.712Z"
   },
   {
    "duration": 8,
    "start_time": "2024-08-16T03:43:35.728Z"
   },
   {
    "duration": 19,
    "start_time": "2024-08-16T03:43:35.739Z"
   },
   {
    "duration": 88,
    "start_time": "2024-08-16T03:43:35.761Z"
   },
   {
    "duration": 10,
    "start_time": "2024-08-16T03:43:35.851Z"
   },
   {
    "duration": 1182,
    "start_time": "2024-08-16T03:43:35.864Z"
   },
   {
    "duration": 0,
    "start_time": "2024-08-16T03:43:37.049Z"
   },
   {
    "duration": 0,
    "start_time": "2024-08-16T03:43:37.051Z"
   },
   {
    "duration": 0,
    "start_time": "2024-08-16T03:43:37.052Z"
   },
   {
    "duration": 0,
    "start_time": "2024-08-16T03:43:37.054Z"
   },
   {
    "duration": 0,
    "start_time": "2024-08-16T03:43:37.055Z"
   },
   {
    "duration": 382,
    "start_time": "2024-08-16T03:49:08.170Z"
   },
   {
    "duration": 704,
    "start_time": "2024-08-16T03:49:44.319Z"
   },
   {
    "duration": 382,
    "start_time": "2024-08-16T03:50:16.829Z"
   },
   {
    "duration": 10,
    "start_time": "2024-08-16T03:51:52.881Z"
   },
   {
    "duration": 10,
    "start_time": "2024-08-16T03:54:06.769Z"
   },
   {
    "duration": 16,
    "start_time": "2024-08-16T03:54:52.003Z"
   },
   {
    "duration": 22,
    "start_time": "2024-08-16T03:55:29.720Z"
   },
   {
    "duration": 13,
    "start_time": "2024-08-16T03:57:15.838Z"
   },
   {
    "duration": 16,
    "start_time": "2024-08-16T04:02:17.413Z"
   },
   {
    "duration": 73,
    "start_time": "2024-08-16T04:05:35.578Z"
   },
   {
    "duration": 24,
    "start_time": "2024-08-16T04:06:01.842Z"
   },
   {
    "duration": 24,
    "start_time": "2024-08-16T04:06:24.962Z"
   },
   {
    "duration": 24,
    "start_time": "2024-08-16T04:09:15.352Z"
   },
   {
    "duration": 48,
    "start_time": "2024-08-16T04:09:27.136Z"
   },
   {
    "duration": 59,
    "start_time": "2024-08-16T04:09:59.905Z"
   },
   {
    "duration": 41,
    "start_time": "2024-08-16T04:11:19.015Z"
   },
   {
    "duration": 47,
    "start_time": "2024-08-16T04:13:10.882Z"
   },
   {
    "duration": 15,
    "start_time": "2024-08-16T04:26:24.166Z"
   },
   {
    "duration": 12,
    "start_time": "2024-08-16T04:26:25.470Z"
   },
   {
    "duration": 11,
    "start_time": "2024-08-16T04:26:28.638Z"
   },
   {
    "duration": 11,
    "start_time": "2024-08-16T04:29:24.180Z"
   },
   {
    "duration": 12,
    "start_time": "2024-08-16T04:29:27.773Z"
   },
   {
    "duration": 66,
    "start_time": "2024-08-16T04:38:19.447Z"
   },
   {
    "duration": 12,
    "start_time": "2024-08-16T04:38:37.905Z"
   },
   {
    "duration": 11,
    "start_time": "2024-08-16T04:38:40.099Z"
   },
   {
    "duration": 34,
    "start_time": "2024-08-16T04:40:31.455Z"
   },
   {
    "duration": 33,
    "start_time": "2024-08-16T04:40:48.189Z"
   },
   {
    "duration": 394,
    "start_time": "2024-08-16T04:41:43.070Z"
   },
   {
    "duration": 296,
    "start_time": "2024-08-16T04:43:03.886Z"
   },
   {
    "duration": 261,
    "start_time": "2024-08-16T04:43:58.300Z"
   },
   {
    "duration": 4384,
    "start_time": "2024-08-17T16:44:51.988Z"
   },
   {
    "duration": 1659,
    "start_time": "2024-08-17T16:44:56.375Z"
   },
   {
    "duration": 20,
    "start_time": "2024-08-17T16:44:58.036Z"
   },
   {
    "duration": 28,
    "start_time": "2024-08-17T16:44:58.062Z"
   },
   {
    "duration": 39,
    "start_time": "2024-08-17T16:44:58.095Z"
   },
   {
    "duration": 44,
    "start_time": "2024-08-17T16:44:58.137Z"
   },
   {
    "duration": 15,
    "start_time": "2024-08-17T16:44:58.185Z"
   },
   {
    "duration": 384,
    "start_time": "2024-08-17T16:44:58.203Z"
   },
   {
    "duration": 14,
    "start_time": "2024-08-17T16:44:58.590Z"
   },
   {
    "duration": 7,
    "start_time": "2024-08-17T16:44:58.607Z"
   },
   {
    "duration": 226,
    "start_time": "2024-08-17T16:44:58.617Z"
   },
   {
    "duration": 175,
    "start_time": "2024-08-17T16:44:58.848Z"
   },
   {
    "duration": 10,
    "start_time": "2024-08-17T16:44:59.026Z"
   },
   {
    "duration": 151,
    "start_time": "2024-08-17T16:44:59.042Z"
   },
   {
    "duration": 37,
    "start_time": "2024-08-17T16:44:59.197Z"
   },
   {
    "duration": 31,
    "start_time": "2024-08-17T16:44:59.241Z"
   },
   {
    "duration": 36,
    "start_time": "2024-08-17T16:44:59.275Z"
   },
   {
    "duration": 21,
    "start_time": "2024-08-17T16:44:59.314Z"
   },
   {
    "duration": 13,
    "start_time": "2024-08-17T16:44:59.367Z"
   },
   {
    "duration": 7,
    "start_time": "2024-08-17T16:44:59.383Z"
   },
   {
    "duration": 6,
    "start_time": "2024-08-17T16:44:59.394Z"
   },
   {
    "duration": 8,
    "start_time": "2024-08-17T16:44:59.403Z"
   },
   {
    "duration": 6,
    "start_time": "2024-08-17T16:44:59.414Z"
   },
   {
    "duration": 1367,
    "start_time": "2024-08-17T16:44:59.422Z"
   },
   {
    "duration": 476,
    "start_time": "2024-08-17T16:45:00.792Z"
   },
   {
    "duration": 4739,
    "start_time": "2024-08-17T16:45:01.271Z"
   },
   {
    "duration": 13,
    "start_time": "2024-08-17T16:45:06.013Z"
   },
   {
    "duration": 10,
    "start_time": "2024-08-17T16:45:06.029Z"
   },
   {
    "duration": 10,
    "start_time": "2024-08-17T16:45:06.069Z"
   },
   {
    "duration": 15,
    "start_time": "2024-08-17T16:45:06.083Z"
   },
   {
    "duration": 11,
    "start_time": "2024-08-17T16:45:06.101Z"
   },
   {
    "duration": 55,
    "start_time": "2024-08-17T16:45:06.115Z"
   },
   {
    "duration": 9,
    "start_time": "2024-08-17T16:45:06.174Z"
   },
   {
    "duration": 19,
    "start_time": "2024-08-17T16:45:06.186Z"
   },
   {
    "duration": 94,
    "start_time": "2024-08-17T16:45:06.209Z"
   },
   {
    "duration": 12,
    "start_time": "2024-08-17T16:45:06.306Z"
   },
   {
    "duration": 79,
    "start_time": "2024-08-17T16:45:06.321Z"
   },
   {
    "duration": 85,
    "start_time": "2024-08-17T16:45:06.406Z"
   },
   {
    "duration": 16,
    "start_time": "2024-08-17T16:45:06.494Z"
   },
   {
    "duration": 12,
    "start_time": "2024-08-17T16:45:06.513Z"
   },
   {
    "duration": 40,
    "start_time": "2024-08-17T16:45:06.532Z"
   },
   {
    "duration": 430,
    "start_time": "2024-08-17T16:45:06.575Z"
   },
   {
    "duration": 290,
    "start_time": "2024-08-17T16:45:07.008Z"
   },
   {
    "duration": 331,
    "start_time": "2024-08-17T16:45:07.302Z"
   },
   {
    "duration": 102,
    "start_time": "2024-08-17T16:48:30.694Z"
   },
   {
    "duration": 6,
    "start_time": "2024-08-17T17:42:11.500Z"
   },
   {
    "duration": 5,
    "start_time": "2024-08-17T17:42:30.523Z"
   },
   {
    "duration": 4334,
    "start_time": "2024-08-17T19:06:09.642Z"
   },
   {
    "duration": 1660,
    "start_time": "2024-08-17T19:06:13.979Z"
   },
   {
    "duration": 20,
    "start_time": "2024-08-17T19:06:15.642Z"
   },
   {
    "duration": 16,
    "start_time": "2024-08-17T19:06:15.667Z"
   },
   {
    "duration": 71,
    "start_time": "2024-08-17T19:06:15.685Z"
   },
   {
    "duration": 14,
    "start_time": "2024-08-17T19:06:15.759Z"
   },
   {
    "duration": 13,
    "start_time": "2024-08-17T19:06:15.777Z"
   },
   {
    "duration": 358,
    "start_time": "2024-08-17T19:06:15.793Z"
   },
   {
    "duration": 14,
    "start_time": "2024-08-17T19:06:16.154Z"
   },
   {
    "duration": 8,
    "start_time": "2024-08-17T19:06:16.174Z"
   },
   {
    "duration": 204,
    "start_time": "2024-08-17T19:06:16.184Z"
   },
   {
    "duration": 165,
    "start_time": "2024-08-17T19:06:16.391Z"
   },
   {
    "duration": 11,
    "start_time": "2024-08-17T19:06:16.559Z"
   },
   {
    "duration": 136,
    "start_time": "2024-08-17T19:06:16.573Z"
   },
   {
    "duration": 35,
    "start_time": "2024-08-17T19:06:16.713Z"
   },
   {
    "duration": 9,
    "start_time": "2024-08-17T19:06:16.751Z"
   },
   {
    "duration": 37,
    "start_time": "2024-08-17T19:06:16.763Z"
   },
   {
    "duration": 23,
    "start_time": "2024-08-17T19:06:16.831Z"
   },
   {
    "duration": 13,
    "start_time": "2024-08-17T19:06:16.856Z"
   },
   {
    "duration": 8,
    "start_time": "2024-08-17T19:06:16.872Z"
   },
   {
    "duration": 48,
    "start_time": "2024-08-17T19:06:16.882Z"
   },
   {
    "duration": 7,
    "start_time": "2024-08-17T19:06:16.933Z"
   },
   {
    "duration": 7,
    "start_time": "2024-08-17T19:06:16.943Z"
   },
   {
    "duration": 1314,
    "start_time": "2024-08-17T19:06:16.953Z"
   },
   {
    "duration": 474,
    "start_time": "2024-08-17T19:06:18.271Z"
   },
   {
    "duration": 4691,
    "start_time": "2024-08-17T19:06:18.750Z"
   },
   {
    "duration": 15,
    "start_time": "2024-08-17T19:06:23.444Z"
   },
   {
    "duration": 9,
    "start_time": "2024-08-17T19:06:23.466Z"
   },
   {
    "duration": 10,
    "start_time": "2024-08-17T19:06:23.478Z"
   },
   {
    "duration": 18,
    "start_time": "2024-08-17T19:06:23.530Z"
   },
   {
    "duration": 12,
    "start_time": "2024-08-17T19:06:23.550Z"
   },
   {
    "duration": 14,
    "start_time": "2024-08-17T19:06:23.565Z"
   },
   {
    "duration": 48,
    "start_time": "2024-08-17T19:06:23.582Z"
   },
   {
    "duration": 19,
    "start_time": "2024-08-17T19:06:23.634Z"
   },
   {
    "duration": 81,
    "start_time": "2024-08-17T19:06:23.657Z"
   },
   {
    "duration": 12,
    "start_time": "2024-08-17T19:06:23.741Z"
   },
   {
    "duration": 46,
    "start_time": "2024-08-17T19:06:23.755Z"
   },
   {
    "duration": 69,
    "start_time": "2024-08-17T19:06:23.830Z"
   },
   {
    "duration": 39,
    "start_time": "2024-08-17T19:06:23.902Z"
   },
   {
    "duration": 12,
    "start_time": "2024-08-17T19:06:23.944Z"
   },
   {
    "duration": 12,
    "start_time": "2024-08-17T19:06:23.959Z"
   },
   {
    "duration": 450,
    "start_time": "2024-08-17T19:06:23.973Z"
   },
   {
    "duration": 443,
    "start_time": "2024-08-17T19:06:24.431Z"
   },
   {
    "duration": 432,
    "start_time": "2024-08-17T19:06:24.878Z"
   },
   {
    "duration": 17,
    "start_time": "2024-08-17T19:06:25.318Z"
   },
   {
    "duration": 382,
    "start_time": "2024-08-17T19:10:13.563Z"
   },
   {
    "duration": 460,
    "start_time": "2024-08-17T19:10:36.666Z"
   },
   {
    "duration": 9,
    "start_time": "2024-08-17T19:12:32.616Z"
   },
   {
    "duration": 11,
    "start_time": "2024-08-17T19:12:33.484Z"
   },
   {
    "duration": 413,
    "start_time": "2024-08-17T19:12:34.857Z"
   },
   {
    "duration": 66,
    "start_time": "2024-08-17T19:12:53.818Z"
   },
   {
    "duration": 404,
    "start_time": "2024-08-17T19:13:02.961Z"
   },
   {
    "duration": 147,
    "start_time": "2024-08-17T19:16:45.936Z"
   },
   {
    "duration": 8,
    "start_time": "2024-08-17T19:16:54.065Z"
   },
   {
    "duration": 5,
    "start_time": "2024-08-17T19:17:13.967Z"
   },
   {
    "duration": 15,
    "start_time": "2024-08-17T19:17:26.559Z"
   },
   {
    "duration": 323,
    "start_time": "2024-08-18T00:20:44.801Z"
   },
   {
    "duration": 4310,
    "start_time": "2024-08-18T00:20:51.388Z"
   },
   {
    "duration": 1666,
    "start_time": "2024-08-18T00:20:55.701Z"
   },
   {
    "duration": 19,
    "start_time": "2024-08-18T00:20:57.370Z"
   },
   {
    "duration": 28,
    "start_time": "2024-08-18T00:20:57.394Z"
   },
   {
    "duration": 40,
    "start_time": "2024-08-18T00:20:57.425Z"
   },
   {
    "duration": 14,
    "start_time": "2024-08-18T00:20:57.468Z"
   },
   {
    "duration": 16,
    "start_time": "2024-08-18T00:20:57.513Z"
   },
   {
    "duration": 365,
    "start_time": "2024-08-18T00:20:57.533Z"
   },
   {
    "duration": 21,
    "start_time": "2024-08-18T00:20:57.902Z"
   },
   {
    "duration": 8,
    "start_time": "2024-08-18T00:20:57.931Z"
   },
   {
    "duration": 201,
    "start_time": "2024-08-18T00:20:57.941Z"
   },
   {
    "duration": 165,
    "start_time": "2024-08-18T00:20:58.145Z"
   },
   {
    "duration": 9,
    "start_time": "2024-08-18T00:20:58.314Z"
   },
   {
    "duration": 133,
    "start_time": "2024-08-18T00:20:58.326Z"
   },
   {
    "duration": 24,
    "start_time": "2024-08-18T00:20:58.463Z"
   },
   {
    "duration": 29,
    "start_time": "2024-08-18T00:20:58.490Z"
   },
   {
    "duration": 44,
    "start_time": "2024-08-18T00:20:58.522Z"
   },
   {
    "duration": 53,
    "start_time": "2024-08-18T00:20:58.569Z"
   },
   {
    "duration": 13,
    "start_time": "2024-08-18T00:20:58.625Z"
   },
   {
    "duration": 8,
    "start_time": "2024-08-18T00:20:58.641Z"
   },
   {
    "duration": 7,
    "start_time": "2024-08-18T00:20:58.652Z"
   },
   {
    "duration": 50,
    "start_time": "2024-08-18T00:20:58.662Z"
   },
   {
    "duration": 6,
    "start_time": "2024-08-18T00:20:58.716Z"
   },
   {
    "duration": 1352,
    "start_time": "2024-08-18T00:20:58.726Z"
   },
   {
    "duration": 473,
    "start_time": "2024-08-18T00:21:00.081Z"
   },
   {
    "duration": 4815,
    "start_time": "2024-08-18T00:21:00.558Z"
   },
   {
    "duration": 12,
    "start_time": "2024-08-18T00:21:05.377Z"
   },
   {
    "duration": 9,
    "start_time": "2024-08-18T00:21:05.417Z"
   },
   {
    "duration": 10,
    "start_time": "2024-08-18T00:21:05.429Z"
   },
   {
    "duration": 17,
    "start_time": "2024-08-18T00:21:05.442Z"
   },
   {
    "duration": 10,
    "start_time": "2024-08-18T00:21:05.462Z"
   },
   {
    "duration": 47,
    "start_time": "2024-08-18T00:21:05.476Z"
   },
   {
    "duration": 8,
    "start_time": "2024-08-18T00:21:05.526Z"
   },
   {
    "duration": 20,
    "start_time": "2024-08-18T00:21:05.536Z"
   },
   {
    "duration": 97,
    "start_time": "2024-08-18T00:21:05.559Z"
   },
   {
    "duration": 12,
    "start_time": "2024-08-18T00:21:05.659Z"
   },
   {
    "duration": 70,
    "start_time": "2024-08-18T00:21:05.675Z"
   },
   {
    "duration": 90,
    "start_time": "2024-08-18T00:21:05.748Z"
   },
   {
    "duration": 16,
    "start_time": "2024-08-18T00:21:05.841Z"
   },
   {
    "duration": 11,
    "start_time": "2024-08-18T00:21:05.860Z"
   },
   {
    "duration": 43,
    "start_time": "2024-08-18T00:21:05.874Z"
   },
   {
    "duration": 421,
    "start_time": "2024-08-18T00:21:05.919Z"
   },
   {
    "duration": 334,
    "start_time": "2024-08-18T00:21:06.342Z"
   },
   {
    "duration": 318,
    "start_time": "2024-08-18T00:21:06.679Z"
   },
   {
    "duration": 14,
    "start_time": "2024-08-18T00:21:07.001Z"
   },
   {
    "duration": 10,
    "start_time": "2024-08-18T00:21:07.017Z"
   },
   {
    "duration": 10,
    "start_time": "2024-08-18T00:21:07.030Z"
   },
   {
    "duration": 417,
    "start_time": "2024-08-18T00:21:07.043Z"
   },
   {
    "duration": 80,
    "start_time": "2024-08-18T00:21:07.463Z"
   },
   {
    "duration": 421,
    "start_time": "2024-08-18T00:21:07.546Z"
   },
   {
    "duration": 165,
    "start_time": "2024-08-18T00:21:07.970Z"
   },
   {
    "duration": 5,
    "start_time": "2024-08-18T00:21:08.138Z"
   },
   {
    "duration": 13,
    "start_time": "2024-08-18T00:21:08.146Z"
   },
   {
    "duration": 532,
    "start_time": "2024-08-18T00:21:08.162Z"
   },
   {
    "duration": 291,
    "start_time": "2024-08-18T00:21:50.865Z"
   },
   {
    "duration": 245,
    "start_time": "2024-08-18T00:22:27.343Z"
   },
   {
    "duration": 7,
    "start_time": "2024-08-18T00:22:37.615Z"
   },
   {
    "duration": 4,
    "start_time": "2024-08-18T00:22:45.100Z"
   },
   {
    "duration": 16,
    "start_time": "2024-08-18T00:23:00.758Z"
   },
   {
    "duration": 19,
    "start_time": "2024-08-18T00:23:08.825Z"
   },
   {
    "duration": 164,
    "start_time": "2024-08-18T00:24:17.380Z"
   },
   {
    "duration": 188,
    "start_time": "2024-08-18T00:24:19.155Z"
   },
   {
    "duration": 20,
    "start_time": "2024-08-18T00:24:20.588Z"
   },
   {
    "duration": 1055,
    "start_time": "2024-08-18T00:24:36.259Z"
   },
   {
    "duration": 523,
    "start_time": "2024-08-18T00:26:06.098Z"
   },
   {
    "duration": 193,
    "start_time": "2024-08-18T00:26:19.802Z"
   },
   {
    "duration": 197,
    "start_time": "2024-08-18T00:26:46.756Z"
   },
   {
    "duration": 495,
    "start_time": "2024-08-18T00:27:32.402Z"
   },
   {
    "duration": 46,
    "start_time": "2024-08-18T00:27:55.129Z"
   },
   {
    "duration": 18,
    "start_time": "2024-08-18T00:28:49.523Z"
   },
   {
    "duration": 6,
    "start_time": "2024-08-18T00:28:59.224Z"
   },
   {
    "duration": 689,
    "start_time": "2024-08-18T00:30:07.646Z"
   },
   {
    "duration": 1574,
    "start_time": "2024-08-18T00:30:08.340Z"
   },
   {
    "duration": 18,
    "start_time": "2024-08-18T00:30:09.917Z"
   },
   {
    "duration": 18,
    "start_time": "2024-08-18T00:30:09.940Z"
   },
   {
    "duration": 72,
    "start_time": "2024-08-18T00:30:09.962Z"
   },
   {
    "duration": 14,
    "start_time": "2024-08-18T00:30:10.037Z"
   },
   {
    "duration": 13,
    "start_time": "2024-08-18T00:30:10.055Z"
   },
   {
    "duration": 374,
    "start_time": "2024-08-18T00:30:10.071Z"
   },
   {
    "duration": 13,
    "start_time": "2024-08-18T00:30:10.449Z"
   },
   {
    "duration": 7,
    "start_time": "2024-08-18T00:30:10.468Z"
   },
   {
    "duration": 204,
    "start_time": "2024-08-18T00:30:10.478Z"
   },
   {
    "duration": 181,
    "start_time": "2024-08-18T00:30:10.686Z"
   },
   {
    "duration": 10,
    "start_time": "2024-08-18T00:30:10.870Z"
   },
   {
    "duration": 155,
    "start_time": "2024-08-18T00:30:10.883Z"
   },
   {
    "duration": 25,
    "start_time": "2024-08-18T00:30:11.041Z"
   },
   {
    "duration": 8,
    "start_time": "2024-08-18T00:30:11.070Z"
   },
   {
    "duration": 65,
    "start_time": "2024-08-18T00:30:11.081Z"
   },
   {
    "duration": 20,
    "start_time": "2024-08-18T00:30:11.149Z"
   },
   {
    "duration": 42,
    "start_time": "2024-08-18T00:30:11.172Z"
   },
   {
    "duration": 7,
    "start_time": "2024-08-18T00:30:11.217Z"
   },
   {
    "duration": 7,
    "start_time": "2024-08-18T00:30:11.227Z"
   },
   {
    "duration": 7,
    "start_time": "2024-08-18T00:30:11.237Z"
   },
   {
    "duration": 7,
    "start_time": "2024-08-18T00:30:11.248Z"
   },
   {
    "duration": 1368,
    "start_time": "2024-08-18T00:30:11.258Z"
   },
   {
    "duration": 468,
    "start_time": "2024-08-18T00:30:12.629Z"
   },
   {
    "duration": 4778,
    "start_time": "2024-08-18T00:30:13.100Z"
   },
   {
    "duration": 14,
    "start_time": "2024-08-18T00:30:17.881Z"
   },
   {
    "duration": 9,
    "start_time": "2024-08-18T00:30:17.918Z"
   },
   {
    "duration": 11,
    "start_time": "2024-08-18T00:30:17.930Z"
   },
   {
    "duration": 16,
    "start_time": "2024-08-18T00:30:17.944Z"
   },
   {
    "duration": 11,
    "start_time": "2024-08-18T00:30:17.963Z"
   },
   {
    "duration": 13,
    "start_time": "2024-08-18T00:30:18.014Z"
   },
   {
    "duration": 8,
    "start_time": "2024-08-18T00:30:18.030Z"
   },
   {
    "duration": 19,
    "start_time": "2024-08-18T00:30:18.042Z"
   },
   {
    "duration": 95,
    "start_time": "2024-08-18T00:30:18.064Z"
   },
   {
    "duration": 11,
    "start_time": "2024-08-18T00:30:18.162Z"
   },
   {
    "duration": 73,
    "start_time": "2024-08-18T00:30:18.175Z"
   },
   {
    "duration": 90,
    "start_time": "2024-08-18T00:30:18.251Z"
   },
   {
    "duration": 18,
    "start_time": "2024-08-18T00:30:18.345Z"
   },
   {
    "duration": 11,
    "start_time": "2024-08-18T00:30:18.367Z"
   },
   {
    "duration": 11,
    "start_time": "2024-08-18T00:30:18.413Z"
   },
   {
    "duration": 430,
    "start_time": "2024-08-18T00:30:18.427Z"
   },
   {
    "duration": 270,
    "start_time": "2024-08-18T00:30:18.862Z"
   },
   {
    "duration": 307,
    "start_time": "2024-08-18T00:30:19.135Z"
   },
   {
    "duration": 6,
    "start_time": "2024-08-18T00:30:19.446Z"
   },
   {
    "duration": 11,
    "start_time": "2024-08-18T00:30:19.455Z"
   },
   {
    "duration": 47,
    "start_time": "2024-08-18T00:30:19.469Z"
   },
   {
    "duration": 389,
    "start_time": "2024-08-18T00:30:19.519Z"
   },
   {
    "duration": 66,
    "start_time": "2024-08-18T00:30:19.914Z"
   },
   {
    "duration": 417,
    "start_time": "2024-08-18T00:30:19.983Z"
   },
   {
    "duration": 169,
    "start_time": "2024-08-18T00:30:20.403Z"
   },
   {
    "duration": 5,
    "start_time": "2024-08-18T00:30:20.575Z"
   },
   {
    "duration": 12,
    "start_time": "2024-08-18T00:30:20.583Z"
   },
   {
    "duration": 516,
    "start_time": "2024-08-18T00:30:20.612Z"
   },
   {
    "duration": 305,
    "start_time": "2024-08-18T00:30:21.130Z"
   },
   {
    "duration": 261,
    "start_time": "2024-08-18T00:30:21.438Z"
   },
   {
    "duration": 11,
    "start_time": "2024-08-18T00:30:21.702Z"
   },
   {
    "duration": 5,
    "start_time": "2024-08-18T00:30:21.716Z"
   },
   {
    "duration": 171,
    "start_time": "2024-08-18T00:30:21.724Z"
   },
   {
    "duration": 0,
    "start_time": "2024-08-18T00:30:21.898Z"
   },
   {
    "duration": 0,
    "start_time": "2024-08-18T00:30:21.900Z"
   },
   {
    "duration": 0,
    "start_time": "2024-08-18T00:30:21.902Z"
   },
   {
    "duration": 0,
    "start_time": "2024-08-18T00:30:21.904Z"
   },
   {
    "duration": 0,
    "start_time": "2024-08-18T00:30:21.912Z"
   },
   {
    "duration": 0,
    "start_time": "2024-08-18T00:30:21.914Z"
   },
   {
    "duration": 0,
    "start_time": "2024-08-18T00:30:21.916Z"
   },
   {
    "duration": 0,
    "start_time": "2024-08-18T00:30:21.918Z"
   },
   {
    "duration": 5,
    "start_time": "2024-08-18T00:31:03.263Z"
   },
   {
    "duration": 4,
    "start_time": "2024-08-18T00:31:04.360Z"
   },
   {
    "duration": 18,
    "start_time": "2024-08-18T00:31:05.112Z"
   },
   {
    "duration": 155,
    "start_time": "2024-08-18T00:33:09.078Z"
   },
   {
    "duration": 184,
    "start_time": "2024-08-18T00:33:10.039Z"
   },
   {
    "duration": 20,
    "start_time": "2024-08-18T00:33:10.920Z"
   },
   {
    "duration": 516,
    "start_time": "2024-08-18T00:33:14.470Z"
   },
   {
    "duration": 497,
    "start_time": "2024-08-18T00:33:16.078Z"
   },
   {
    "duration": 15,
    "start_time": "2024-08-18T00:33:36.797Z"
   },
   {
    "duration": 450,
    "start_time": "2024-08-18T00:33:46.183Z"
   },
   {
    "duration": 47,
    "start_time": "2024-08-18T00:33:52.718Z"
   },
   {
    "duration": 20,
    "start_time": "2024-08-18T00:34:05.549Z"
   },
   {
    "duration": 18,
    "start_time": "2024-08-18T00:34:09.504Z"
   },
   {
    "duration": 7,
    "start_time": "2024-08-18T00:34:11.655Z"
   },
   {
    "duration": 315,
    "start_time": "2024-08-18T00:45:43.973Z"
   },
   {
    "duration": 401,
    "start_time": "2024-08-18T00:45:51.144Z"
   },
   {
    "duration": 234,
    "start_time": "2024-08-18T00:46:18.470Z"
   },
   {
    "duration": 397,
    "start_time": "2024-08-18T00:46:30.084Z"
   },
   {
    "duration": 8,
    "start_time": "2024-08-18T00:59:50.471Z"
   },
   {
    "duration": 7,
    "start_time": "2024-08-18T01:08:58.693Z"
   },
   {
    "duration": 827,
    "start_time": "2024-08-18T03:31:26.177Z"
   },
   {
    "duration": 2409,
    "start_time": "2024-08-18T03:31:27.007Z"
   },
   {
    "duration": 17,
    "start_time": "2024-08-18T03:31:29.419Z"
   },
   {
    "duration": 29,
    "start_time": "2024-08-18T03:31:29.440Z"
   },
   {
    "duration": 39,
    "start_time": "2024-08-18T03:31:29.472Z"
   },
   {
    "duration": 13,
    "start_time": "2024-08-18T03:31:29.515Z"
   },
   {
    "duration": 47,
    "start_time": "2024-08-18T03:31:29.531Z"
   },
   {
    "duration": 353,
    "start_time": "2024-08-18T03:31:29.581Z"
   },
   {
    "duration": 13,
    "start_time": "2024-08-18T03:31:29.937Z"
   },
   {
    "duration": 6,
    "start_time": "2024-08-18T03:31:29.972Z"
   },
   {
    "duration": 196,
    "start_time": "2024-08-18T03:31:29.982Z"
   },
   {
    "duration": 166,
    "start_time": "2024-08-18T03:31:30.182Z"
   },
   {
    "duration": 21,
    "start_time": "2024-08-18T03:31:30.351Z"
   },
   {
    "duration": 126,
    "start_time": "2024-08-18T03:31:30.375Z"
   },
   {
    "duration": 24,
    "start_time": "2024-08-18T03:31:30.504Z"
   },
   {
    "duration": 8,
    "start_time": "2024-08-18T03:31:30.531Z"
   },
   {
    "duration": 38,
    "start_time": "2024-08-18T03:31:30.569Z"
   },
   {
    "duration": 22,
    "start_time": "2024-08-18T03:31:30.609Z"
   },
   {
    "duration": 40,
    "start_time": "2024-08-18T03:31:30.634Z"
   },
   {
    "duration": 10,
    "start_time": "2024-08-18T03:31:30.677Z"
   },
   {
    "duration": 6,
    "start_time": "2024-08-18T03:31:30.693Z"
   },
   {
    "duration": 10,
    "start_time": "2024-08-18T03:31:30.703Z"
   },
   {
    "duration": 6,
    "start_time": "2024-08-18T03:31:30.716Z"
   },
   {
    "duration": 2124,
    "start_time": "2024-08-18T03:31:30.725Z"
   },
   {
    "duration": 456,
    "start_time": "2024-08-18T03:31:32.852Z"
   },
   {
    "duration": 4916,
    "start_time": "2024-08-18T20:46:23.375Z"
   },
   {
    "duration": 1816,
    "start_time": "2024-08-18T20:46:28.295Z"
   },
   {
    "duration": 22,
    "start_time": "2024-08-18T20:46:30.113Z"
   },
   {
    "duration": 17,
    "start_time": "2024-08-18T20:46:30.139Z"
   },
   {
    "duration": 74,
    "start_time": "2024-08-18T20:46:30.159Z"
   },
   {
    "duration": 14,
    "start_time": "2024-08-18T20:46:30.237Z"
   },
   {
    "duration": 15,
    "start_time": "2024-08-18T20:46:30.254Z"
   },
   {
    "duration": 399,
    "start_time": "2024-08-18T20:46:30.303Z"
   },
   {
    "duration": 22,
    "start_time": "2024-08-18T20:46:30.706Z"
   },
   {
    "duration": 10,
    "start_time": "2024-08-18T20:46:30.742Z"
   },
   {
    "duration": 273,
    "start_time": "2024-08-18T20:46:30.756Z"
   },
   {
    "duration": 209,
    "start_time": "2024-08-18T20:46:31.032Z"
   },
   {
    "duration": 14,
    "start_time": "2024-08-18T20:46:31.246Z"
   },
   {
    "duration": 175,
    "start_time": "2024-08-18T20:46:31.263Z"
   },
   {
    "duration": 31,
    "start_time": "2024-08-18T20:46:31.442Z"
   },
   {
    "duration": 13,
    "start_time": "2024-08-18T20:46:31.501Z"
   },
   {
    "duration": 53,
    "start_time": "2024-08-18T20:46:31.518Z"
   },
   {
    "duration": 43,
    "start_time": "2024-08-18T20:46:31.574Z"
   },
   {
    "duration": 20,
    "start_time": "2024-08-18T20:46:31.620Z"
   },
   {
    "duration": 10,
    "start_time": "2024-08-18T20:46:31.644Z"
   },
   {
    "duration": 47,
    "start_time": "2024-08-18T20:46:31.658Z"
   },
   {
    "duration": 8,
    "start_time": "2024-08-18T20:46:31.709Z"
   },
   {
    "duration": 6,
    "start_time": "2024-08-18T20:46:31.720Z"
   },
   {
    "duration": 1634,
    "start_time": "2024-08-18T20:46:31.730Z"
   },
   {
    "duration": 614,
    "start_time": "2024-08-18T20:46:33.366Z"
   },
   {
    "duration": 5235,
    "start_time": "2024-08-18T20:46:33.983Z"
   },
   {
    "duration": 17,
    "start_time": "2024-08-18T20:46:39.221Z"
   },
   {
    "duration": 15,
    "start_time": "2024-08-18T20:46:39.250Z"
   },
   {
    "duration": 40,
    "start_time": "2024-08-18T20:46:39.268Z"
   },
   {
    "duration": 18,
    "start_time": "2024-08-18T20:46:39.311Z"
   },
   {
    "duration": 12,
    "start_time": "2024-08-18T20:46:39.332Z"
   },
   {
    "duration": 60,
    "start_time": "2024-08-18T20:46:39.347Z"
   },
   {
    "duration": 9,
    "start_time": "2024-08-18T20:46:39.410Z"
   },
   {
    "duration": 22,
    "start_time": "2024-08-18T20:46:39.422Z"
   },
   {
    "duration": 97,
    "start_time": "2024-08-18T20:46:39.447Z"
   },
   {
    "duration": 12,
    "start_time": "2024-08-18T20:46:39.548Z"
   },
   {
    "duration": 76,
    "start_time": "2024-08-18T20:46:39.563Z"
   },
   {
    "duration": 96,
    "start_time": "2024-08-18T20:46:39.643Z"
   },
   {
    "duration": 18,
    "start_time": "2024-08-18T20:46:39.742Z"
   },
   {
    "duration": 41,
    "start_time": "2024-08-18T20:46:39.763Z"
   },
   {
    "duration": 12,
    "start_time": "2024-08-18T20:46:39.808Z"
   },
   {
    "duration": 444,
    "start_time": "2024-08-18T20:46:39.823Z"
   },
   {
    "duration": 350,
    "start_time": "2024-08-18T20:46:40.270Z"
   },
   {
    "duration": 339,
    "start_time": "2024-08-18T20:46:40.623Z"
   },
   {
    "duration": 7,
    "start_time": "2024-08-18T20:46:40.965Z"
   },
   {
    "duration": 31,
    "start_time": "2024-08-18T20:46:40.976Z"
   },
   {
    "duration": 10,
    "start_time": "2024-08-18T20:46:41.011Z"
   },
   {
    "duration": 416,
    "start_time": "2024-08-18T20:46:41.024Z"
   },
   {
    "duration": 86,
    "start_time": "2024-08-18T20:46:41.443Z"
   },
   {
    "duration": 446,
    "start_time": "2024-08-18T20:46:41.533Z"
   },
   {
    "duration": 185,
    "start_time": "2024-08-18T20:46:41.983Z"
   },
   {
    "duration": 7,
    "start_time": "2024-08-18T20:46:42.171Z"
   },
   {
    "duration": 27,
    "start_time": "2024-08-18T20:46:42.181Z"
   },
   {
    "duration": 597,
    "start_time": "2024-08-18T20:46:42.212Z"
   },
   {
    "duration": 302,
    "start_time": "2024-08-18T20:46:42.813Z"
   },
   {
    "duration": 266,
    "start_time": "2024-08-18T20:46:43.119Z"
   },
   {
    "duration": 13,
    "start_time": "2024-08-18T20:46:43.389Z"
   },
   {
    "duration": 5,
    "start_time": "2024-08-18T20:46:43.405Z"
   },
   {
    "duration": 21,
    "start_time": "2024-08-18T20:46:43.413Z"
   },
   {
    "duration": 199,
    "start_time": "2024-08-18T20:46:43.437Z"
   },
   {
    "duration": 208,
    "start_time": "2024-08-18T20:46:43.639Z"
   },
   {
    "duration": 18,
    "start_time": "2024-08-18T20:46:43.849Z"
   },
   {
    "duration": 590,
    "start_time": "2024-08-18T20:46:43.870Z"
   },
   {
    "duration": 592,
    "start_time": "2024-08-18T20:46:44.464Z"
   },
   {
    "duration": 63,
    "start_time": "2024-08-18T20:46:45.060Z"
   },
   {
    "duration": 20,
    "start_time": "2024-08-18T20:46:45.126Z"
   },
   {
    "duration": 7,
    "start_time": "2024-08-18T20:46:45.149Z"
   },
   {
    "duration": 274,
    "start_time": "2024-08-18T20:53:02.501Z"
   },
   {
    "duration": 278,
    "start_time": "2024-08-18T20:53:32.228Z"
   },
   {
    "duration": 4315,
    "start_time": "2024-08-18T23:57:36.033Z"
   },
   {
    "duration": 1636,
    "start_time": "2024-08-18T23:57:40.352Z"
   },
   {
    "duration": 25,
    "start_time": "2024-08-18T23:57:41.991Z"
   },
   {
    "duration": 33,
    "start_time": "2024-08-18T23:57:42.020Z"
   },
   {
    "duration": 44,
    "start_time": "2024-08-18T23:57:42.058Z"
   },
   {
    "duration": 44,
    "start_time": "2024-08-18T23:57:42.105Z"
   },
   {
    "duration": 14,
    "start_time": "2024-08-18T23:57:42.152Z"
   },
   {
    "duration": 372,
    "start_time": "2024-08-18T23:57:42.170Z"
   },
   {
    "duration": 13,
    "start_time": "2024-08-18T23:57:42.545Z"
   },
   {
    "duration": 7,
    "start_time": "2024-08-18T23:57:42.564Z"
   },
   {
    "duration": 204,
    "start_time": "2024-08-18T23:57:42.574Z"
   },
   {
    "duration": 169,
    "start_time": "2024-08-18T23:57:42.781Z"
   },
   {
    "duration": 9,
    "start_time": "2024-08-18T23:57:42.953Z"
   },
   {
    "duration": 130,
    "start_time": "2024-08-18T23:57:42.964Z"
   },
   {
    "duration": 36,
    "start_time": "2024-08-18T23:57:43.098Z"
   },
   {
    "duration": 9,
    "start_time": "2024-08-18T23:57:43.137Z"
   },
   {
    "duration": 35,
    "start_time": "2024-08-18T23:57:43.149Z"
   },
   {
    "duration": 52,
    "start_time": "2024-08-18T23:57:43.188Z"
   },
   {
    "duration": 13,
    "start_time": "2024-08-18T23:57:43.243Z"
   },
   {
    "duration": 8,
    "start_time": "2024-08-18T23:57:43.259Z"
   },
   {
    "duration": 6,
    "start_time": "2024-08-18T23:57:43.270Z"
   },
   {
    "duration": 54,
    "start_time": "2024-08-18T23:57:43.280Z"
   },
   {
    "duration": 10,
    "start_time": "2024-08-18T23:57:43.336Z"
   },
   {
    "duration": 1317,
    "start_time": "2024-08-18T23:57:43.348Z"
   },
   {
    "duration": 480,
    "start_time": "2024-08-18T23:57:44.668Z"
   },
   {
    "duration": 4661,
    "start_time": "2024-08-18T23:57:45.152Z"
   },
   {
    "duration": 21,
    "start_time": "2024-08-18T23:57:49.816Z"
   },
   {
    "duration": 8,
    "start_time": "2024-08-18T23:57:49.847Z"
   },
   {
    "duration": 10,
    "start_time": "2024-08-18T23:57:49.858Z"
   },
   {
    "duration": 17,
    "start_time": "2024-08-18T23:57:49.870Z"
   },
   {
    "duration": 14,
    "start_time": "2024-08-18T23:57:49.931Z"
   },
   {
    "duration": 14,
    "start_time": "2024-08-18T23:57:49.949Z"
   },
   {
    "duration": 9,
    "start_time": "2024-08-18T23:57:49.967Z"
   },
   {
    "duration": 63,
    "start_time": "2024-08-18T23:57:49.979Z"
   },
   {
    "duration": 47,
    "start_time": "2024-08-18T23:57:50.045Z"
   },
   {
    "duration": 37,
    "start_time": "2024-08-18T23:57:50.095Z"
   },
   {
    "duration": 47,
    "start_time": "2024-08-18T23:57:50.135Z"
   },
   {
    "duration": 95,
    "start_time": "2024-08-18T23:57:50.186Z"
   },
   {
    "duration": 16,
    "start_time": "2024-08-18T23:57:50.283Z"
   },
   {
    "duration": 34,
    "start_time": "2024-08-18T23:57:50.302Z"
   },
   {
    "duration": 12,
    "start_time": "2024-08-18T23:57:50.339Z"
   },
   {
    "duration": 430,
    "start_time": "2024-08-18T23:57:50.354Z"
   },
   {
    "duration": 325,
    "start_time": "2024-08-18T23:57:50.787Z"
   },
   {
    "duration": 316,
    "start_time": "2024-08-18T23:57:51.115Z"
   },
   {
    "duration": 6,
    "start_time": "2024-08-18T23:57:51.434Z"
   },
   {
    "duration": 10,
    "start_time": "2024-08-18T23:57:51.444Z"
   },
   {
    "duration": 10,
    "start_time": "2024-08-18T23:57:51.457Z"
   },
   {
    "duration": 423,
    "start_time": "2024-08-18T23:57:51.470Z"
   },
   {
    "duration": 83,
    "start_time": "2024-08-18T23:57:51.896Z"
   },
   {
    "duration": 453,
    "start_time": "2024-08-18T23:57:51.981Z"
   },
   {
    "duration": 167,
    "start_time": "2024-08-18T23:57:52.438Z"
   },
   {
    "duration": 6,
    "start_time": "2024-08-18T23:57:52.607Z"
   },
   {
    "duration": 26,
    "start_time": "2024-08-18T23:57:52.616Z"
   },
   {
    "duration": 498,
    "start_time": "2024-08-18T23:57:52.649Z"
   },
   {
    "duration": 306,
    "start_time": "2024-08-18T23:57:53.150Z"
   },
   {
    "duration": 249,
    "start_time": "2024-08-18T23:57:53.460Z"
   },
   {
    "duration": 5,
    "start_time": "2024-08-18T23:57:53.712Z"
   },
   {
    "duration": 5,
    "start_time": "2024-08-18T23:57:53.731Z"
   },
   {
    "duration": 19,
    "start_time": "2024-08-18T23:57:53.739Z"
   },
   {
    "duration": 183,
    "start_time": "2024-08-18T23:57:53.761Z"
   },
   {
    "duration": 188,
    "start_time": "2024-08-18T23:57:53.946Z"
   },
   {
    "duration": 17,
    "start_time": "2024-08-18T23:57:54.137Z"
   },
   {
    "duration": 539,
    "start_time": "2024-08-18T23:57:54.157Z"
   },
   {
    "duration": 506,
    "start_time": "2024-08-18T23:57:54.699Z"
   },
   {
    "duration": 58,
    "start_time": "2024-08-18T23:57:55.207Z"
   },
   {
    "duration": 17,
    "start_time": "2024-08-18T23:57:55.269Z"
   },
   {
    "duration": 7,
    "start_time": "2024-08-18T23:57:55.288Z"
   },
   {
    "duration": 6,
    "start_time": "2024-08-19T00:00:13.344Z"
   },
   {
    "duration": 10,
    "start_time": "2024-08-19T00:00:14.537Z"
   },
   {
    "duration": 10,
    "start_time": "2024-08-19T00:00:15.720Z"
   },
   {
    "duration": 378,
    "start_time": "2024-08-19T00:00:18.837Z"
   },
   {
    "duration": 9,
    "start_time": "2024-08-19T00:34:34.968Z"
   },
   {
    "duration": 364,
    "start_time": "2024-08-19T00:34:36.239Z"
   },
   {
    "duration": 10,
    "start_time": "2024-08-19T00:36:04.862Z"
   },
   {
    "duration": 377,
    "start_time": "2024-08-19T00:36:06.207Z"
   },
   {
    "duration": 9,
    "start_time": "2024-08-19T00:36:36.086Z"
   },
   {
    "duration": 427,
    "start_time": "2024-08-19T00:36:37.390Z"
   },
   {
    "duration": 897,
    "start_time": "2024-08-19T00:40:12.051Z"
   },
   {
    "duration": 1179,
    "start_time": "2024-08-19T00:40:52.261Z"
   },
   {
    "duration": 357,
    "start_time": "2024-08-19T00:41:07.565Z"
   },
   {
    "duration": 365,
    "start_time": "2024-08-19T00:41:29.878Z"
   },
   {
    "duration": 171,
    "start_time": "2024-08-19T00:56:28.367Z"
   },
   {
    "duration": 161,
    "start_time": "2024-08-19T00:56:39.252Z"
   },
   {
    "duration": 4295,
    "start_time": "2024-08-19T03:27:20.780Z"
   },
   {
    "duration": 1714,
    "start_time": "2024-08-19T03:27:25.079Z"
   },
   {
    "duration": 22,
    "start_time": "2024-08-19T03:27:26.796Z"
   },
   {
    "duration": 17,
    "start_time": "2024-08-19T03:27:26.821Z"
   },
   {
    "duration": 69,
    "start_time": "2024-08-19T03:27:26.844Z"
   },
   {
    "duration": 13,
    "start_time": "2024-08-19T03:27:26.917Z"
   },
   {
    "duration": 13,
    "start_time": "2024-08-19T03:27:26.933Z"
   },
   {
    "duration": 368,
    "start_time": "2024-08-19T03:27:26.949Z"
   },
   {
    "duration": 13,
    "start_time": "2024-08-19T03:27:27.320Z"
   },
   {
    "duration": 7,
    "start_time": "2024-08-19T03:27:27.336Z"
   },
   {
    "duration": 220,
    "start_time": "2024-08-19T03:27:27.347Z"
   },
   {
    "duration": 173,
    "start_time": "2024-08-19T03:27:27.570Z"
   },
   {
    "duration": 10,
    "start_time": "2024-08-19T03:27:27.746Z"
   },
   {
    "duration": 151,
    "start_time": "2024-08-19T03:27:27.763Z"
   },
   {
    "duration": 24,
    "start_time": "2024-08-19T03:27:27.917Z"
   },
   {
    "duration": 8,
    "start_time": "2024-08-19T03:27:27.945Z"
   },
   {
    "duration": 70,
    "start_time": "2024-08-19T03:27:27.956Z"
   },
   {
    "duration": 20,
    "start_time": "2024-08-19T03:27:28.029Z"
   },
   {
    "duration": 13,
    "start_time": "2024-08-19T03:27:28.052Z"
   },
   {
    "duration": 46,
    "start_time": "2024-08-19T03:27:28.069Z"
   },
   {
    "duration": 6,
    "start_time": "2024-08-19T03:27:28.118Z"
   },
   {
    "duration": 7,
    "start_time": "2024-08-19T03:27:28.127Z"
   },
   {
    "duration": 8,
    "start_time": "2024-08-19T03:27:28.138Z"
   },
   {
    "duration": 1368,
    "start_time": "2024-08-19T03:27:28.150Z"
   },
   {
    "duration": 476,
    "start_time": "2024-08-19T03:27:29.521Z"
   },
   {
    "duration": 4813,
    "start_time": "2024-08-19T03:27:30.000Z"
   },
   {
    "duration": 13,
    "start_time": "2024-08-19T03:27:34.816Z"
   },
   {
    "duration": 10,
    "start_time": "2024-08-19T03:27:34.833Z"
   },
   {
    "duration": 9,
    "start_time": "2024-08-19T03:27:34.846Z"
   },
   {
    "duration": 62,
    "start_time": "2024-08-19T03:27:34.858Z"
   },
   {
    "duration": 11,
    "start_time": "2024-08-19T03:27:34.923Z"
   },
   {
    "duration": 14,
    "start_time": "2024-08-19T03:27:34.937Z"
   },
   {
    "duration": 11,
    "start_time": "2024-08-19T03:27:34.954Z"
   },
   {
    "duration": 56,
    "start_time": "2024-08-19T03:27:34.968Z"
   },
   {
    "duration": 48,
    "start_time": "2024-08-19T03:27:35.027Z"
   },
   {
    "duration": 43,
    "start_time": "2024-08-19T03:27:35.078Z"
   },
   {
    "duration": 46,
    "start_time": "2024-08-19T03:27:35.124Z"
   },
   {
    "duration": 96,
    "start_time": "2024-08-19T03:27:35.173Z"
   },
   {
    "duration": 16,
    "start_time": "2024-08-19T03:27:35.272Z"
   },
   {
    "duration": 28,
    "start_time": "2024-08-19T03:27:35.291Z"
   },
   {
    "duration": 13,
    "start_time": "2024-08-19T03:27:35.330Z"
   },
   {
    "duration": 440,
    "start_time": "2024-08-19T03:27:35.347Z"
   },
   {
    "duration": 290,
    "start_time": "2024-08-19T03:27:35.790Z"
   },
   {
    "duration": 365,
    "start_time": "2024-08-19T03:27:36.083Z"
   },
   {
    "duration": 6,
    "start_time": "2024-08-19T03:27:36.451Z"
   },
   {
    "duration": 9,
    "start_time": "2024-08-19T03:27:36.460Z"
   },
   {
    "duration": 44,
    "start_time": "2024-08-19T03:27:36.472Z"
   },
   {
    "duration": 382,
    "start_time": "2024-08-19T03:27:36.520Z"
   },
   {
    "duration": 72,
    "start_time": "2024-08-19T03:27:36.905Z"
   },
   {
    "duration": 428,
    "start_time": "2024-08-19T03:27:36.979Z"
   },
   {
    "duration": 203,
    "start_time": "2024-08-19T03:27:37.414Z"
   },
   {
    "duration": 6,
    "start_time": "2024-08-19T03:27:37.620Z"
   },
   {
    "duration": 13,
    "start_time": "2024-08-19T03:27:37.631Z"
   },
   {
    "duration": 537,
    "start_time": "2024-08-19T03:27:37.648Z"
   },
   {
    "duration": 319,
    "start_time": "2024-08-19T03:27:38.188Z"
   },
   {
    "duration": 252,
    "start_time": "2024-08-19T03:27:38.514Z"
   },
   {
    "duration": 5,
    "start_time": "2024-08-19T03:27:38.769Z"
   },
   {
    "duration": 4,
    "start_time": "2024-08-19T03:27:38.779Z"
   },
   {
    "duration": 40,
    "start_time": "2024-08-19T03:27:38.785Z"
   },
   {
    "duration": 165,
    "start_time": "2024-08-19T03:27:38.829Z"
   },
   {
    "duration": 199,
    "start_time": "2024-08-19T03:27:38.998Z"
   },
   {
    "duration": 21,
    "start_time": "2024-08-19T03:27:39.201Z"
   },
   {
    "duration": 535,
    "start_time": "2024-08-19T03:27:39.225Z"
   },
   {
    "duration": 513,
    "start_time": "2024-08-19T03:27:39.762Z"
   },
   {
    "duration": 62,
    "start_time": "2024-08-19T03:27:40.278Z"
   },
   {
    "duration": 19,
    "start_time": "2024-08-19T03:27:40.343Z"
   },
   {
    "duration": 9,
    "start_time": "2024-08-19T03:27:40.364Z"
   }
  ],
  "colab": {
   "provenance": []
  },
  "kernelspec": {
   "display_name": "Python 3 (ipykernel)",
   "language": "python",
   "name": "python3"
  },
  "language_info": {
   "codemirror_mode": {
    "name": "ipython",
    "version": 3
   },
   "file_extension": ".py",
   "mimetype": "text/x-python",
   "name": "python",
   "nbconvert_exporter": "python",
   "pygments_lexer": "ipython3",
   "version": "3.12.4"
  },
  "toc": {
   "base_numbering": 1,
   "nav_menu": {},
   "number_sections": true,
   "sideBar": true,
   "skip_h1_title": true,
   "title_cell": "Table of Contents",
   "title_sidebar": "Contents",
   "toc_cell": false,
   "toc_position": {},
   "toc_section_display": true,
   "toc_window_display": false
  },
  "vscode": {
   "interpreter": {
    "hash": "01a7be9ec63e704a62cefc5fe7a4756944464ee731be31632bdf42a4cb4688cf"
   }
  }
 },
 "nbformat": 4,
 "nbformat_minor": 5
}
